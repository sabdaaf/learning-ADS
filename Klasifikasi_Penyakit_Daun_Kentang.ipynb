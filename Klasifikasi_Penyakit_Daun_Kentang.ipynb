{
  "cells": [
    {
      "cell_type": "markdown",
      "metadata": {
        "id": "view-in-github",
        "colab_type": "text"
      },
      "source": [
        "<a href=\"https://colab.research.google.com/github/sabdaaf/learning-ADS/blob/main/Klasifikasi_Penyakit_Daun_Kentang.ipynb\" target=\"_parent\"><img src=\"https://colab.research.google.com/assets/colab-badge.svg\" alt=\"Open In Colab\"/></a>"
      ]
    },
    {
      "cell_type": "markdown",
      "metadata": {
        "collapsed": false,
        "jupyter": {
          "outputs_hidden": false
        },
        "id": "EnpDIGmprm11"
      },
      "source": [
        "# Klasifikasi Penyakit Daun Kentang"
      ]
    },
    {
      "cell_type": "code",
      "execution_count": 1,
      "metadata": {
        "ExecuteTime": {
          "end_time": "2024-02-01T17:15:39.084553Z",
          "start_time": "2024-02-01T17:15:38.834744Z"
        },
        "jupyter": {
          "outputs_hidden": false
        },
        "colab": {
          "base_uri": "https://localhost:8080/",
          "height": 256
        },
        "id": "hqMFSzytrm1_",
        "outputId": "bc41df1b-1616-47e9-dead-8dc1d3d3ee9b"
      },
      "outputs": [
        {
          "output_type": "error",
          "ename": "error",
          "evalue": "OpenCV(4.11.0) /io/opencv/modules/imgproc/src/color.cpp:199: error: (-215:Assertion failed) !_src.empty() in function 'cvtColor'\n",
          "traceback": [
            "\u001b[0;31m---------------------------------------------------------------------------\u001b[0m",
            "\u001b[0;31merror\u001b[0m                                     Traceback (most recent call last)",
            "\u001b[0;32m/tmp/ipython-input-1-334379377.py\u001b[0m in \u001b[0;36m<cell line: 0>\u001b[0;34m()\u001b[0m\n\u001b[1;32m      6\u001b[0m \u001b[0;34m\u001b[0m\u001b[0m\n\u001b[1;32m      7\u001b[0m \u001b[0msehat\u001b[0m \u001b[0;34m=\u001b[0m \u001b[0mcv2\u001b[0m\u001b[0;34m.\u001b[0m\u001b[0mimread\u001b[0m\u001b[0;34m(\u001b[0m\u001b[0;34m'./Sehat.jpg'\u001b[0m\u001b[0;34m)\u001b[0m\u001b[0;34m\u001b[0m\u001b[0;34m\u001b[0m\u001b[0m\n\u001b[0;32m----> 8\u001b[0;31m \u001b[0mhasil_sehat\u001b[0m \u001b[0;34m=\u001b[0m \u001b[0mcv2\u001b[0m\u001b[0;34m.\u001b[0m\u001b[0mcvtColor\u001b[0m\u001b[0;34m(\u001b[0m\u001b[0msehat\u001b[0m\u001b[0;34m,\u001b[0m \u001b[0mcv2\u001b[0m\u001b[0;34m.\u001b[0m\u001b[0mCOLOR_BGR2RGB\u001b[0m\u001b[0;34m)\u001b[0m\u001b[0;34m\u001b[0m\u001b[0;34m\u001b[0m\u001b[0m\n\u001b[0m\u001b[1;32m      9\u001b[0m \u001b[0;34m\u001b[0m\u001b[0m\n\u001b[1;32m     10\u001b[0m \u001b[0mplt\u001b[0m\u001b[0;34m.\u001b[0m\u001b[0msubplot\u001b[0m\u001b[0;34m(\u001b[0m\u001b[0;36m1\u001b[0m\u001b[0;34m,\u001b[0m \u001b[0;36m2\u001b[0m\u001b[0;34m,\u001b[0m \u001b[0;36m1\u001b[0m\u001b[0;34m)\u001b[0m\u001b[0;34m\u001b[0m\u001b[0;34m\u001b[0m\u001b[0m\n",
            "\u001b[0;31merror\u001b[0m: OpenCV(4.11.0) /io/opencv/modules/imgproc/src/color.cpp:199: error: (-215:Assertion failed) !_src.empty() in function 'cvtColor'\n"
          ]
        },
        {
          "output_type": "display_data",
          "data": {
            "text/plain": [
              "<Figure size 1000x1000 with 0 Axes>"
            ]
          },
          "metadata": {}
        }
      ],
      "source": [
        "import cv2\n",
        "import matplotlib.pyplot as plt\n",
        "import numpy as np\n",
        "\n",
        "plt.figure(figsize=(10,10))\n",
        "\n",
        "sehat = cv2.imread('./Sehat.jpg')\n",
        "hasil_sehat = cv2.cvtColor(sehat, cv2.COLOR_BGR2RGB)\n",
        "\n",
        "plt.subplot(1, 2, 1)\n",
        "plt.imshow(hasil_sehat)\n",
        "plt.title('Sehat')\n",
        "plt.axis('off')\n",
        "\n",
        "\n",
        "sakit = cv2.imread('./Sakit.jpg')\n",
        "hasil_sakit = cv2.cvtColor(sakit, cv2.COLOR_BGR2RGB)\n",
        "\n",
        "plt.subplot(1, 2, 2)\n",
        "plt.imshow(hasil_sakit)\n",
        "plt.title('Sakit')\n",
        "plt.axis('off')\n",
        "\n",
        "plt.show()"
      ]
    },
    {
      "cell_type": "code",
      "source": [
        "from google.colab import drive\n",
        "drive.mount('/content/drive')"
      ],
      "metadata": {
        "id": "blOJwmdPyyeX"
      },
      "execution_count": null,
      "outputs": []
    },
    {
      "cell_type": "markdown",
      "metadata": {
        "collapsed": false,
        "jupyter": {
          "outputs_hidden": false
        },
        "id": "_Z9iAkbBrm2B"
      },
      "source": [
        "## Training"
      ]
    },
    {
      "cell_type": "code",
      "execution_count": null,
      "metadata": {
        "id": "ODWCEu-zrm2C"
      },
      "outputs": [],
      "source": [
        "import cv2\n",
        "import numpy as np\n",
        "import os\n",
        "import mahotas\n",
        "from sklearn.ensemble import RandomForestClassifier\n",
        "from sklearn.preprocessing import LabelEncoder\n",
        "from sklearn.model_selection import train_test_split\n",
        "from sklearn.metrics import classification_report\n",
        "import pickle\n",
        "\n",
        "# Parameters\n",
        "fixed_size = tuple((500, 500))\n",
        "train_path = \"Dataset/Train\"\n",
        "bins = 8\n",
        "\n",
        "# Function to extract features\n",
        "def extract_features(image):\n",
        "    gray = cv2.cvtColor(image, cv2.COLOR_BGR2GRAY)\n",
        "    haralick = mahotas.features.haralick(gray).mean(axis=0)\n",
        "    hist = cv2.calcHist([image], [0, 1, 2], None, [bins, bins, bins], [0, 256, 0, 256, 0, 256])\n",
        "    hist = cv2.normalize(hist, hist).flatten()\n",
        "    return np.hstack([haralick, hist])\n",
        "\n",
        "# Load dataset\n",
        "data = []\n",
        "labels = []\n",
        "\n",
        "for folder in os.listdir(train_path):\n",
        "    folder_path = os.path.join(train_path, folder)\n",
        "    if not os.path.isdir(folder_path):\n",
        "        continue\n",
        "    for file_name in os.listdir(folder_path):\n",
        "        file_path = os.path.join(folder_path, file_name)\n",
        "        image = cv2.imread(file_path)\n",
        "        if image is None:\n",
        "            continue\n",
        "        image = cv2.resize(image, fixed_size)\n",
        "        features = extract_features(image)\n",
        "        data.append(features)\n",
        "        labels.append(folder)\n",
        "\n",
        "# Encode labels\n",
        "le = LabelEncoder()\n",
        "labels = le.fit_transform(labels)\n",
        "\n",
        "# Split dataset\n",
        "X_train, X_test, y_train, y_test = train_test_split(data, labels, test_size=0.2, random_state=42)\n",
        "\n",
        "# Train model\n",
        "model = RandomForestClassifier(n_estimators=100, random_state=42)\n",
        "model.fit(X_train, y_train)\n",
        "\n",
        "# Evaluate model\n",
        "predictions = model.predict(X_test)\n",
        "print(classification_report(y_test, predictions, target_names=le.classes_))\n",
        "\n",
        "# Save model\n",
        "with open(\"leaf_disease_model.pkl\", 'wb') as file:\n",
        "    pickle.dump(model, file)\n",
        "\n",
        "print(\"Model saved as 'leaf_disease_model.pkl'\")"
      ]
    },
    {
      "cell_type": "code",
      "execution_count": null,
      "metadata": {
        "id": "ehse4VbLrm2D"
      },
      "outputs": [],
      "source": [
        "import cv2\n",
        "import numpy as np\n",
        "import mahotas\n",
        "\n",
        "def extract_features(image, bins=8):\n",
        "    gray = cv2.cvtColor(image, cv2.COLOR_BGR2GRAY)\n",
        "    haralick = mahotas.features.haralick(gray).mean(axis=0)\n",
        "    hist = cv2.calcHist([image], [0, 1, 2], None, [bins, bins, bins], [0, 256, 0, 256, 0, 256])\n",
        "    hist = cv2.normalize(hist, hist).flatten()\n",
        "    return np.hstack([haralick, hist])"
      ]
    },
    {
      "cell_type": "code",
      "execution_count": null,
      "metadata": {
        "id": "4iSDZKj7rm2E"
      },
      "outputs": [],
      "source": [
        "import cv2\n",
        "import numpy as np\n",
        "\n",
        "image_path = \"Test.jpg\"\n",
        "model_path = \"leaf_disease_model.pkl\"\n",
        "\n",
        "# Load the image\n",
        "image = cv2.imread(image_path)\n",
        "\n",
        "if image is not None:\n",
        "    # Resize the image\n",
        "    fixed_size = (500, 500)\n",
        "    image_resized = cv2.resize(image, fixed_size)\n",
        "\n",
        "    features = extract_features(image_resized)\n",
        "    features = features.reshape(1, -1)\n",
        "\n",
        "    # Make a prediction\n",
        "    prediction = model.predict(features)\n",
        "\n",
        "    # Define class names\n",
        "    class_names = ['Sakit', 'Sehat']\n",
        "    print(f\"Predicted : {class_names[int(prediction[0])]}\")\n",
        "else:\n",
        "    print(\"Error loading image!\")\n"
      ]
    },
    {
      "cell_type": "code",
      "execution_count": null,
      "metadata": {
        "id": "lKbIBT1Urm2F"
      },
      "outputs": [],
      "source": [
        "import matplotlib.pyplot as plt\n",
        "\n",
        "# Display the image and prediction result\n",
        "plt.imshow(cv2.cvtColor(image, cv2.COLOR_BGR2RGB))\n",
        "plt.title(f\"Prediction: {class_names[int(prediction)]}\")\n",
        "plt.axis('off')\n",
        "plt.show()"
      ]
    },
    {
      "cell_type": "code",
      "execution_count": null,
      "metadata": {
        "id": "wli6JxOkrm2F"
      },
      "outputs": [],
      "source": [
        "import cv2\n",
        "import numpy as np\n",
        "import matplotlib.pyplot as plt\n",
        "\n",
        "def leaf_segment(hsv_image):\n",
        "    lower_green = np.array([25, 0, 20])\n",
        "    upper_green = np.array([100, 255, 255])\n",
        "    leaf_mask = cv2.inRange(hsv_image, lower_green, upper_green)\n",
        "    return leaf_mask\n",
        "\n",
        "def disease_segment(hsv_image):\n",
        "    lower_disease = np.array([10, 50, 50])\n",
        "    upper_disease = np.array([40, 255, 255])\n",
        "    disease_mask = cv2.inRange(hsv_image, lower_disease, upper_disease)\n",
        "    return disease_mask\n",
        "\n",
        "def detect_disease_area(image):\n",
        "    hsv_image = cv2.cvtColor(image, cv2.COLOR_BGR2HSV)\n",
        "\n",
        "    leaf_mask = leaf_segment(hsv_image)\n",
        "    disease_mask = disease_segment(hsv_image)\n",
        "\n",
        "    combined_mask = cv2.bitwise_and(leaf_mask, disease_mask)\n",
        "\n",
        "    contours, _ = cv2.findContours(combined_mask, cv2.RETR_EXTERNAL, cv2.CHAIN_APPROX_SIMPLE)\n",
        "\n",
        "    result_image = image.copy()\n",
        "    for contour in contours:\n",
        "        if cv2.contourArea(contour) > 500:\n",
        "            x, y, w, h = cv2.boundingRect(contour)\n",
        "            cv2.rectangle(result_image, (x, y), (x + w, y + h), (0, 0, 255), 2)\n",
        "\n",
        "    return result_image, combined_mask\n",
        "\n",
        "image_path = \"Test.jpg\"\n",
        "image = cv2.imread(image_path)\n",
        "\n",
        "if image is not None:\n",
        "    result_image, combined_mask = detect_disease_area(image)\n",
        "\n",
        "    plt.figure(figsize=(10, 5))\n",
        "\n",
        "    plt.subplot(1, 3, 1)\n",
        "    plt.imshow(cv2.cvtColor(image, cv2.COLOR_BGR2RGB))\n",
        "    plt.title(\"Original Image\")\n",
        "    plt.axis(\"off\")\n",
        "\n",
        "    # Mask penyakit\n",
        "    plt.subplot(1, 3, 2)\n",
        "    plt.imshow(combined_mask, cmap='gray')"
      ]
    },
    {
      "cell_type": "code",
      "execution_count": null,
      "metadata": {
        "ExecuteTime": {
          "end_time": "2024-02-01T17:15:39.188342Z",
          "start_time": "2024-02-01T17:15:39.084419Z"
        },
        "jupyter": {
          "outputs_hidden": false
        },
        "id": "fRfQ7nHsrm2H"
      },
      "outputs": [],
      "source": [
        "image = cv2.imread('Test.jpg')\n",
        "plt.imshow(image)\n",
        "plt.axis('off')\n",
        "plt.show()"
      ]
    },
    {
      "cell_type": "code",
      "execution_count": null,
      "metadata": {
        "ExecuteTime": {
          "end_time": "2024-02-01T17:15:39.287634Z",
          "start_time": "2024-02-01T17:15:39.187548Z"
        },
        "jupyter": {
          "outputs_hidden": false
        },
        "id": "VJgftlNMrm2I"
      },
      "outputs": [],
      "source": [
        "#Ubah RGB menjadi BGR\n",
        "\n",
        "def bgr2rgb(image):\n",
        "    rgb_img = cv2.cvtColor(image, cv2.COLOR_BGR2RGB)\n",
        "    return rgb_img\n",
        "\n",
        "rgb_image = bgr2rgb(image)\n",
        "\n",
        "plt.imshow(rgb_image)\n",
        "plt.axis('off')\n",
        "plt.show()"
      ]
    },
    {
      "cell_type": "code",
      "execution_count": null,
      "metadata": {
        "ExecuteTime": {
          "end_time": "2024-02-01T17:15:39.398932Z",
          "start_time": "2024-02-01T17:15:39.293752Z"
        },
        "jupyter": {
          "outputs_hidden": false
        },
        "id": "GGaQ-2qMrm2J"
      },
      "outputs": [],
      "source": [
        "#Ubah RGB menjadi HSV\n",
        "\n",
        "def rgb2hsv(image):\n",
        "    hsv_image = cv2.cvtColor(image, cv2.COLOR_RGB2HSV)\n",
        "    return hsv_image\n",
        "\n",
        "hsv_image = rgb2hsv(rgb_image)\n",
        "\n",
        "plt.imshow(hsv_image)\n",
        "plt.axis('off')\n",
        "plt.show()"
      ]
    },
    {
      "cell_type": "code",
      "execution_count": null,
      "metadata": {
        "ExecuteTime": {
          "end_time": "2024-02-01T17:15:39.497210Z",
          "start_time": "2024-02-01T17:15:39.399476Z"
        },
        "jupyter": {
          "outputs_hidden": false
        },
        "id": "0UNwITEorm2J"
      },
      "outputs": [],
      "source": [
        "#Spot yang terkena penyakit\n",
        "\n",
        "def leaf_segment(hsv_image):\n",
        "    lower_green = np.array([25,0,20])\n",
        "    upper_green = np.array([100,255,255])\n",
        "    leaf_mask = cv2.inRange(hsv_image, lower_green, upper_green)\n",
        "    return leaf_mask\n",
        "\n",
        "leaf_result = cv2.bitwise_and(rgb_image, rgb_image, mask=leaf_segment(hsv_image))\n",
        "\n",
        "plt.imshow(leaf_result)\n",
        "plt.show()"
      ]
    },
    {
      "cell_type": "code",
      "execution_count": null,
      "metadata": {
        "ExecuteTime": {
          "end_time": "2024-02-01T17:15:39.571063Z",
          "start_time": "2024-02-01T17:15:39.497429Z"
        },
        "jupyter": {
          "outputs_hidden": false
        },
        "id": "YbuhBWTgrm2K"
      },
      "outputs": [],
      "source": [
        "#Spot yang tidak terkena penyakit\n",
        "\n",
        "def spot_segment(hsv_image):\n",
        "    lower_brown = np.array([10,0,10])\n",
        "    upper_brown = np.array([30,255,255])\n",
        "    spot_mask = cv2.inRange(hsv_image, lower_brown, upper_brown)\n",
        "    return spot_mask\n",
        "\n",
        "spots_result = cv2.bitwise_and(rgb_image, rgb_image, mask=spot_segment(hsv_image))\n",
        "\n",
        "plt.imshow(spots_result)\n",
        "plt.show()"
      ]
    },
    {
      "cell_type": "code",
      "execution_count": null,
      "metadata": {
        "ExecuteTime": {
          "end_time": "2024-02-01T17:15:39.706505Z",
          "start_time": "2024-02-01T17:15:39.570887Z"
        },
        "jupyter": {
          "outputs_hidden": false
        },
        "id": "ECVVTqyUrm2L"
      },
      "outputs": [],
      "source": [
        "def final_segment(rgb_image, hsv_image):\n",
        "    leaf = leaf_segment(hsv_image)\n",
        "    spots = spot_segment(hsv_image)\n",
        "    final_mask = leaf + spots\n",
        "    final_result = cv2.bitwise_and(rgb_image, rgb_image, mask=final_mask)\n",
        "    return final_result\n",
        "\n",
        "final_image = final_segment(rgb_image,hsv_image)\n",
        "plt.imshow(final_image)\n",
        "plt.show()"
      ]
    },
    {
      "cell_type": "code",
      "execution_count": null,
      "metadata": {
        "id": "Ba7hYb0brm2M"
      },
      "outputs": [],
      "source": [
        "import cv2\n",
        "import numpy as np\n",
        "import matplotlib.pyplot as plt\n",
        "\n",
        "def leaf_segment(hsv_image):\n",
        "    lower_green = np.array([25, 0, 20])\n",
        "    upper_green = np.array([100, 255, 255])\n",
        "    leaf_mask = cv2.inRange(hsv_image, lower_green, upper_green)\n",
        "    return leaf_mask\n",
        "\n",
        "def disease_segment(hsv_image):\n",
        "    lower_disease = np.array([10, 50, 50])\n",
        "    upper_disease = np.array([40, 255, 255])\n",
        "    disease_mask = cv2.inRange(hsv_image, lower_disease, upper_disease)\n",
        "    return disease_mask\n",
        "\n",
        "def preprocess_image(image):\n",
        "    gray_image = cv2.cvtColor(image, cv2.COLOR_BGR2GRAY)\n",
        "    equ = cv2.equalizeHist(gray_image)\n",
        "    return cv2.cvtColor(equ, cv2.COLOR_GRAY2BGR)\n",
        "\n",
        "def detect_disease_area(image):\n",
        "    image = preprocess_image(image)\n",
        "\n",
        "    hsv_image = cv2.cvtColor(image, cv2.COLOR_BGR2HSV)\n",
        "\n",
        "    leaf_mask = leaf_segment(hsv_image)\n",
        "    disease_mask = disease_segment(hsv_image)\n",
        "\n",
        "    combined_mask = cv2.bitwise_and(leaf_mask, disease_mask)\n",
        "    combined_mask = cv2.GaussianBlur(combined_mask, (5, 5), 0)\n",
        "\n",
        "    contours, _ = cv2.findContours(combined_mask, cv2.RETR_EXTERNAL, cv2.CHAIN_APPROX_SIMPLE)\n",
        "\n",
        "    result_image = image.copy()\n",
        "    for contour in contours:\n",
        "        if cv2.contourArea(contour) > 500:\n",
        "            x, y, w, h = cv2.boundingRect(contour)\n",
        "            cv2.rectangle(result_image, (x, y), (x + w, y + h), (0, 0, 255), 2)\n",
        "\n",
        "    return result_image, combined_mask\n",
        "\n",
        "# Load gambar\n",
        "image_path = \"Test.jpg\"\n",
        "image = cv2.imread(image_path)\n",
        "\n",
        "if image is not None:\n",
        "    result_image, combined_mask = detect_disease_area(image)\n",
        "\n",
        "    plt.figure(figsize=(15, 10))\n",
        "\n",
        "    plt.subplot(1, 3, 1)\n",
        "    plt.imshow(cv2.cvtColor(image, cv2.COLOR_BGR2RGB))\n",
        "    plt.title(\"Gambar Asli\")\n",
        "    plt.axis(\"off\")\n",
        "\n",
        "    plt.subplot(1, 3, 2)\n",
        "    plt.imshow(cv2.cvtColor(result_image, cv2.COLOR_BGR2RGB))\n",
        "    plt.title(\"Hasil Gambar dengan Bounding Boxes\")\n",
        "    plt.axis(\"off\")\n",
        "\n",
        "    plt.tight_layout()\n",
        "    plt.show()\n",
        "else:\n",
        "    print(\"Error dari gambar\")\n"
      ]
    },
    {
      "cell_type": "code",
      "execution_count": null,
      "metadata": {
        "id": "kXKE8uBjrm2M"
      },
      "outputs": [],
      "source": [
        "import cv2\n",
        "import numpy as np\n",
        "import matplotlib.pyplot as plt\n",
        "\n",
        "def leaf_segment(hsv_image):\n",
        "    lower_green = np.array([25, 50, 50])\n",
        "    upper_green = np.array([80, 255, 255])\n",
        "    leaf_mask = cv2.inRange(hsv_image, lower_green, upper_green)\n",
        "    return leaf_mask\n",
        "\n",
        "def detect_leaf(image):\n",
        "    hsv_image = cv2.cvtColor(image, cv2.COLOR_BGR2HSV)\n",
        "\n",
        "    leaf_mask = leaf_segment(hsv_image)\n",
        "\n",
        "    contours, _ = cv2.findContours(leaf_mask, cv2.RETR_EXTERNAL, cv2.CHAIN_APPROX_SIMPLE)\n",
        "\n",
        "    result_image = image.copy()\n",
        "\n",
        "    for contour in contours:\n",
        "        if cv2.contourArea(contour) > 500:\n",
        "            x, y, w, h = cv2.boundingRect(contour)\n",
        "            cv2.rectangle(result_image, (x, y), (x + w, y + h), (0, 255, 0), 2)\n",
        "\n",
        "    return result_image, leaf_mask\n",
        "\n",
        "image_path = \"Test.jpg\"\n",
        "image = cv2.imread(image_path)\n",
        "\n",
        "if image is not None:\n",
        "    result_image, leaf_mask = detect_leaf(image)\n",
        "\n",
        "    plt.figure(figsize=(15, 10))\n",
        "\n",
        "    plt.subplot(1, 3, 1)\n",
        "    plt.imshow(cv2.cvtColor(image, cv2.COLOR_BGR2RGB))\n",
        "    plt.title(\"Gambar Asli\")\n",
        "    plt.axis(\"off\")\n",
        "\n",
        "    # Mask daun\n",
        "    plt.subplot(1, 3, 2)\n",
        "    plt.imshow(leaf_mask, cmap='gray')\n",
        "    plt.title(\"Mask Daun\")\n",
        "    plt.axis(\"off\")\n",
        "\n",
        "    # Gambar dengan kotak pada daun\n",
        "    plt.subplot(1, 3, 3)\n",
        "    plt.imshow(cv2.cvtColor(result_image, cv2.COLOR_BGR2RGB))\n",
        "    plt.title(\"Deteksi Daun dengan Bounding Boxes\")\n",
        "    plt.axis(\"off\")\n",
        "\n",
        "    plt.tight_layout()\n",
        "    plt.show()\n",
        "\n",
        "else:\n",
        "    print(\"Error dari gambar\")"
      ]
    },
    {
      "cell_type": "code",
      "execution_count": null,
      "metadata": {
        "id": "6ttcrMsdrm2N"
      },
      "outputs": [],
      "source": [
        "import cv2\n",
        "import numpy as np\n",
        "import os\n",
        "import matplotlib.pyplot as plt\n",
        "\n",
        "def leaf_segment(hsv_image):\n",
        "    lower_green = np.array([25, 50, 50])\n",
        "    upper_green = np.array([80, 255, 255])\n",
        "    leaf_mask = cv2.inRange(hsv_image, lower_green, upper_green)\n",
        "    return leaf_mask\n",
        "\n",
        "def detect_leaf(image):\n",
        "    hsv_image = cv2.cvtColor(image, cv2.COLOR_BGR2HSV)\n",
        "    leaf_mask = leaf_segment(hsv_image)\n",
        "\n",
        "    contours, _ = cv2.findContours(leaf_mask, cv2.RETR_EXTERNAL, cv2.CHAIN_APPROX_SIMPLE)\n",
        "    result_image = image.copy()\n",
        "\n",
        "    for contour in contours:\n",
        "        if cv2.contourArea(contour) > 500:\n",
        "            x, y, w, h = cv2.boundingRect(contour)\n",
        "            cv2.rectangle(result_image, (x, y), (x + w, y + h), (0, 255, 0), 2)\n",
        "\n",
        "    return result_image, leaf_mask\n",
        "\n",
        "def process_folder(folder_path):\n",
        "    image_files = [f for f in os.listdir(folder_path) if f.lower().endswith(('jpg', 'jpeg', 'png'))]\n",
        "\n",
        "    for image_file in image_files:\n",
        "        image_path = os.path.join(folder_path, image_file)\n",
        "        image = cv2.imread(image_path)\n",
        "\n",
        "        if image is not None:\n",
        "            result_image, leaf_mask = detect_leaf(image)\n",
        "\n",
        "            plt.figure(figsize=(8, 4))\n",
        "\n",
        "            plt.subplot(1, 3, 1)\n",
        "            plt.imshow(cv2.cvtColor(result_image, cv2.COLOR_BGR2RGB))\n",
        "            plt.title(\"Hasil Deteksi\")\n",
        "            plt.axis(\"off\")\n",
        "\n",
        "            plt.tight_layout()\n",
        "            plt.show()\n",
        "        else:\n",
        "            print(f\"Failed to load image: {image_file}\")\n",
        "\n",
        "folder_path = 'Dataset/Train/Potato_early_blight'\n",
        "process_folder(folder_path)"
      ]
    },
    {
      "cell_type": "code",
      "execution_count": null,
      "metadata": {
        "id": "oFpitZMirm2W"
      },
      "outputs": [],
      "source": [
        "import cv2\n",
        "import numpy as np\n",
        "\n",
        "# Baca gambar\n",
        "image = cv2.imread(\"Test.jpg\")\n",
        "gray = cv2.cvtColor(image, cv2.COLOR_BGR2GRAY)\n",
        "\n",
        "# Segmentasi warna atau intensitas\n",
        "_, binary = cv2.threshold(gray, 150, 255, cv2.THRESH_BINARY_INV)\n",
        "\n",
        "# Deteksi kontur\n",
        "contours, _ = cv2.findContours(binary, cv2.RETR_EXTERNAL, cv2.CHAIN_APPROX_SIMPLE)\n",
        "\n",
        "# Gambar kontur pada gambar asli\n",
        "for contour in contours:\n",
        "    x, y, w, h = cv2.boundingRect(contour)\n",
        "    cv2.rectangle(image, (x, y), (x + w, y + h), (0, 255, 0), 2)\n",
        "\n",
        "cv2.imshow(\"Deteksi Penyakit\", image)\n",
        "cv2.waitKey(0)"
      ]
    }
  ],
  "metadata": {
    "kernelspec": {
      "display_name": "Python 3 (ipykernel)",
      "language": "python",
      "name": "python3"
    },
    "language_info": {
      "codemirror_mode": {
        "name": "ipython",
        "version": 3
      },
      "file_extension": ".py",
      "mimetype": "text/x-python",
      "name": "python",
      "nbconvert_exporter": "python",
      "pygments_lexer": "ipython3",
      "version": "3.10.6"
    },
    "colab": {
      "provenance": [],
      "include_colab_link": true
    }
  },
  "nbformat": 4,
  "nbformat_minor": 0
}