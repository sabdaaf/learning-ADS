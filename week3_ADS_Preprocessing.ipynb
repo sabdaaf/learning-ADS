{
  "nbformat": 4,
  "nbformat_minor": 0,
  "metadata": {
    "colab": {
      "provenance": [],
      "authorship_tag": "ABX9TyOAz5acadu9x9qIwa2IkAiL",
      "include_colab_link": true
    },
    "kernelspec": {
      "name": "python3",
      "display_name": "Python 3"
    },
    "language_info": {
      "name": "python"
    }
  },
  "cells": [
    {
      "cell_type": "markdown",
      "metadata": {
        "id": "view-in-github",
        "colab_type": "text"
      },
      "source": [
        "<a href=\"https://colab.research.google.com/github/sabdaaf/learning-ADS/blob/main/week3_ADS_Preprocessing.ipynb\" target=\"_parent\"><img src=\"https://colab.research.google.com/assets/colab-badge.svg\" alt=\"Open In Colab\"/></a>"
      ]
    },
    {
      "cell_type": "code",
      "execution_count": 190,
      "metadata": {
        "id": "azMBdvUZ2BkV"
      },
      "outputs": [],
      "source": [
        "import numpy as np\n",
        "import matplotlib.pyplot as plt\n",
        "import pandas as pd\n",
        "from sklearn.model_selection import train_test_split\n",
        "from sklearn.preprocessing import LabelEncoder\n",
        "from sklearn.ensemble import RandomForestClassifier\n",
        "from sklearn.tree import DecisionTreeClassifier\n",
        "from sklearn.metrics import accuracy_score, classification_report, confusion_matrix"
      ]
    },
    {
      "cell_type": "code",
      "source": [
        "# Load dataset\n",
        "df = pd.read_csv('adult.csv', header=None)\n",
        "df.columns = ['age', 'workclass', 'fnlwgt', 'education', 'education_num', 'marital_status',\n",
        " 'occupation', 'relationship', 'race', 'sex', 'capital_gain', 'capital_loss',\n",
        " 'hours_per_week', 'native_country', 'income']"
      ],
      "metadata": {
        "id": "qpq3uphy2YGD"
      },
      "execution_count": 191,
      "outputs": []
    },
    {
      "cell_type": "code",
      "source": [
        "# Cek data awal\n",
        "df.info()\n",
        "print(df.isnull().sum())"
      ],
      "metadata": {
        "colab": {
          "base_uri": "https://localhost:8080/"
        },
        "id": "uq4oMYTs2tz9",
        "outputId": "1c203dd9-99a1-4404-d092-854239db11a7"
      },
      "execution_count": 192,
      "outputs": [
        {
          "output_type": "stream",
          "name": "stdout",
          "text": [
            "<class 'pandas.core.frame.DataFrame'>\n",
            "RangeIndex: 32561 entries, 0 to 32560\n",
            "Data columns (total 15 columns):\n",
            " #   Column          Non-Null Count  Dtype \n",
            "---  ------          --------------  ----- \n",
            " 0   age             32561 non-null  int64 \n",
            " 1   workclass       32561 non-null  object\n",
            " 2   fnlwgt          32561 non-null  int64 \n",
            " 3   education       32561 non-null  object\n",
            " 4   education_num   32561 non-null  int64 \n",
            " 5   marital_status  32561 non-null  object\n",
            " 6   occupation      32561 non-null  object\n",
            " 7   relationship    32561 non-null  object\n",
            " 8   race            32561 non-null  object\n",
            " 9   sex             32561 non-null  object\n",
            " 10  capital_gain    32561 non-null  int64 \n",
            " 11  capital_loss    32561 non-null  int64 \n",
            " 12  hours_per_week  32561 non-null  int64 \n",
            " 13  native_country  32561 non-null  object\n",
            " 14  income          32561 non-null  object\n",
            "dtypes: int64(6), object(9)\n",
            "memory usage: 3.7+ MB\n",
            "age               0\n",
            "workclass         0\n",
            "fnlwgt            0\n",
            "education         0\n",
            "education_num     0\n",
            "marital_status    0\n",
            "occupation        0\n",
            "relationship      0\n",
            "race              0\n",
            "sex               0\n",
            "capital_gain      0\n",
            "capital_loss      0\n",
            "hours_per_week    0\n",
            "native_country    0\n",
            "income            0\n",
            "dtype: int64\n"
          ]
        }
      ]
    },
    {
      "cell_type": "code",
      "source": [
        "# Cek duplikasi data\n",
        "print(df.duplicated().sum())"
      ],
      "metadata": {
        "colab": {
          "base_uri": "https://localhost:8080/"
        },
        "id": "a6jyrckY3-rG",
        "outputId": "46b92a2f-d296-43ef-fd8f-41e6d0fd9aee"
      },
      "execution_count": 193,
      "outputs": [
        {
          "output_type": "stream",
          "name": "stdout",
          "text": [
            "24\n"
          ]
        }
      ]
    },
    {
      "cell_type": "code",
      "source": [
        "df.drop_duplicates(inplace=True)"
      ],
      "metadata": {
        "id": "S9kL9Vz44Izg"
      },
      "execution_count": 194,
      "outputs": []
    },
    {
      "cell_type": "code",
      "source": [
        "# Cek tipe data\n",
        "print(df.dtypes)"
      ],
      "metadata": {
        "colab": {
          "base_uri": "https://localhost:8080/"
        },
        "id": "nQA4_QCA4SWV",
        "outputId": "c9e9b730-8f31-420a-94a3-aec3a1dffe7a"
      },
      "execution_count": 195,
      "outputs": [
        {
          "output_type": "stream",
          "name": "stdout",
          "text": [
            "age                int64\n",
            "workclass         object\n",
            "fnlwgt             int64\n",
            "education         object\n",
            "education_num      int64\n",
            "marital_status    object\n",
            "occupation        object\n",
            "relationship      object\n",
            "race              object\n",
            "sex               object\n",
            "capital_gain       int64\n",
            "capital_loss       int64\n",
            "hours_per_week     int64\n",
            "native_country    object\n",
            "income            object\n",
            "dtype: object\n"
          ]
        }
      ]
    },
    {
      "cell_type": "code",
      "source": [
        "# Cek imbalance (contoh untuk kolom 'income')\n",
        "print(df['income'].value_counts())"
      ],
      "metadata": {
        "colab": {
          "base_uri": "https://localhost:8080/"
        },
        "id": "dj1MYkou5iYe",
        "outputId": "af2a41e3-0224-4001-c8d7-3960eafb1b75"
      },
      "execution_count": 196,
      "outputs": [
        {
          "output_type": "stream",
          "name": "stdout",
          "text": [
            "income\n",
            "<=50K    24698\n",
            ">50K      7839\n",
            "Name: count, dtype: int64\n"
          ]
        }
      ]
    },
    {
      "cell_type": "code",
      "source": [
        "df['income'].value_counts().plot(kind='bar')\n",
        "plt.title(\"Distribusi Kelas pada Kolom 'Income'\")\n",
        "plt.xlabel(\"Kelas\")\n",
        "plt.ylabel(\"Jumlah\")\n",
        "plt.show()"
      ],
      "metadata": {
        "colab": {
          "base_uri": "https://localhost:8080/",
          "height": 512
        },
        "collapsed": true,
        "id": "ToyGm-xc7MbQ",
        "outputId": "fd555f49-77ff-49fc-84fe-961dccbd084c"
      },
      "execution_count": 197,
      "outputs": [
        {
          "output_type": "display_data",
          "data": {
            "text/plain": [
              "<Figure size 640x480 with 1 Axes>"
            ],
            "image/png": "[encoded data removed]"
          },
          "metadata": {}
        }
      ]
    },
    {
      "cell_type": "code",
      "source": [
        "# Visualisasi hubungan income dengan pendidikan\n",
        "plt.figure(figsize=(10, 6))\n",
        "sns.boxplot(x=df['income'], y=df['education_num'], palette='coolwarm')\n",
        "plt.title('Hubungan Income dengan Tingkat Pendidikan')\n",
        "plt.xlabel('Income')\n",
        "plt.ylabel('Tingkat Pendidikan')\n",
        "plt.show()"
      ],
      "metadata": {
        "colab": {
          "base_uri": "https://localhost:8080/",
          "height": 671
        },
        "id": "KAObN-zi24If",
        "outputId": "1c11cdac-8fa7-4e87-ac28-f1e5c61a514c"
      },
      "execution_count": 198,
      "outputs": [
        {
          "output_type": "stream",
          "name": "stderr",
          "text": [
            "<ipython-input-198-d886ccbc2dd3>:3: FutureWarning: \n",
            "\n",
            "Passing `palette` without assigning `hue` is deprecated and will be removed in v0.14.0. Assign the `x` variable to `hue` and set `legend=False` for the same effect.\n",
            "\n",
            "  sns.boxplot(x=df['income'], y=df['education_num'], palette='coolwarm')\n"
          ]
        },
        {
          "output_type": "display_data",
          "data": {
            "text/plain": [
              "<Figure size 1000x600 with 1 Axes>"
            ],
            "image/png": "[encoded data removed]"
          },
          "metadata": {}
        }
      ]
    },
    {
      "cell_type": "code",
      "source": [
        "# Encoding categorical variables\n",
        "ordinal_features = ['education', 'marital_status']\n",
        "label_encoders = {}\n",
        "for feature in ordinal_features:\n",
        "    label_encoders[feature] = LabelEncoder()\n",
        "    df[feature] = label_encoders[feature].fit_transform(df[feature])\n",
        "\n",
        "nominal_features = [\"workclass\", \"occupation\", \"relationship\", \"race\", \"sex\", \"native_country\"]\n",
        "df = pd.get_dummies(df, columns=nominal_features)"
      ],
      "metadata": {
        "id": "mDfs6mfT27r_"
      },
      "execution_count": 199,
      "outputs": []
    },
    {
      "cell_type": "code",
      "source": [
        "# Encoding target variable\n",
        "df[\"income\"] = df[\"income\"].str.strip().map({\"<=50K\": 0, \">50K\": 1})"
      ],
      "metadata": {
        "id": "McIw9GWe2-AC"
      },
      "execution_count": 200,
      "outputs": []
    },
    {
      "cell_type": "code",
      "source": [
        "# Cek hasil encoding\n",
        "print(df.head())\n",
        "print(df.info())"
      ],
      "metadata": {
        "colab": {
          "base_uri": "https://localhost:8080/"
        },
        "id": "khTlCq0E3A7M",
        "outputId": "91219ab8-1f8a-4861-a871-155ebb1875d5"
      },
      "execution_count": 201,
      "outputs": [
        {
          "output_type": "stream",
          "name": "stdout",
          "text": [
            "   age  fnlwgt  education  education_num  marital_status  capital_gain  \\\n",
            "0   39   77516          9             13               4          2174   \n",
            "1   50   83311          9             13               2             0   \n",
            "2   38  215646         11              9               0             0   \n",
            "3   53  234721          1              7               2             0   \n",
            "4   28  338409          9             13               2             0   \n",
            "\n",
            "   capital_loss  hours_per_week  income  workclass_ ?  ...  \\\n",
            "0             0              40       0         False  ...   \n",
            "1             0              13       0         False  ...   \n",
            "2             0              40       0         False  ...   \n",
            "3             0              40       0         False  ...   \n",
            "4             0              40       0         False  ...   \n",
            "\n",
            "   native_country_ Portugal  native_country_ Puerto-Rico  \\\n",
            "0                     False                        False   \n",
            "1                     False                        False   \n",
            "2                     False                        False   \n",
            "3                     False                        False   \n",
            "4                     False                        False   \n",
            "\n",
            "   native_country_ Scotland  native_country_ South  native_country_ Taiwan  \\\n",
            "0                     False                  False                   False   \n",
            "1                     False                  False                   False   \n",
            "2                     False                  False                   False   \n",
            "3                     False                  False                   False   \n",
            "4                     False                  False                   False   \n",
            "\n",
            "   native_country_ Thailand  native_country_ Trinadad&Tobago  \\\n",
            "0                     False                            False   \n",
            "1                     False                            False   \n",
            "2                     False                            False   \n",
            "3                     False                            False   \n",
            "4                     False                            False   \n",
            "\n",
            "   native_country_ United-States  native_country_ Vietnam  \\\n",
            "0                           True                    False   \n",
            "1                           True                    False   \n",
            "2                           True                    False   \n",
            "3                           True                    False   \n",
            "4                          False                    False   \n",
            "\n",
            "   native_country_ Yugoslavia  \n",
            "0                       False  \n",
            "1                       False  \n",
            "2                       False  \n",
            "3                       False  \n",
            "4                       False  \n",
            "\n",
            "[5 rows x 88 columns]\n",
            "<class 'pandas.core.frame.DataFrame'>\n",
            "Index: 32537 entries, 0 to 32560\n",
            "Data columns (total 88 columns):\n",
            " #   Column                                      Non-Null Count  Dtype\n",
            "---  ------                                      --------------  -----\n",
            " 0   age                                         32537 non-null  int64\n",
            " 1   fnlwgt                                      32537 non-null  int64\n",
            " 2   education                                   32537 non-null  int64\n",
            " 3   education_num                               32537 non-null  int64\n",
            " 4   marital_status                              32537 non-null  int64\n",
            " 5   capital_gain                                32537 non-null  int64\n",
            " 6   capital_loss                                32537 non-null  int64\n",
            " 7   hours_per_week                              32537 non-null  int64\n",
            " 8   income                                      32537 non-null  int64\n",
            " 9   workclass_ ?                                32537 non-null  bool \n",
            " 10  workclass_ Federal-gov                      32537 non-null  bool \n",
            " 11  workclass_ Local-gov                        32537 non-null  bool \n",
            " 12  workclass_ Never-worked                     32537 non-null  bool \n",
            " 13  workclass_ Private                          32537 non-null  bool \n",
            " 14  workclass_ Self-emp-inc                     32537 non-null  bool \n",
            " 15  workclass_ Self-emp-not-inc                 32537 non-null  bool \n",
            " 16  workclass_ State-gov                        32537 non-null  bool \n",
            " 17  workclass_ Without-pay                      32537 non-null  bool \n",
            " 18  occupation_ ?                               32537 non-null  bool \n",
            " 19  occupation_ Adm-clerical                    32537 non-null  bool \n",
            " 20  occupation_ Armed-Forces                    32537 non-null  bool \n",
            " 21  occupation_ Craft-repair                    32537 non-null  bool \n",
            " 22  occupation_ Exec-managerial                 32537 non-null  bool \n",
            " 23  occupation_ Farming-fishing                 32537 non-null  bool \n",
            " 24  occupation_ Handlers-cleaners               32537 non-null  bool \n",
            " 25  occupation_ Machine-op-inspct               32537 non-null  bool \n",
            " 26  occupation_ Other-service                   32537 non-null  bool \n",
            " 27  occupation_ Priv-house-serv                 32537 non-null  bool \n",
            " 28  occupation_ Prof-specialty                  32537 non-null  bool \n",
            " 29  occupation_ Protective-serv                 32537 non-null  bool \n",
            " 30  occupation_ Sales                           32537 non-null  bool \n",
            " 31  occupation_ Tech-support                    32537 non-null  bool \n",
            " 32  occupation_ Transport-moving                32537 non-null  bool \n",
            " 33  relationship_ Husband                       32537 non-null  bool \n",
            " 34  relationship_ Not-in-family                 32537 non-null  bool \n",
            " 35  relationship_ Other-relative                32537 non-null  bool \n",
            " 36  relationship_ Own-child                     32537 non-null  bool \n",
            " 37  relationship_ Unmarried                     32537 non-null  bool \n",
            " 38  relationship_ Wife                          32537 non-null  bool \n",
            " 39  race_ Amer-Indian-Eskimo                    32537 non-null  bool \n",
            " 40  race_ Asian-Pac-Islander                    32537 non-null  bool \n",
            " 41  race_ Black                                 32537 non-null  bool \n",
            " 42  race_ Other                                 32537 non-null  bool \n",
            " 43  race_ White                                 32537 non-null  bool \n",
            " 44  sex_ Female                                 32537 non-null  bool \n",
            " 45  sex_ Male                                   32537 non-null  bool \n",
            " 46  native_country_ ?                           32537 non-null  bool \n",
            " 47  native_country_ Cambodia                    32537 non-null  bool \n",
            " 48  native_country_ Canada                      32537 non-null  bool \n",
            " 49  native_country_ China                       32537 non-null  bool \n",
            " 50  native_country_ Columbia                    32537 non-null  bool \n",
            " 51  native_country_ Cuba                        32537 non-null  bool \n",
            " 52  native_country_ Dominican-Republic          32537 non-null  bool \n",
            " 53  native_country_ Ecuador                     32537 non-null  bool \n",
            " 54  native_country_ El-Salvador                 32537 non-null  bool \n",
            " 55  native_country_ England                     32537 non-null  bool \n",
            " 56  native_country_ France                      32537 non-null  bool \n",
            " 57  native_country_ Germany                     32537 non-null  bool \n",
            " 58  native_country_ Greece                      32537 non-null  bool \n",
            " 59  native_country_ Guatemala                   32537 non-null  bool \n",
            " 60  native_country_ Haiti                       32537 non-null  bool \n",
            " 61  native_country_ Holand-Netherlands          32537 non-null  bool \n",
            " 62  native_country_ Honduras                    32537 non-null  bool \n",
            " 63  native_country_ Hong                        32537 non-null  bool \n",
            " 64  native_country_ Hungary                     32537 non-null  bool \n",
            " 65  native_country_ India                       32537 non-null  bool \n",
            " 66  native_country_ Iran                        32537 non-null  bool \n",
            " 67  native_country_ Ireland                     32537 non-null  bool \n",
            " 68  native_country_ Italy                       32537 non-null  bool \n",
            " 69  native_country_ Jamaica                     32537 non-null  bool \n",
            " 70  native_country_ Japan                       32537 non-null  bool \n",
            " 71  native_country_ Laos                        32537 non-null  bool \n",
            " 72  native_country_ Mexico                      32537 non-null  bool \n",
            " 73  native_country_ Nicaragua                   32537 non-null  bool \n",
            " 74  native_country_ Outlying-US(Guam-USVI-etc)  32537 non-null  bool \n",
            " 75  native_country_ Peru                        32537 non-null  bool \n",
            " 76  native_country_ Philippines                 32537 non-null  bool \n",
            " 77  native_country_ Poland                      32537 non-null  bool \n",
            " 78  native_country_ Portugal                    32537 non-null  bool \n",
            " 79  native_country_ Puerto-Rico                 32537 non-null  bool \n",
            " 80  native_country_ Scotland                    32537 non-null  bool \n",
            " 81  native_country_ South                       32537 non-null  bool \n",
            " 82  native_country_ Taiwan                      32537 non-null  bool \n",
            " 83  native_country_ Thailand                    32537 non-null  bool \n",
            " 84  native_country_ Trinadad&Tobago             32537 non-null  bool \n",
            " 85  native_country_ United-States               32537 non-null  bool \n",
            " 86  native_country_ Vietnam                     32537 non-null  bool \n",
            " 87  native_country_ Yugoslavia                  32537 non-null  bool \n",
            "dtypes: bool(79), int64(9)\n",
            "memory usage: 4.9 MB\n",
            "None\n"
          ]
        }
      ]
    },
    {
      "cell_type": "code",
      "source": [
        "for col in ['age', 'capital_gain', 'capital_loss', 'hours_per_week']:\n",
        "    lower_bound = Q1[col] - 1.5 * IQR[col]\n",
        "    upper_bound = Q3[col] + 1.5 * IQR[col]\n",
        "    df[col] = np.clip(df[col], lower_bound, upper_bound)"
      ],
      "metadata": {
        "id": "kEaSpR3HJzP0"
      },
      "execution_count": 202,
      "outputs": []
    },
    {
      "cell_type": "code",
      "source": [
        "from sklearn.preprocessing import RobustScaler\n",
        "scaler = RobustScaler()\n",
        "df[['age', 'capital_gain', 'capital_loss', 'hours_per_week']] = scaler.fit_transform(\n",
        "    df[['age', 'capital_gain', 'capital_loss', 'hours_per_week']]\n",
        ")\n"
      ],
      "metadata": {
        "id": "_WCkCTblQlh_"
      },
      "execution_count": 203,
      "outputs": []
    },
    {
      "cell_type": "code",
      "source": [
        "# Split data\n",
        "X = df.drop(columns=[\"income\"])\n",
        "y = df[\"income\"]\n",
        "X_train, X_test, y_train, y_test = train_test_split(X, y, test_size=0.2, random_state=42)"
      ],
      "metadata": {
        "id": "CnM-fX_i3FOs"
      },
      "execution_count": 204,
      "outputs": []
    },
    {
      "cell_type": "code",
      "source": [
        "from imblearn.over_sampling import SMOTE\n",
        "\n",
        "smote = SMOTE(random_state=42)\n",
        "X_resampled, y_resampled = smote.fit_resample(X, y)\n"
      ],
      "metadata": {
        "id": "Hr7VYnnxCnwC"
      },
      "execution_count": 205,
      "outputs": []
    },
    {
      "cell_type": "code",
      "source": [
        "from sklearn.model_selection import StratifiedKFold, cross_val_score\n",
        "kf = StratifiedKFold(n_splits=5, shuffle=True, random_state=42)  # 5-fold cross-validation\n",
        "\n",
        "rf_model = RandomForestClassifier(n_estimators=100, random_state=42)\n",
        "dt_model = DecisionTreeClassifier(random_state=42)\n",
        "\n",
        "# Evaluasi dengan cross-validation\n",
        "rf_cv_scores = cross_val_score(rf_model, X_resampled, y_resampled, cv=kf, scoring='accuracy')\n",
        "dt_cv_scores = cross_val_score(dt_model, X_resampled, y_resampled, cv=kf, scoring='accuracy')\n",
        "\n",
        "print(\"Random Forest CV Accuracy: {:.2f} ± {:.2f}\".format(rf_cv_scores.mean(), rf_cv_scores.std()))\n",
        "print(\"Decision Tree CV Accuracy: {:.2f} ± {:.2f}\".format(dt_cv_scores.mean(), dt_cv_scores.std()))\n"
      ],
      "metadata": {
        "colab": {
          "base_uri": "https://localhost:8080/"
        },
        "id": "cWE-PMk0DejW",
        "outputId": "de42bc87-1020-4473-d715-38107f95efc9"
      },
      "execution_count": 206,
      "outputs": [
        {
          "output_type": "stream",
          "name": "stdout",
          "text": [
            "Random Forest CV Accuracy: 0.89 ± 0.00\n",
            "Decision Tree CV Accuracy: 0.84 ± 0.00\n"
          ]
        }
      ]
    },
    {
      "cell_type": "code",
      "source": [
        "rf_model.fit(X_resampled, y_resampled)\n",
        "dt_model.fit(X_resampled, y_resampled)"
      ],
      "metadata": {
        "colab": {
          "base_uri": "https://localhost:8080/",
          "height": 80
        },
        "id": "_9WhaSCgH0aw",
        "outputId": "46146f62-4e33-4476-b7ea-53cdac967245"
      },
      "execution_count": 207,
      "outputs": [
        {
          "output_type": "execute_result",
          "data": {
            "text/plain": [
              "DecisionTreeClassifier(random_state=42)"
            ],
            "text/html": [
              "<style>#sk-container-id-8 {\n",
              "  /* Definition of color scheme common for light and dark mode */\n",
              "  --sklearn-color-text: #000;\n",
              "  --sklearn-color-text-muted: #666;\n",
              "  --sklearn-color-line: gray;\n",
              "  /* Definition of color scheme for unfitted estimators */\n",
              "  --sklearn-color-unfitted-level-0: #fff5e6;\n",
              "  --sklearn-color-unfitted-level-1: #f6e4d2;\n",
              "  --sklearn-color-unfitted-level-2: #ffe0b3;\n",
              "  --sklearn-color-unfitted-level-3: chocolate;\n",
              "  /* Definition of color scheme for fitted estimators */\n",
              "  --sklearn-color-fitted-level-0: #f0f8ff;\n",
              "  --sklearn-color-fitted-level-1: #d4ebff;\n",
              "  --sklearn-color-fitted-level-2: #b3dbfd;\n",
              "  --sklearn-color-fitted-level-3: cornflowerblue;\n",
              "\n",
              "  /* Specific color for light theme */\n",
              "  --sklearn-color-text-on-default-background: var(--sg-text-color, var(--theme-code-foreground, var(--jp-content-font-color1, black)));\n",
              "  --sklearn-color-background: var(--sg-background-color, var(--theme-background, var(--jp-layout-color0, white)));\n",
              "  --sklearn-color-border-box: var(--sg-text-color, var(--theme-code-foreground, var(--jp-content-font-color1, black)));\n",
              "  --sklearn-color-icon: #696969;\n",
              "\n",
              "  @media (prefers-color-scheme: dark) {\n",
              "    /* Redefinition of color scheme for dark theme */\n",
              "    --sklearn-color-text-on-default-background: var(--sg-text-color, var(--theme-code-foreground, var(--jp-content-font-color1, white)));\n",
              "    --sklearn-color-background: var(--sg-background-color, var(--theme-background, var(--jp-layout-color0, #111)));\n",
              "    --sklearn-color-border-box: var(--sg-text-color, var(--theme-code-foreground, var(--jp-content-font-color1, white)));\n",
              "    --sklearn-color-icon: #878787;\n",
              "  }\n",
              "}\n",
              "\n",
              "#sk-container-id-8 {\n",
              "  color: var(--sklearn-color-text);\n",
              "}\n",
              "\n",
              "#sk-container-id-8 pre {\n",
              "  padding: 0;\n",
              "}\n",
              "\n",
              "#sk-container-id-8 input.sk-hidden--visually {\n",
              "  border: 0;\n",
              "  clip: rect(1px 1px 1px 1px);\n",
              "  clip: rect(1px, 1px, 1px, 1px);\n",
              "  height: 1px;\n",
              "  margin: -1px;\n",
              "  overflow: hidden;\n",
              "  padding: 0;\n",
              "  position: absolute;\n",
              "  width: 1px;\n",
              "}\n",
              "\n",
              "#sk-container-id-8 div.sk-dashed-wrapped {\n",
              "  border: 1px dashed var(--sklearn-color-line);\n",
              "  margin: 0 0.4em 0.5em 0.4em;\n",
              "  box-sizing: border-box;\n",
              "  padding-bottom: 0.4em;\n",
              "  background-color: var(--sklearn-color-background);\n",
              "}\n",
              "\n",
              "#sk-container-id-8 div.sk-container {\n",
              "  /* jupyter's `normalize.less` sets `[hidden] { display: none; }`\n",
              "     but bootstrap.min.css set `[hidden] { display: none !important; }`\n",
              "     so we also need the `!important` here to be able to override the\n",
              "     default hidden behavior on the sphinx rendered scikit-learn.org.\n",
              "     See: https://github.com/scikit-learn/scikit-learn/issues/21755 */\n",
              "  display: inline-block !important;\n",
              "  position: relative;\n",
              "}\n",
              "\n",
              "#sk-container-id-8 div.sk-text-repr-fallback {\n",
              "  display: none;\n",
              "}\n",
              "\n",
              "div.sk-parallel-item,\n",
              "div.sk-serial,\n",
              "div.sk-item {\n",
              "  /* draw centered vertical line to link estimators */\n",
              "  background-image: linear-gradient(var(--sklearn-color-text-on-default-background), var(--sklearn-color-text-on-default-background));\n",
              "  background-size: 2px 100%;\n",
              "  background-repeat: no-repeat;\n",
              "  background-position: center center;\n",
              "}\n",
              "\n",
              "/* Parallel-specific style estimator block */\n",
              "\n",
              "#sk-container-id-8 div.sk-parallel-item::after {\n",
              "  content: \"\";\n",
              "  width: 100%;\n",
              "  border-bottom: 2px solid var(--sklearn-color-text-on-default-background);\n",
              "  flex-grow: 1;\n",
              "}\n",
              "\n",
              "#sk-container-id-8 div.sk-parallel {\n",
              "  display: flex;\n",
              "  align-items: stretch;\n",
              "  justify-content: center;\n",
              "  background-color: var(--sklearn-color-background);\n",
              "  position: relative;\n",
              "}\n",
              "\n",
              "#sk-container-id-8 div.sk-parallel-item {\n",
              "  display: flex;\n",
              "  flex-direction: column;\n",
              "}\n",
              "\n",
              "#sk-container-id-8 div.sk-parallel-item:first-child::after {\n",
              "  align-self: flex-end;\n",
              "  width: 50%;\n",
              "}\n",
              "\n",
              "#sk-container-id-8 div.sk-parallel-item:last-child::after {\n",
              "  align-self: flex-start;\n",
              "  width: 50%;\n",
              "}\n",
              "\n",
              "#sk-container-id-8 div.sk-parallel-item:only-child::after {\n",
              "  width: 0;\n",
              "}\n",
              "\n",
              "/* Serial-specific style estimator block */\n",
              "\n",
              "#sk-container-id-8 div.sk-serial {\n",
              "  display: flex;\n",
              "  flex-direction: column;\n",
              "  align-items: center;\n",
              "  background-color: var(--sklearn-color-background);\n",
              "  padding-right: 1em;\n",
              "  padding-left: 1em;\n",
              "}\n",
              "\n",
              "\n",
              "/* Toggleable style: style used for estimator/Pipeline/ColumnTransformer box that is\n",
              "clickable and can be expanded/collapsed.\n",
              "- Pipeline and ColumnTransformer use this feature and define the default style\n",
              "- Estimators will overwrite some part of the style using the `sk-estimator` class\n",
              "*/\n",
              "\n",
              "/* Pipeline and ColumnTransformer style (default) */\n",
              "\n",
              "#sk-container-id-8 div.sk-toggleable {\n",
              "  /* Default theme specific background. It is overwritten whether we have a\n",
              "  specific estimator or a Pipeline/ColumnTransformer */\n",
              "  background-color: var(--sklearn-color-background);\n",
              "}\n",
              "\n",
              "/* Toggleable label */\n",
              "#sk-container-id-8 label.sk-toggleable__label {\n",
              "  cursor: pointer;\n",
              "  display: flex;\n",
              "  width: 100%;\n",
              "  margin-bottom: 0;\n",
              "  padding: 0.5em;\n",
              "  box-sizing: border-box;\n",
              "  text-align: center;\n",
              "  align-items: start;\n",
              "  justify-content: space-between;\n",
              "  gap: 0.5em;\n",
              "}\n",
              "\n",
              "#sk-container-id-8 label.sk-toggleable__label .caption {\n",
              "  font-size: 0.6rem;\n",
              "  font-weight: lighter;\n",
              "  color: var(--sklearn-color-text-muted);\n",
              "}\n",
              "\n",
              "#sk-container-id-8 label.sk-toggleable__label-arrow:before {\n",
              "  /* Arrow on the left of the label */\n",
              "  content: \"▸\";\n",
              "  float: left;\n",
              "  margin-right: 0.25em;\n",
              "  color: var(--sklearn-color-icon);\n",
              "}\n",
              "\n",
              "#sk-container-id-8 label.sk-toggleable__label-arrow:hover:before {\n",
              "  color: var(--sklearn-color-text);\n",
              "}\n",
              "\n",
              "/* Toggleable content - dropdown */\n",
              "\n",
              "#sk-container-id-8 div.sk-toggleable__content {\n",
              "  max-height: 0;\n",
              "  max-width: 0;\n",
              "  overflow: hidden;\n",
              "  text-align: left;\n",
              "  /* unfitted */\n",
              "  background-color: var(--sklearn-color-unfitted-level-0);\n",
              "}\n",
              "\n",
              "#sk-container-id-8 div.sk-toggleable__content.fitted {\n",
              "  /* fitted */\n",
              "  background-color: var(--sklearn-color-fitted-level-0);\n",
              "}\n",
              "\n",
              "#sk-container-id-8 div.sk-toggleable__content pre {\n",
              "  margin: 0.2em;\n",
              "  border-radius: 0.25em;\n",
              "  color: var(--sklearn-color-text);\n",
              "  /* unfitted */\n",
              "  background-color: var(--sklearn-color-unfitted-level-0);\n",
              "}\n",
              "\n",
              "#sk-container-id-8 div.sk-toggleable__content.fitted pre {\n",
              "  /* unfitted */\n",
              "  background-color: var(--sklearn-color-fitted-level-0);\n",
              "}\n",
              "\n",
              "#sk-container-id-8 input.sk-toggleable__control:checked~div.sk-toggleable__content {\n",
              "  /* Expand drop-down */\n",
              "  max-height: 200px;\n",
              "  max-width: 100%;\n",
              "  overflow: auto;\n",
              "}\n",
              "\n",
              "#sk-container-id-8 input.sk-toggleable__control:checked~label.sk-toggleable__label-arrow:before {\n",
              "  content: \"▾\";\n",
              "}\n",
              "\n",
              "/* Pipeline/ColumnTransformer-specific style */\n",
              "\n",
              "#sk-container-id-8 div.sk-label input.sk-toggleable__control:checked~label.sk-toggleable__label {\n",
              "  color: var(--sklearn-color-text);\n",
              "  background-color: var(--sklearn-color-unfitted-level-2);\n",
              "}\n",
              "\n",
              "#sk-container-id-8 div.sk-label.fitted input.sk-toggleable__control:checked~label.sk-toggleable__label {\n",
              "  background-color: var(--sklearn-color-fitted-level-2);\n",
              "}\n",
              "\n",
              "/* Estimator-specific style */\n",
              "\n",
              "/* Colorize estimator box */\n",
              "#sk-container-id-8 div.sk-estimator input.sk-toggleable__control:checked~label.sk-toggleable__label {\n",
              "  /* unfitted */\n",
              "  background-color: var(--sklearn-color-unfitted-level-2);\n",
              "}\n",
              "\n",
              "#sk-container-id-8 div.sk-estimator.fitted input.sk-toggleable__control:checked~label.sk-toggleable__label {\n",
              "  /* fitted */\n",
              "  background-color: var(--sklearn-color-fitted-level-2);\n",
              "}\n",
              "\n",
              "#sk-container-id-8 div.sk-label label.sk-toggleable__label,\n",
              "#sk-container-id-8 div.sk-label label {\n",
              "  /* The background is the default theme color */\n",
              "  color: var(--sklearn-color-text-on-default-background);\n",
              "}\n",
              "\n",
              "/* On hover, darken the color of the background */\n",
              "#sk-container-id-8 div.sk-label:hover label.sk-toggleable__label {\n",
              "  color: var(--sklearn-color-text);\n",
              "  background-color: var(--sklearn-color-unfitted-level-2);\n",
              "}\n",
              "\n",
              "/* Label box, darken color on hover, fitted */\n",
              "#sk-container-id-8 div.sk-label.fitted:hover label.sk-toggleable__label.fitted {\n",
              "  color: var(--sklearn-color-text);\n",
              "  background-color: var(--sklearn-color-fitted-level-2);\n",
              "}\n",
              "\n",
              "/* Estimator label */\n",
              "\n",
              "#sk-container-id-8 div.sk-label label {\n",
              "  font-family: monospace;\n",
              "  font-weight: bold;\n",
              "  display: inline-block;\n",
              "  line-height: 1.2em;\n",
              "}\n",
              "\n",
              "#sk-container-id-8 div.sk-label-container {\n",
              "  text-align: center;\n",
              "}\n",
              "\n",
              "/* Estimator-specific */\n",
              "#sk-container-id-8 div.sk-estimator {\n",
              "  font-family: monospace;\n",
              "  border: 1px dotted var(--sklearn-color-border-box);\n",
              "  border-radius: 0.25em;\n",
              "  box-sizing: border-box;\n",
              "  margin-bottom: 0.5em;\n",
              "  /* unfitted */\n",
              "  background-color: var(--sklearn-color-unfitted-level-0);\n",
              "}\n",
              "\n",
              "#sk-container-id-8 div.sk-estimator.fitted {\n",
              "  /* fitted */\n",
              "  background-color: var(--sklearn-color-fitted-level-0);\n",
              "}\n",
              "\n",
              "/* on hover */\n",
              "#sk-container-id-8 div.sk-estimator:hover {\n",
              "  /* unfitted */\n",
              "  background-color: var(--sklearn-color-unfitted-level-2);\n",
              "}\n",
              "\n",
              "#sk-container-id-8 div.sk-estimator.fitted:hover {\n",
              "  /* fitted */\n",
              "  background-color: var(--sklearn-color-fitted-level-2);\n",
              "}\n",
              "\n",
              "/* Specification for estimator info (e.g. \"i\" and \"?\") */\n",
              "\n",
              "/* Common style for \"i\" and \"?\" */\n",
              "\n",
              ".sk-estimator-doc-link,\n",
              "a:link.sk-estimator-doc-link,\n",
              "a:visited.sk-estimator-doc-link {\n",
              "  float: right;\n",
              "  font-size: smaller;\n",
              "  line-height: 1em;\n",
              "  font-family: monospace;\n",
              "  background-color: var(--sklearn-color-background);\n",
              "  border-radius: 1em;\n",
              "  height: 1em;\n",
              "  width: 1em;\n",
              "  text-decoration: none !important;\n",
              "  margin-left: 0.5em;\n",
              "  text-align: center;\n",
              "  /* unfitted */\n",
              "  border: var(--sklearn-color-unfitted-level-1) 1pt solid;\n",
              "  color: var(--sklearn-color-unfitted-level-1);\n",
              "}\n",
              "\n",
              ".sk-estimator-doc-link.fitted,\n",
              "a:link.sk-estimator-doc-link.fitted,\n",
              "a:visited.sk-estimator-doc-link.fitted {\n",
              "  /* fitted */\n",
              "  border: var(--sklearn-color-fitted-level-1) 1pt solid;\n",
              "  color: var(--sklearn-color-fitted-level-1);\n",
              "}\n",
              "\n",
              "/* On hover */\n",
              "div.sk-estimator:hover .sk-estimator-doc-link:hover,\n",
              ".sk-estimator-doc-link:hover,\n",
              "div.sk-label-container:hover .sk-estimator-doc-link:hover,\n",
              ".sk-estimator-doc-link:hover {\n",
              "  /* unfitted */\n",
              "  background-color: var(--sklearn-color-unfitted-level-3);\n",
              "  color: var(--sklearn-color-background);\n",
              "  text-decoration: none;\n",
              "}\n",
              "\n",
              "div.sk-estimator.fitted:hover .sk-estimator-doc-link.fitted:hover,\n",
              ".sk-estimator-doc-link.fitted:hover,\n",
              "div.sk-label-container:hover .sk-estimator-doc-link.fitted:hover,\n",
              ".sk-estimator-doc-link.fitted:hover {\n",
              "  /* fitted */\n",
              "  background-color: var(--sklearn-color-fitted-level-3);\n",
              "  color: var(--sklearn-color-background);\n",
              "  text-decoration: none;\n",
              "}\n",
              "\n",
              "/* Span, style for the box shown on hovering the info icon */\n",
              ".sk-estimator-doc-link span {\n",
              "  display: none;\n",
              "  z-index: 9999;\n",
              "  position: relative;\n",
              "  font-weight: normal;\n",
              "  right: .2ex;\n",
              "  padding: .5ex;\n",
              "  margin: .5ex;\n",
              "  width: min-content;\n",
              "  min-width: 20ex;\n",
              "  max-width: 50ex;\n",
              "  color: var(--sklearn-color-text);\n",
              "  box-shadow: 2pt 2pt 4pt #999;\n",
              "  /* unfitted */\n",
              "  background: var(--sklearn-color-unfitted-level-0);\n",
              "  border: .5pt solid var(--sklearn-color-unfitted-level-3);\n",
              "}\n",
              "\n",
              ".sk-estimator-doc-link.fitted span {\n",
              "  /* fitted */\n",
              "  background: var(--sklearn-color-fitted-level-0);\n",
              "  border: var(--sklearn-color-fitted-level-3);\n",
              "}\n",
              "\n",
              ".sk-estimator-doc-link:hover span {\n",
              "  display: block;\n",
              "}\n",
              "\n",
              "/* \"?\"-specific style due to the `<a>` HTML tag */\n",
              "\n",
              "#sk-container-id-8 a.estimator_doc_link {\n",
              "  float: right;\n",
              "  font-size: 1rem;\n",
              "  line-height: 1em;\n",
              "  font-family: monospace;\n",
              "  background-color: var(--sklearn-color-background);\n",
              "  border-radius: 1rem;\n",
              "  height: 1rem;\n",
              "  width: 1rem;\n",
              "  text-decoration: none;\n",
              "  /* unfitted */\n",
              "  color: var(--sklearn-color-unfitted-level-1);\n",
              "  border: var(--sklearn-color-unfitted-level-1) 1pt solid;\n",
              "}\n",
              "\n",
              "#sk-container-id-8 a.estimator_doc_link.fitted {\n",
              "  /* fitted */\n",
              "  border: var(--sklearn-color-fitted-level-1) 1pt solid;\n",
              "  color: var(--sklearn-color-fitted-level-1);\n",
              "}\n",
              "\n",
              "/* On hover */\n",
              "#sk-container-id-8 a.estimator_doc_link:hover {\n",
              "  /* unfitted */\n",
              "  background-color: var(--sklearn-color-unfitted-level-3);\n",
              "  color: var(--sklearn-color-background);\n",
              "  text-decoration: none;\n",
              "}\n",
              "\n",
              "#sk-container-id-8 a.estimator_doc_link.fitted:hover {\n",
              "  /* fitted */\n",
              "  background-color: var(--sklearn-color-fitted-level-3);\n",
              "}\n",
              "</style><div id=\"sk-container-id-8\" class=\"sk-top-container\"><div class=\"sk-text-repr-fallback\"><pre>DecisionTreeClassifier(random_state=42)</pre><b>In a Jupyter environment, please rerun this cell to show the HTML representation or trust the notebook. <br />On GitHub, the HTML representation is unable to render, please try loading this page with nbviewer.org.</b></div><div class=\"sk-container\" hidden><div class=\"sk-item\"><div class=\"sk-estimator fitted sk-toggleable\"><input class=\"sk-toggleable__control sk-hidden--visually\" id=\"sk-estimator-id-8\" type=\"checkbox\" checked><label for=\"sk-estimator-id-8\" class=\"sk-toggleable__label fitted sk-toggleable__label-arrow\"><div><div>DecisionTreeClassifier</div></div><div><a class=\"sk-estimator-doc-link fitted\" rel=\"noreferrer\" target=\"_blank\" href=\"https://scikit-learn.org/1.6/modules/generated/sklearn.tree.DecisionTreeClassifier.html\">?<span>Documentation for DecisionTreeClassifier</span></a><span class=\"sk-estimator-doc-link fitted\">i<span>Fitted</span></span></div></label><div class=\"sk-toggleable__content fitted\"><pre>DecisionTreeClassifier(random_state=42)</pre></div> </div></div></div></div>"
            ]
          },
          "metadata": {},
          "execution_count": 207
        }
      ]
    },
    {
      "cell_type": "code",
      "source": [
        "y_pred_rf = rf_model.predict(X_test)\n",
        "y_pred_dt = dt_model.predict(X_test)"
      ],
      "metadata": {
        "id": "80PI4SrTH7TL"
      },
      "execution_count": 208,
      "outputs": []
    },
    {
      "cell_type": "code",
      "source": [
        "def plot_confusion_matrix(y_true, y_pred, model_name, cmap):\n",
        "    plt.figure(figsize=(6, 5)) # Indented this line\n",
        "    sns.heatmap(confusion_matrix(y_true, y_pred), annot=True, fmt='d', cmap=cmap) # Indented this line\n",
        "    plt.title(f'Confusion Matrix - {model_name}') # Indented this line\n",
        "    plt.xlabel('Predicted') # Indented this line\n",
        "    plt.ylabel('Actual') # Indented this line\n",
        "    plt.show() # Indented this line"
      ],
      "metadata": {
        "id": "uStKKJATIDyK"
      },
      "execution_count": 209,
      "outputs": []
    },
    {
      "cell_type": "code",
      "source": [
        "print(\"\\nConfusion Matrix - Random Forest:\")\n",
        "print(confusion_matrix(y_test, y_pred_rf))\n",
        "print(\"\\nClassification Report - Random Forest:\")\n",
        "print(classification_report(y_test, y_pred_rf))\n",
        "plot_confusion_matrix(y_test, y_pred_rf, \"Random Forest\", \"Blues\")\n",
        "\n",
        "print(\"\\nConfusion Matrix - Decision Tree:\")\n",
        "print(confusion_matrix(y_test, y_pred_dt))\n",
        "print(\"\\nClassification Report - Decision Tree:\")\n",
        "print(classification_report(y_test, y_pred_dt))\n",
        "plot_confusion_matrix(y_test, y_pred_dt, \"Decision Tree\", \"Reds\")"
      ],
      "metadata": {
        "colab": {
          "base_uri": "https://localhost:8080/",
          "height": 1000
        },
        "id": "yaa17mByIc1J",
        "outputId": "072307f2-2ad9-4248-d185-c78b4833427f"
      },
      "execution_count": 210,
      "outputs": [
        {
          "output_type": "stream",
          "name": "stdout",
          "text": [
            "\n",
            "Confusion Matrix - Random Forest:\n",
            "[[4902    3]\n",
            " [   0 1603]]\n",
            "\n",
            "Classification Report - Random Forest:\n",
            "              precision    recall  f1-score   support\n",
            "\n",
            "           0       1.00      1.00      1.00      4905\n",
            "           1       1.00      1.00      1.00      1603\n",
            "\n",
            "    accuracy                           1.00      6508\n",
            "   macro avg       1.00      1.00      1.00      6508\n",
            "weighted avg       1.00      1.00      1.00      6508\n",
            "\n"
          ]
        },
        {
          "output_type": "display_data",
          "data": {
            "text/plain": [
              "<Figure size 600x500 with 2 Axes>"
            ],
            "image/png": "[encoded data removed]"
          },
          "metadata": {}
        },
        {
          "output_type": "stream",
          "name": "stdout",
          "text": [
            "\n",
            "Confusion Matrix - Decision Tree:\n",
            "[[4905    0]\n",
            " [   0 1603]]\n",
            "\n",
            "Classification Report - Decision Tree:\n",
            "              precision    recall  f1-score   support\n",
            "\n",
            "           0       1.00      1.00      1.00      4905\n",
            "           1       1.00      1.00      1.00      1603\n",
            "\n",
            "    accuracy                           1.00      6508\n",
            "   macro avg       1.00      1.00      1.00      6508\n",
            "weighted avg       1.00      1.00      1.00      6508\n",
            "\n"
          ]
        },
        {
          "output_type": "display_data",
          "data": {
            "text/plain": [
              "<Figure size 600x500 with 2 Axes>"
            ],
            "image/png": "[encoded data removed]"
          },
          "metadata": {}
        }
      ]
    }
  ]
}