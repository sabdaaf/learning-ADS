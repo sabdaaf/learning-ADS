{
  "nbformat": 4,
  "nbformat_minor": 0,
  "metadata": {
    "colab": {
      "provenance": [],
      "gpuType": "T4",
      "collapsed_sections": [
        "47HJVccFHOI_",
        "TyBw3hN0HQan",
        "HXixhjYa1uMD",
        "dQYNfB8fPOxa"
      ],
      "include_colab_link": true
    },
    "kernelspec": {
      "name": "python3",
      "display_name": "Python 3"
    },
    "language_info": {
      "name": "python"
    },
    "accelerator": "GPU"
  },
  "cells": [
    {
      "cell_type": "markdown",
      "metadata": {
        "id": "view-in-github",
        "colab_type": "text"
      },
      "source": [
        "<a href=\"https://colab.research.google.com/github/sabdaaf/learning-ADS/blob/main/A11_2022_14645_Study_Case_1.ipynb\" target=\"_parent\"><img src=\"https://colab.research.google.com/assets/colab-badge.svg\" alt=\"Open In Colab\"/></a>"
      ]
    },
    {
      "cell_type": "markdown",
      "source": [
        "<center><img src=\"https://dinus.ac.id/wp-content/uploads/2024/11/Logo-Web-Udinus-Putih.png\"  width=\"400\">\n",
        "\n",
        "\n",
        "# BK Associate Data Scientist - Teknik Informatika S1 - 'TANGGAL' 2025\n",
        "</center>"
      ],
      "metadata": {
        "id": "ko7vfqQlYWym"
      }
    },
    {
      "cell_type": "markdown",
      "source": [
        "PANDUAN:\n",
        "- **WAJIB MENGISI SEMUA UNIT**\n",
        "- DIPERBOLEHKAN MEMBUKA FILE LAMPAU, TAPI TIDAK BOLEH MENGGUNAKAN CHATGPT, GEMINI, CLAUDE, DAN LLM LAINNYA\n",
        "- JIKA SUDAH SELESAI, SILAKAN MENGABARI TIM ASISTEN UNTUK DISKUSI JADWAL PRESENTASI"
      ],
      "metadata": {
        "id": "XqhePs6nYdty"
      }
    },
    {
      "cell_type": "markdown",
      "source": [
        "# Latar Belakang Masalah\n",
        "Penyakit hati (*liver disease*) merupakan salah satu penyebab utama morbiditas dan mortalitas di seluruh dunia, terutama di negara-negara berkembang seperti India. Deteksi dini dan diagnosis penyakit hati sangat penting untuk mencegah komplikasi serius dan meningkatkan peluang kesembuhan pasien. Namun, keterbatasan sumber daya medis serta kompleksitas data klinis menjadi tantangan dalam proses diagnosis yang cepat dan akurat.\n",
        "\n",
        "Indian Liver Patient Dataset (ILPD) menyediakan data klinis dari pasien yang berasal dari India, dan bertujuan untuk membantu pengembangan sistem prediksi penyakit hati berdasarkan parameter medis. Dengan menganalisis data ini, dapat dibangun model prediksi yang efisien untuk mendeteksi pasien yang berisiko terkena penyakit hati.\n",
        "\n",
        "Paper Reference: [Tabular Data Generation to Improve Classification of Liver Disease Diagnosis](https://www.mdpi.com/2076-3417/13/4/2678)\n",
        "\n",
        "\n",
        "\n",
        "\n",
        "\n",
        "# Tujuan Analisis Dataset\n",
        "Tujuan utama dari analisis dataset ini adalah:\n",
        "1. **Mengidentifikasi variabel kunci** yang memengaruhi risiko terkena penyakit hati.\n",
        "2. **Membangun model prediktif** yang dapat membantu memprediksi penyakit hati pada pasien.\n",
        "\n",
        "Dengan hasil analisis ini, diharapkan dataset dapat memberikan wawasan yang berharga kepada rumah sakit, tenaga medis, dan pembuat kebijakan dalam mengurangi penyakit hati.\n",
        "\n",
        "# Terkait Dataset\n",
        "- **Sumber Data**: [UCI Machine Learning Repository – Indian Liver Patient Dataset](https://archive.ics.uci.edu/dataset/225/ilpd+indian+liver+patient+dataset)\n",
        "- **Jumlah Sampel Data**: 583 pasien\n",
        "- **Jumlah Atribut**: 10 atribut, meliputi: age, gender, total Bilirubin, direct Bilirubin, total proteins, albumin, A/G ratio, SGPT, SGOT and Alkphos.\n",
        "- **Label**: 2 (0 = pasien yang memiliki penyakit hati, 1 = pasien yang tidak memiliki penyakit hati).\n",
        "\n",
        "# Pendekatan Analisis\n",
        "Untuk mendukung analisis dataset ini, akan dibuat skema komparasi model prediksi yang dilakukan dengan 2 pendekatan berbeda:\n",
        "\n",
        "1. **Menggunakan SMOTE**: Model akan dibangun dengan memanfaatkan data hasil augmentasi menggunakan Synthetic Minority Oversampling Technique (SMOTE) untuk menangani ketidakseimbangan kelas pada dataset dan meningkatkan performa klasifikasi penyakit hati.\n",
        "\n",
        "2. **Menggunakan Augmentasi GAN**: Model juga akan dibangun dengan menggunakan data sintetis yang dihasilkan melalui Generative Adversarial Networks (GAN), untuk mengevaluasi apakah metode generatif ini dapat menghasilkan data yang lebih representatif dan meningkatkan generalisasi model.\n",
        "\n",
        "Studi ini berfokus pada dataset yang terdiri dari 583 data pasien liver yang dikumpulkan di India, dan bertujuan untuk membandingkan efektivitas dua pendekatan augmentasi data yaitu SMOTE vs GAN dalam meningkatkan performa model klasifikasi penyakit hati.\n",
        "\n"
      ],
      "metadata": {
        "id": "2mFf-EPkYprQ"
      }
    },
    {
      "cell_type": "markdown",
      "source": [
        "## BAB 1 - (J.62DMI00.004.1) Mengumpulkan data\n",
        "- Load Data dan Ganti nama kolom yang masih berupa index dan ganti menjadi berikut pada dataframe :\n",
        "\n",
        "\n",
        "*    'age', 'gender', 'tb', 'db', 'alkphos', 'sgpt', 'sgot',\n",
        "       'tp', 'alb', 'a/g ratio', 'selector'\n",
        "\n",
        "\n"
      ],
      "metadata": {
        "id": "xtEQMJIobeFY"
      }
    },
    {
      "cell_type": "markdown",
      "source": [
        "### Load Libary"
      ],
      "metadata": {
        "id": "VnLAsM-RP9u7"
      }
    },
    {
      "cell_type": "code",
      "execution_count": 1,
      "metadata": {
        "id": "Mx_n7bsbXcnB",
        "outputId": "bd899288-9998-4899-d494-456157b685a0",
        "colab": {
          "base_uri": "https://localhost:8080/"
        }
      },
      "outputs": [
        {
          "output_type": "stream",
          "name": "stdout",
          "text": [
            "Collecting ctgan\n",
            "  Downloading ctgan-0.11.0-py3-none-any.whl.metadata (10 kB)\n",
            "Requirement already satisfied: numpy>=1.23.3 in /usr/local/lib/python3.11/dist-packages (from ctgan) (2.0.2)\n",
            "Requirement already satisfied: pandas>=1.5.0 in /usr/local/lib/python3.11/dist-packages (from ctgan) (2.2.2)\n",
            "Requirement already satisfied: torch>=2.0.0 in /usr/local/lib/python3.11/dist-packages (from ctgan) (2.6.0+cu124)\n",
            "Requirement already satisfied: tqdm<5,>=4.29 in /usr/local/lib/python3.11/dist-packages (from ctgan) (4.67.1)\n",
            "Collecting rdt>=1.14.0 (from ctgan)\n",
            "  Downloading rdt-1.17.0-py3-none-any.whl.metadata (10 kB)\n",
            "Requirement already satisfied: python-dateutil>=2.8.2 in /usr/local/lib/python3.11/dist-packages (from pandas>=1.5.0->ctgan) (2.9.0.post0)\n",
            "Requirement already satisfied: pytz>=2020.1 in /usr/local/lib/python3.11/dist-packages (from pandas>=1.5.0->ctgan) (2025.2)\n",
            "Requirement already satisfied: tzdata>=2022.7 in /usr/local/lib/python3.11/dist-packages (from pandas>=1.5.0->ctgan) (2025.2)\n",
            "Requirement already satisfied: scipy>=1.9.2 in /usr/local/lib/python3.11/dist-packages (from rdt>=1.14.0->ctgan) (1.15.3)\n",
            "Requirement already satisfied: scikit-learn>=1.1.3 in /usr/local/lib/python3.11/dist-packages (from rdt>=1.14.0->ctgan) (1.6.1)\n",
            "Collecting Faker>=17 (from rdt>=1.14.0->ctgan)\n",
            "  Downloading faker-37.3.0-py3-none-any.whl.metadata (15 kB)\n",
            "Requirement already satisfied: filelock in /usr/local/lib/python3.11/dist-packages (from torch>=2.0.0->ctgan) (3.18.0)\n",
            "Requirement already satisfied: typing-extensions>=4.10.0 in /usr/local/lib/python3.11/dist-packages (from torch>=2.0.0->ctgan) (4.14.0)\n",
            "Requirement already satisfied: networkx in /usr/local/lib/python3.11/dist-packages (from torch>=2.0.0->ctgan) (3.5)\n",
            "Requirement already satisfied: jinja2 in /usr/local/lib/python3.11/dist-packages (from torch>=2.0.0->ctgan) (3.1.6)\n",
            "Requirement already satisfied: fsspec in /usr/local/lib/python3.11/dist-packages (from torch>=2.0.0->ctgan) (2025.3.2)\n",
            "Collecting nvidia-cuda-nvrtc-cu12==12.4.127 (from torch>=2.0.0->ctgan)\n",
            "  Downloading nvidia_cuda_nvrtc_cu12-12.4.127-py3-none-manylinux2014_x86_64.whl.metadata (1.5 kB)\n",
            "Collecting nvidia-cuda-runtime-cu12==12.4.127 (from torch>=2.0.0->ctgan)\n",
            "  Downloading nvidia_cuda_runtime_cu12-12.4.127-py3-none-manylinux2014_x86_64.whl.metadata (1.5 kB)\n",
            "Collecting nvidia-cuda-cupti-cu12==12.4.127 (from torch>=2.0.0->ctgan)\n",
            "  Downloading nvidia_cuda_cupti_cu12-12.4.127-py3-none-manylinux2014_x86_64.whl.metadata (1.6 kB)\n",
            "Collecting nvidia-cudnn-cu12==9.1.0.70 (from torch>=2.0.0->ctgan)\n",
            "  Downloading nvidia_cudnn_cu12-9.1.0.70-py3-none-manylinux2014_x86_64.whl.metadata (1.6 kB)\n",
            "Collecting nvidia-cublas-cu12==12.4.5.8 (from torch>=2.0.0->ctgan)\n",
            "  Downloading nvidia_cublas_cu12-12.4.5.8-py3-none-manylinux2014_x86_64.whl.metadata (1.5 kB)\n",
            "Collecting nvidia-cufft-cu12==11.2.1.3 (from torch>=2.0.0->ctgan)\n",
            "  Downloading nvidia_cufft_cu12-11.2.1.3-py3-none-manylinux2014_x86_64.whl.metadata (1.5 kB)\n",
            "Collecting nvidia-curand-cu12==10.3.5.147 (from torch>=2.0.0->ctgan)\n",
            "  Downloading nvidia_curand_cu12-10.3.5.147-py3-none-manylinux2014_x86_64.whl.metadata (1.5 kB)\n",
            "Collecting nvidia-cusolver-cu12==11.6.1.9 (from torch>=2.0.0->ctgan)\n",
            "  Downloading nvidia_cusolver_cu12-11.6.1.9-py3-none-manylinux2014_x86_64.whl.metadata (1.6 kB)\n",
            "Collecting nvidia-cusparse-cu12==12.3.1.170 (from torch>=2.0.0->ctgan)\n",
            "  Downloading nvidia_cusparse_cu12-12.3.1.170-py3-none-manylinux2014_x86_64.whl.metadata (1.6 kB)\n",
            "Requirement already satisfied: nvidia-cusparselt-cu12==0.6.2 in /usr/local/lib/python3.11/dist-packages (from torch>=2.0.0->ctgan) (0.6.2)\n",
            "Requirement already satisfied: nvidia-nccl-cu12==2.21.5 in /usr/local/lib/python3.11/dist-packages (from torch>=2.0.0->ctgan) (2.21.5)\n",
            "Requirement already satisfied: nvidia-nvtx-cu12==12.4.127 in /usr/local/lib/python3.11/dist-packages (from torch>=2.0.0->ctgan) (12.4.127)\n",
            "Collecting nvidia-nvjitlink-cu12==12.4.127 (from torch>=2.0.0->ctgan)\n",
            "  Downloading nvidia_nvjitlink_cu12-12.4.127-py3-none-manylinux2014_x86_64.whl.metadata (1.5 kB)\n",
            "Requirement already satisfied: triton==3.2.0 in /usr/local/lib/python3.11/dist-packages (from torch>=2.0.0->ctgan) (3.2.0)\n",
            "Requirement already satisfied: sympy==1.13.1 in /usr/local/lib/python3.11/dist-packages (from torch>=2.0.0->ctgan) (1.13.1)\n",
            "Requirement already satisfied: mpmath<1.4,>=1.1.0 in /usr/local/lib/python3.11/dist-packages (from sympy==1.13.1->torch>=2.0.0->ctgan) (1.3.0)\n",
            "Requirement already satisfied: six>=1.5 in /usr/local/lib/python3.11/dist-packages (from python-dateutil>=2.8.2->pandas>=1.5.0->ctgan) (1.17.0)\n",
            "Requirement already satisfied: joblib>=1.2.0 in /usr/local/lib/python3.11/dist-packages (from scikit-learn>=1.1.3->rdt>=1.14.0->ctgan) (1.5.1)\n",
            "Requirement already satisfied: threadpoolctl>=3.1.0 in /usr/local/lib/python3.11/dist-packages (from scikit-learn>=1.1.3->rdt>=1.14.0->ctgan) (3.6.0)\n",
            "Requirement already satisfied: MarkupSafe>=2.0 in /usr/local/lib/python3.11/dist-packages (from jinja2->torch>=2.0.0->ctgan) (3.0.2)\n",
            "Downloading ctgan-0.11.0-py3-none-any.whl (24 kB)\n",
            "Downloading rdt-1.17.0-py3-none-any.whl (73 kB)\n",
            "\u001b[2K   \u001b[90m━━━━━━━━━━━━━━━━━━━━━━━━━━━━━━━━━━━━━━━━\u001b[0m \u001b[32m73.8/73.8 kB\u001b[0m \u001b[31m5.0 MB/s\u001b[0m eta \u001b[36m0:00:00\u001b[0m\n",
            "\u001b[?25hDownloading nvidia_cublas_cu12-12.4.5.8-py3-none-manylinux2014_x86_64.whl (363.4 MB)\n",
            "\u001b[2K   \u001b[90m━━━━━━━━━━━━━━━━━━━━━━━━━━━━━━━━━━━━━━━━\u001b[0m \u001b[32m363.4/363.4 MB\u001b[0m \u001b[31m4.2 MB/s\u001b[0m eta \u001b[36m0:00:00\u001b[0m\n",
            "\u001b[?25hDownloading nvidia_cuda_cupti_cu12-12.4.127-py3-none-manylinux2014_x86_64.whl (13.8 MB)\n",
            "\u001b[2K   \u001b[90m━━━━━━━━━━━━━━━━━━━━━━━━━━━━━━━━━━━━━━━━\u001b[0m \u001b[32m13.8/13.8 MB\u001b[0m \u001b[31m29.4 MB/s\u001b[0m eta \u001b[36m0:00:00\u001b[0m\n",
            "\u001b[?25hDownloading nvidia_cuda_nvrtc_cu12-12.4.127-py3-none-manylinux2014_x86_64.whl (24.6 MB)\n",
            "\u001b[2K   \u001b[90m━━━━━━━━━━━━━━━━━━━━━━━━━━━━━━━━━━━━━━━━\u001b[0m \u001b[32m24.6/24.6 MB\u001b[0m \u001b[31m50.4 MB/s\u001b[0m eta \u001b[36m0:00:00\u001b[0m\n",
            "\u001b[?25hDownloading nvidia_cuda_runtime_cu12-12.4.127-py3-none-manylinux2014_x86_64.whl (883 kB)\n",
            "\u001b[2K   \u001b[90m━━━━━━━━━━━━━━━━━━━━━━━━━━━━━━━━━━━━━━━━\u001b[0m \u001b[32m883.7/883.7 kB\u001b[0m \u001b[31m23.5 MB/s\u001b[0m eta \u001b[36m0:00:00\u001b[0m\n",
            "\u001b[?25hDownloading nvidia_cudnn_cu12-9.1.0.70-py3-none-manylinux2014_x86_64.whl (664.8 MB)\n",
            "\u001b[2K   \u001b[90m━━━━━━━━━━━━━━━━━━━━━━━━━━━━━━━━━━━━━━━━\u001b[0m \u001b[32m664.8/664.8 MB\u001b[0m \u001b[31m2.2 MB/s\u001b[0m eta \u001b[36m0:00:00\u001b[0m\n",
            "\u001b[?25hDownloading nvidia_cufft_cu12-11.2.1.3-py3-none-manylinux2014_x86_64.whl (211.5 MB)\n",
            "\u001b[2K   \u001b[90m━━━━━━━━━━━━━━━━━━━━━━━━━━━━━━━━━━━━━━━━\u001b[0m \u001b[32m211.5/211.5 MB\u001b[0m \u001b[31m6.1 MB/s\u001b[0m eta \u001b[36m0:00:00\u001b[0m\n",
            "\u001b[?25hDownloading nvidia_curand_cu12-10.3.5.147-py3-none-manylinux2014_x86_64.whl (56.3 MB)\n",
            "\u001b[2K   \u001b[90m━━━━━━━━━━━━━━━━━━━━━━━━━━━━━━━━━━━━━━━━\u001b[0m \u001b[32m56.3/56.3 MB\u001b[0m \u001b[31m12.8 MB/s\u001b[0m eta \u001b[36m0:00:00\u001b[0m\n",
            "\u001b[?25hDownloading nvidia_cusolver_cu12-11.6.1.9-py3-none-manylinux2014_x86_64.whl (127.9 MB)\n",
            "\u001b[2K   \u001b[90m━━━━━━━━━━━━━━━━━━━━━━━━━━━━━━━━━━━━━━━━\u001b[0m \u001b[32m127.9/127.9 MB\u001b[0m \u001b[31m7.5 MB/s\u001b[0m eta \u001b[36m0:00:00\u001b[0m\n",
            "\u001b[?25hDownloading nvidia_cusparse_cu12-12.3.1.170-py3-none-manylinux2014_x86_64.whl (207.5 MB)\n",
            "\u001b[2K   \u001b[90m━━━━━━━━━━━━━━━━━━━━━━━━━━━━━━━━━━━━━━━━\u001b[0m \u001b[32m207.5/207.5 MB\u001b[0m \u001b[31m5.5 MB/s\u001b[0m eta \u001b[36m0:00:00\u001b[0m\n",
            "\u001b[?25hDownloading nvidia_nvjitlink_cu12-12.4.127-py3-none-manylinux2014_x86_64.whl (21.1 MB)\n",
            "\u001b[2K   \u001b[90m━━━━━━━━━━━━━━━━━━━━━━━━━━━━━━━━━━━━━━━━\u001b[0m \u001b[32m21.1/21.1 MB\u001b[0m \u001b[31m108.5 MB/s\u001b[0m eta \u001b[36m0:00:00\u001b[0m\n",
            "\u001b[?25hDownloading faker-37.3.0-py3-none-any.whl (1.9 MB)\n",
            "\u001b[2K   \u001b[90m━━━━━━━━━━━━━━━━━━━━━━━━━━━━━━━━━━━━━━━━\u001b[0m \u001b[32m1.9/1.9 MB\u001b[0m \u001b[31m90.6 MB/s\u001b[0m eta \u001b[36m0:00:00\u001b[0m\n",
            "\u001b[?25hInstalling collected packages: nvidia-nvjitlink-cu12, nvidia-curand-cu12, nvidia-cufft-cu12, nvidia-cuda-runtime-cu12, nvidia-cuda-nvrtc-cu12, nvidia-cuda-cupti-cu12, nvidia-cublas-cu12, Faker, nvidia-cusparse-cu12, nvidia-cudnn-cu12, rdt, nvidia-cusolver-cu12, ctgan\n",
            "  Attempting uninstall: nvidia-nvjitlink-cu12\n",
            "    Found existing installation: nvidia-nvjitlink-cu12 12.5.82\n",
            "    Uninstalling nvidia-nvjitlink-cu12-12.5.82:\n",
            "      Successfully uninstalled nvidia-nvjitlink-cu12-12.5.82\n",
            "  Attempting uninstall: nvidia-curand-cu12\n",
            "    Found existing installation: nvidia-curand-cu12 10.3.6.82\n",
            "    Uninstalling nvidia-curand-cu12-10.3.6.82:\n",
            "      Successfully uninstalled nvidia-curand-cu12-10.3.6.82\n",
            "  Attempting uninstall: nvidia-cufft-cu12\n",
            "    Found existing installation: nvidia-cufft-cu12 11.2.3.61\n",
            "    Uninstalling nvidia-cufft-cu12-11.2.3.61:\n",
            "      Successfully uninstalled nvidia-cufft-cu12-11.2.3.61\n",
            "  Attempting uninstall: nvidia-cuda-runtime-cu12\n",
            "    Found existing installation: nvidia-cuda-runtime-cu12 12.5.82\n",
            "    Uninstalling nvidia-cuda-runtime-cu12-12.5.82:\n",
            "      Successfully uninstalled nvidia-cuda-runtime-cu12-12.5.82\n",
            "  Attempting uninstall: nvidia-cuda-nvrtc-cu12\n",
            "    Found existing installation: nvidia-cuda-nvrtc-cu12 12.5.82\n",
            "    Uninstalling nvidia-cuda-nvrtc-cu12-12.5.82:\n",
            "      Successfully uninstalled nvidia-cuda-nvrtc-cu12-12.5.82\n",
            "  Attempting uninstall: nvidia-cuda-cupti-cu12\n",
            "    Found existing installation: nvidia-cuda-cupti-cu12 12.5.82\n",
            "    Uninstalling nvidia-cuda-cupti-cu12-12.5.82:\n",
            "      Successfully uninstalled nvidia-cuda-cupti-cu12-12.5.82\n",
            "  Attempting uninstall: nvidia-cublas-cu12\n",
            "    Found existing installation: nvidia-cublas-cu12 12.5.3.2\n",
            "    Uninstalling nvidia-cublas-cu12-12.5.3.2:\n",
            "      Successfully uninstalled nvidia-cublas-cu12-12.5.3.2\n",
            "  Attempting uninstall: nvidia-cusparse-cu12\n",
            "    Found existing installation: nvidia-cusparse-cu12 12.5.1.3\n",
            "    Uninstalling nvidia-cusparse-cu12-12.5.1.3:\n",
            "      Successfully uninstalled nvidia-cusparse-cu12-12.5.1.3\n",
            "  Attempting uninstall: nvidia-cudnn-cu12\n",
            "    Found existing installation: nvidia-cudnn-cu12 9.3.0.75\n",
            "    Uninstalling nvidia-cudnn-cu12-9.3.0.75:\n",
            "      Successfully uninstalled nvidia-cudnn-cu12-9.3.0.75\n",
            "  Attempting uninstall: nvidia-cusolver-cu12\n",
            "    Found existing installation: nvidia-cusolver-cu12 11.6.3.83\n",
            "    Uninstalling nvidia-cusolver-cu12-11.6.3.83:\n",
            "      Successfully uninstalled nvidia-cusolver-cu12-11.6.3.83\n",
            "Successfully installed Faker-37.3.0 ctgan-0.11.0 nvidia-cublas-cu12-12.4.5.8 nvidia-cuda-cupti-cu12-12.4.127 nvidia-cuda-nvrtc-cu12-12.4.127 nvidia-cuda-runtime-cu12-12.4.127 nvidia-cudnn-cu12-9.1.0.70 nvidia-cufft-cu12-11.2.1.3 nvidia-curand-cu12-10.3.5.147 nvidia-cusolver-cu12-11.6.1.9 nvidia-cusparse-cu12-12.3.1.170 nvidia-nvjitlink-cu12-12.4.127 rdt-1.17.0\n"
          ]
        }
      ],
      "source": [
        "# Import Library\n",
        "!pip install ctgan\n",
        "import pandas as pd\n",
        "import seaborn as sns\n",
        "import matplotlib.pyplot as plt\n",
        "import numpy as np\n",
        "from sklearn.impute import SimpleImputer\n",
        "from sklearn.model_selection import train_test_split, GridSearchCV, RandomizedSearchCV\n",
        "from sklearn.preprocessing import RobustScaler\n",
        "from sklearn.preprocessing import StandardScaler\n",
        "from sklearn.svm import SVC\n",
        "from sklearn.tree import DecisionTreeClassifier\n",
        "from sklearn.neighbors import KNeighborsClassifier\n",
        "from sklearn.linear_model import LogisticRegression\n",
        "from sklearn.metrics import classification_report, confusion_matrix\n",
        "from imblearn.over_sampling import SMOTE\n",
        "from ctgan import CTGAN\n",
        "from sklearn.metrics import accuracy_score"
      ]
    },
    {
      "cell_type": "markdown",
      "source": [
        "### Load Dataset"
      ],
      "metadata": {
        "id": "FuSyY6ZVQBGj"
      }
    },
    {
      "cell_type": "code",
      "source": [
        "# Load Dataset\n",
        "df = pd.read_csv('/content/Indian Liver Patient Dataset (ILPD).csv', header=None)\n",
        "x = df.iloc[:,:-1].values\n",
        "y = df.iloc[:,-1].values"
      ],
      "metadata": {
        "id": "zoTEdiDwLErm"
      },
      "execution_count": 3,
      "outputs": []
    },
    {
      "cell_type": "markdown",
      "source": [],
      "metadata": {
        "id": "L5V6z8xZKMOx"
      }
    },
    {
      "cell_type": "code",
      "source": [
        "# cek nama kolom\n",
        "df.head()"
      ],
      "metadata": {
        "id": "CgW1eSojKPBj",
        "outputId": "ccd14c27-0786-47f0-d702-8ebdec6669d6",
        "colab": {
          "base_uri": "https://localhost:8080/",
          "height": 206
        }
      },
      "execution_count": 4,
      "outputs": [
        {
          "output_type": "execute_result",
          "data": {
            "text/plain": [
              "   0       1     2    3    4   5    6    7    8     9   10\n",
              "0  65  Female   0.7  0.1  187  16   18  6.8  3.3  0.90   1\n",
              "1  62    Male  10.9  5.5  699  64  100  7.5  3.2  0.74   1\n",
              "2  62    Male   7.3  4.1  490  60   68  7.0  3.3  0.89   1\n",
              "3  58    Male   1.0  0.4  182  14   20  6.8  3.4  1.00   1\n",
              "4  72    Male   3.9  2.0  195  27   59  7.3  2.4  0.40   1"
            ],
            "text/html": [
              "\n",
              "  <div id=\"df-ca40bd58-912a-49b7-86e0-150b0312e49b\" class=\"colab-df-container\">\n",
              "    <div>\n",
              "<style scoped>\n",
              "    .dataframe tbody tr th:only-of-type {\n",
              "        vertical-align: middle;\n",
              "    }\n",
              "\n",
              "    .dataframe tbody tr th {\n",
              "        vertical-align: top;\n",
              "    }\n",
              "\n",
              "    .dataframe thead th {\n",
              "        text-align: right;\n",
              "    }\n",
              "</style>\n",
              "<table border=\"1\" class=\"dataframe\">\n",
              "  <thead>\n",
              "    <tr style=\"text-align: right;\">\n",
              "      <th></th>\n",
              "      <th>0</th>\n",
              "      <th>1</th>\n",
              "      <th>2</th>\n",
              "      <th>3</th>\n",
              "      <th>4</th>\n",
              "      <th>5</th>\n",
              "      <th>6</th>\n",
              "      <th>7</th>\n",
              "      <th>8</th>\n",
              "      <th>9</th>\n",
              "      <th>10</th>\n",
              "    </tr>\n",
              "  </thead>\n",
              "  <tbody>\n",
              "    <tr>\n",
              "      <th>0</th>\n",
              "      <td>65</td>\n",
              "      <td>Female</td>\n",
              "      <td>0.7</td>\n",
              "      <td>0.1</td>\n",
              "      <td>187</td>\n",
              "      <td>16</td>\n",
              "      <td>18</td>\n",
              "      <td>6.8</td>\n",
              "      <td>3.3</td>\n",
              "      <td>0.90</td>\n",
              "      <td>1</td>\n",
              "    </tr>\n",
              "    <tr>\n",
              "      <th>1</th>\n",
              "      <td>62</td>\n",
              "      <td>Male</td>\n",
              "      <td>10.9</td>\n",
              "      <td>5.5</td>\n",
              "      <td>699</td>\n",
              "      <td>64</td>\n",
              "      <td>100</td>\n",
              "      <td>7.5</td>\n",
              "      <td>3.2</td>\n",
              "      <td>0.74</td>\n",
              "      <td>1</td>\n",
              "    </tr>\n",
              "    <tr>\n",
              "      <th>2</th>\n",
              "      <td>62</td>\n",
              "      <td>Male</td>\n",
              "      <td>7.3</td>\n",
              "      <td>4.1</td>\n",
              "      <td>490</td>\n",
              "      <td>60</td>\n",
              "      <td>68</td>\n",
              "      <td>7.0</td>\n",
              "      <td>3.3</td>\n",
              "      <td>0.89</td>\n",
              "      <td>1</td>\n",
              "    </tr>\n",
              "    <tr>\n",
              "      <th>3</th>\n",
              "      <td>58</td>\n",
              "      <td>Male</td>\n",
              "      <td>1.0</td>\n",
              "      <td>0.4</td>\n",
              "      <td>182</td>\n",
              "      <td>14</td>\n",
              "      <td>20</td>\n",
              "      <td>6.8</td>\n",
              "      <td>3.4</td>\n",
              "      <td>1.00</td>\n",
              "      <td>1</td>\n",
              "    </tr>\n",
              "    <tr>\n",
              "      <th>4</th>\n",
              "      <td>72</td>\n",
              "      <td>Male</td>\n",
              "      <td>3.9</td>\n",
              "      <td>2.0</td>\n",
              "      <td>195</td>\n",
              "      <td>27</td>\n",
              "      <td>59</td>\n",
              "      <td>7.3</td>\n",
              "      <td>2.4</td>\n",
              "      <td>0.40</td>\n",
              "      <td>1</td>\n",
              "    </tr>\n",
              "  </tbody>\n",
              "</table>\n",
              "</div>\n",
              "    <div class=\"colab-df-buttons\">\n",
              "\n",
              "  <div class=\"colab-df-container\">\n",
              "    <button class=\"colab-df-convert\" onclick=\"convertToInteractive('df-ca40bd58-912a-49b7-86e0-150b0312e49b')\"\n",
              "            title=\"Convert this dataframe to an interactive table.\"\n",
              "            style=\"display:none;\">\n",
              "\n",
              "  <svg xmlns=\"http://www.w3.org/2000/svg\" height=\"24px\" viewBox=\"0 -960 960 960\">\n",
              "    <path d=\"M120-120v-720h720v720H120Zm60-500h600v-160H180v160Zm220 220h160v-160H400v160Zm0 220h160v-160H400v160ZM180-400h160v-160H180v160Zm440 0h160v-160H620v160ZM180-180h160v-160H180v160Zm440 0h160v-160H620v160Z\"/>\n",
              "  </svg>\n",
              "    </button>\n",
              "\n",
              "  <style>\n",
              "    .colab-df-container {\n",
              "      display:flex;\n",
              "      gap: 12px;\n",
              "    }\n",
              "\n",
              "    .colab-df-convert {\n",
              "      background-color: #E8F0FE;\n",
              "      border: none;\n",
              "      border-radius: 50%;\n",
              "      cursor: pointer;\n",
              "      display: none;\n",
              "      fill: #1967D2;\n",
              "      height: 32px;\n",
              "      padding: 0 0 0 0;\n",
              "      width: 32px;\n",
              "    }\n",
              "\n",
              "    .colab-df-convert:hover {\n",
              "      background-color: #E2EBFA;\n",
              "      box-shadow: 0px 1px 2px rgba(60, 64, 67, 0.3), 0px 1px 3px 1px rgba(60, 64, 67, 0.15);\n",
              "      fill: #174EA6;\n",
              "    }\n",
              "\n",
              "    .colab-df-buttons div {\n",
              "      margin-bottom: 4px;\n",
              "    }\n",
              "\n",
              "    [theme=dark] .colab-df-convert {\n",
              "      background-color: #3B4455;\n",
              "      fill: #D2E3FC;\n",
              "    }\n",
              "\n",
              "    [theme=dark] .colab-df-convert:hover {\n",
              "      background-color: #434B5C;\n",
              "      box-shadow: 0px 1px 3px 1px rgba(0, 0, 0, 0.15);\n",
              "      filter: drop-shadow(0px 1px 2px rgba(0, 0, 0, 0.3));\n",
              "      fill: #FFFFFF;\n",
              "    }\n",
              "  </style>\n",
              "\n",
              "    <script>\n",
              "      const buttonEl =\n",
              "        document.querySelector('#df-ca40bd58-912a-49b7-86e0-150b0312e49b button.colab-df-convert');\n",
              "      buttonEl.style.display =\n",
              "        google.colab.kernel.accessAllowed ? 'block' : 'none';\n",
              "\n",
              "      async function convertToInteractive(key) {\n",
              "        const element = document.querySelector('#df-ca40bd58-912a-49b7-86e0-150b0312e49b');\n",
              "        const dataTable =\n",
              "          await google.colab.kernel.invokeFunction('convertToInteractive',\n",
              "                                                    [key], {});\n",
              "        if (!dataTable) return;\n",
              "\n",
              "        const docLinkHtml = 'Like what you see? Visit the ' +\n",
              "          '<a target=\"_blank\" href=https://colab.research.google.com/notebooks/data_table.ipynb>data table notebook</a>'\n",
              "          + ' to learn more about interactive tables.';\n",
              "        element.innerHTML = '';\n",
              "        dataTable['output_type'] = 'display_data';\n",
              "        await google.colab.output.renderOutput(dataTable, element);\n",
              "        const docLink = document.createElement('div');\n",
              "        docLink.innerHTML = docLinkHtml;\n",
              "        element.appendChild(docLink);\n",
              "      }\n",
              "    </script>\n",
              "  </div>\n",
              "\n",
              "\n",
              "    <div id=\"df-394c39a3-2b2c-4796-8b9a-1b892eb78451\">\n",
              "      <button class=\"colab-df-quickchart\" onclick=\"quickchart('df-394c39a3-2b2c-4796-8b9a-1b892eb78451')\"\n",
              "                title=\"Suggest charts\"\n",
              "                style=\"display:none;\">\n",
              "\n",
              "<svg xmlns=\"http://www.w3.org/2000/svg\" height=\"24px\"viewBox=\"0 0 24 24\"\n",
              "     width=\"24px\">\n",
              "    <g>\n",
              "        <path d=\"M19 3H5c-1.1 0-2 .9-2 2v14c0 1.1.9 2 2 2h14c1.1 0 2-.9 2-2V5c0-1.1-.9-2-2-2zM9 17H7v-7h2v7zm4 0h-2V7h2v10zm4 0h-2v-4h2v4z\"/>\n",
              "    </g>\n",
              "</svg>\n",
              "      </button>\n",
              "\n",
              "<style>\n",
              "  .colab-df-quickchart {\n",
              "      --bg-color: #E8F0FE;\n",
              "      --fill-color: #1967D2;\n",
              "      --hover-bg-color: #E2EBFA;\n",
              "      --hover-fill-color: #174EA6;\n",
              "      --disabled-fill-color: #AAA;\n",
              "      --disabled-bg-color: #DDD;\n",
              "  }\n",
              "\n",
              "  [theme=dark] .colab-df-quickchart {\n",
              "      --bg-color: #3B4455;\n",
              "      --fill-color: #D2E3FC;\n",
              "      --hover-bg-color: #434B5C;\n",
              "      --hover-fill-color: #FFFFFF;\n",
              "      --disabled-bg-color: #3B4455;\n",
              "      --disabled-fill-color: #666;\n",
              "  }\n",
              "\n",
              "  .colab-df-quickchart {\n",
              "    background-color: var(--bg-color);\n",
              "    border: none;\n",
              "    border-radius: 50%;\n",
              "    cursor: pointer;\n",
              "    display: none;\n",
              "    fill: var(--fill-color);\n",
              "    height: 32px;\n",
              "    padding: 0;\n",
              "    width: 32px;\n",
              "  }\n",
              "\n",
              "  .colab-df-quickchart:hover {\n",
              "    background-color: var(--hover-bg-color);\n",
              "    box-shadow: 0 1px 2px rgba(60, 64, 67, 0.3), 0 1px 3px 1px rgba(60, 64, 67, 0.15);\n",
              "    fill: var(--button-hover-fill-color);\n",
              "  }\n",
              "\n",
              "  .colab-df-quickchart-complete:disabled,\n",
              "  .colab-df-quickchart-complete:disabled:hover {\n",
              "    background-color: var(--disabled-bg-color);\n",
              "    fill: var(--disabled-fill-color);\n",
              "    box-shadow: none;\n",
              "  }\n",
              "\n",
              "  .colab-df-spinner {\n",
              "    border: 2px solid var(--fill-color);\n",
              "    border-color: transparent;\n",
              "    border-bottom-color: var(--fill-color);\n",
              "    animation:\n",
              "      spin 1s steps(1) infinite;\n",
              "  }\n",
              "\n",
              "  @keyframes spin {\n",
              "    0% {\n",
              "      border-color: transparent;\n",
              "      border-bottom-color: var(--fill-color);\n",
              "      border-left-color: var(--fill-color);\n",
              "    }\n",
              "    20% {\n",
              "      border-color: transparent;\n",
              "      border-left-color: var(--fill-color);\n",
              "      border-top-color: var(--fill-color);\n",
              "    }\n",
              "    30% {\n",
              "      border-color: transparent;\n",
              "      border-left-color: var(--fill-color);\n",
              "      border-top-color: var(--fill-color);\n",
              "      border-right-color: var(--fill-color);\n",
              "    }\n",
              "    40% {\n",
              "      border-color: transparent;\n",
              "      border-right-color: var(--fill-color);\n",
              "      border-top-color: var(--fill-color);\n",
              "    }\n",
              "    60% {\n",
              "      border-color: transparent;\n",
              "      border-right-color: var(--fill-color);\n",
              "    }\n",
              "    80% {\n",
              "      border-color: transparent;\n",
              "      border-right-color: var(--fill-color);\n",
              "      border-bottom-color: var(--fill-color);\n",
              "    }\n",
              "    90% {\n",
              "      border-color: transparent;\n",
              "      border-bottom-color: var(--fill-color);\n",
              "    }\n",
              "  }\n",
              "</style>\n",
              "\n",
              "      <script>\n",
              "        async function quickchart(key) {\n",
              "          const quickchartButtonEl =\n",
              "            document.querySelector('#' + key + ' button');\n",
              "          quickchartButtonEl.disabled = true;  // To prevent multiple clicks.\n",
              "          quickchartButtonEl.classList.add('colab-df-spinner');\n",
              "          try {\n",
              "            const charts = await google.colab.kernel.invokeFunction(\n",
              "                'suggestCharts', [key], {});\n",
              "          } catch (error) {\n",
              "            console.error('Error during call to suggestCharts:', error);\n",
              "          }\n",
              "          quickchartButtonEl.classList.remove('colab-df-spinner');\n",
              "          quickchartButtonEl.classList.add('colab-df-quickchart-complete');\n",
              "        }\n",
              "        (() => {\n",
              "          let quickchartButtonEl =\n",
              "            document.querySelector('#df-394c39a3-2b2c-4796-8b9a-1b892eb78451 button');\n",
              "          quickchartButtonEl.style.display =\n",
              "            google.colab.kernel.accessAllowed ? 'block' : 'none';\n",
              "        })();\n",
              "      </script>\n",
              "    </div>\n",
              "\n",
              "    </div>\n",
              "  </div>\n"
            ],
            "application/vnd.google.colaboratory.intrinsic+json": {
              "type": "dataframe",
              "variable_name": "df",
              "summary": "{\n  \"name\": \"df\",\n  \"rows\": 583,\n  \"fields\": [\n    {\n      \"column\": 0,\n      \"properties\": {\n        \"dtype\": \"number\",\n        \"std\": 16,\n        \"min\": 4,\n        \"max\": 90,\n        \"num_unique_values\": 72,\n        \"samples\": [\n          46,\n          23,\n          63\n        ],\n        \"semantic_type\": \"\",\n        \"description\": \"\"\n      }\n    },\n    {\n      \"column\": 1,\n      \"properties\": {\n        \"dtype\": \"category\",\n        \"num_unique_values\": 2,\n        \"samples\": [\n          \"Male\",\n          \"Female\"\n        ],\n        \"semantic_type\": \"\",\n        \"description\": \"\"\n      }\n    },\n    {\n      \"column\": 2,\n      \"properties\": {\n        \"dtype\": \"number\",\n        \"std\": 6.209521726180145,\n        \"min\": 0.4,\n        \"max\": 75.0,\n        \"num_unique_values\": 113,\n        \"samples\": [\n          4.9,\n          3.9\n        ],\n        \"semantic_type\": \"\",\n        \"description\": \"\"\n      }\n    },\n    {\n      \"column\": 3,\n      \"properties\": {\n        \"dtype\": \"number\",\n        \"std\": 2.8084976176589636,\n        \"min\": 0.1,\n        \"max\": 19.7,\n        \"num_unique_values\": 80,\n        \"samples\": [\n          6.2,\n          0.1\n        ],\n        \"semantic_type\": \"\",\n        \"description\": \"\"\n      }\n    },\n    {\n      \"column\": 4,\n      \"properties\": {\n        \"dtype\": \"number\",\n        \"std\": 242,\n        \"min\": 63,\n        \"max\": 2110,\n        \"num_unique_values\": 263,\n        \"samples\": [\n          386,\n          209\n        ],\n        \"semantic_type\": \"\",\n        \"description\": \"\"\n      }\n    },\n    {\n      \"column\": 5,\n      \"properties\": {\n        \"dtype\": \"number\",\n        \"std\": 182,\n        \"min\": 10,\n        \"max\": 2000,\n        \"num_unique_values\": 152,\n        \"samples\": [\n          2000,\n          321\n        ],\n        \"semantic_type\": \"\",\n        \"description\": \"\"\n      }\n    },\n    {\n      \"column\": 6,\n      \"properties\": {\n        \"dtype\": \"number\",\n        \"std\": 288,\n        \"min\": 10,\n        \"max\": 4929,\n        \"num_unique_values\": 177,\n        \"samples\": [\n          66,\n          16\n        ],\n        \"semantic_type\": \"\",\n        \"description\": \"\"\n      }\n    },\n    {\n      \"column\": 7,\n      \"properties\": {\n        \"dtype\": \"number\",\n        \"std\": 1.0854514840234664,\n        \"min\": 2.7,\n        \"max\": 9.6,\n        \"num_unique_values\": 58,\n        \"samples\": [\n          6.8,\n          6.7\n        ],\n        \"semantic_type\": \"\",\n        \"description\": \"\"\n      }\n    },\n    {\n      \"column\": 8,\n      \"properties\": {\n        \"dtype\": \"number\",\n        \"std\": 0.795518805964027,\n        \"min\": 0.9,\n        \"max\": 5.5,\n        \"num_unique_values\": 40,\n        \"samples\": [\n          2.0,\n          1.9\n        ],\n        \"semantic_type\": \"\",\n        \"description\": \"\"\n      }\n    },\n    {\n      \"column\": 9,\n      \"properties\": {\n        \"dtype\": \"number\",\n        \"std\": 0.31959210767237095,\n        \"min\": 0.3,\n        \"max\": 2.8,\n        \"num_unique_values\": 69,\n        \"samples\": [\n          1.6,\n          0.9\n        ],\n        \"semantic_type\": \"\",\n        \"description\": \"\"\n      }\n    },\n    {\n      \"column\": 10,\n      \"properties\": {\n        \"dtype\": \"number\",\n        \"std\": 0,\n        \"min\": 1,\n        \"max\": 2,\n        \"num_unique_values\": 2,\n        \"samples\": [\n          2,\n          1\n        ],\n        \"semantic_type\": \"\",\n        \"description\": \"\"\n      }\n    }\n  ]\n}"
            }
          },
          "metadata": {},
          "execution_count": 4
        }
      ]
    },
    {
      "cell_type": "markdown",
      "source": [
        "Perhatikan nama kolom pada dataset. Gantilah nama-nama kolom yang masih berupa indeks (angka) dengan nama-nama fitur yang sesuai, yaitu: 'age', 'gender', 'tb', 'db', 'alkphos', 'sgpt', 'sgot', 'tp', 'alb', 'a/g ratio', dan 'selector'."
      ],
      "metadata": {
        "id": "PFzMeSHwKY5I"
      }
    },
    {
      "cell_type": "code",
      "source": [
        "cols =['age','gender','tb','db','alkphos','sgpt','sgot','tp','alb','a/g','selector']\n",
        "\n",
        "# Mengganti nama kolom dataframe dengan cols\n",
        "df.columns = cols"
      ],
      "metadata": {
        "id": "CnPZAqrMdkO7"
      },
      "execution_count": 37,
      "outputs": []
    },
    {
      "cell_type": "markdown",
      "source": [
        "## BAB 2 – (J.62DMI00.005.1) Menelaah data"
      ],
      "metadata": {
        "id": "FBtaaWjLb-nP"
      }
    },
    {
      "cell_type": "markdown",
      "source": [
        "### Mengecek Value"
      ],
      "metadata": {
        "id": "fo3tkl7NQPHD"
      }
    },
    {
      "cell_type": "code",
      "source": [
        "# Menampilkan data setelah nama kolom berhasil diganti. (5 kolom teratas)\n",
        "df.head()"
      ],
      "metadata": {
        "id": "11A4zxD1dmmA",
        "outputId": "c73a6b83-0bca-4925-f810-c857a5ed9ef3",
        "colab": {
          "base_uri": "https://localhost:8080/",
          "height": 206
        }
      },
      "execution_count": 19,
      "outputs": [
        {
          "output_type": "execute_result",
          "data": {
            "text/plain": [
              "   age gender     tb   db  alkphos  sgpt  sgot   tp  alb   a/g  selector\n",
              "0   65  Female   0.7  0.1      187    16    18  6.8  3.3  0.90         1\n",
              "1   62    Male  10.9  5.5      699    64   100  7.5  3.2  0.74         1\n",
              "2   62    Male   7.3  4.1      490    60    68  7.0  3.3  0.89         1\n",
              "3   58    Male   1.0  0.4      182    14    20  6.8  3.4  1.00         1\n",
              "4   72    Male   3.9  2.0      195    27    59  7.3  2.4  0.40         1"
            ],
            "text/html": [
              "\n",
              "  <div id=\"df-5347f5df-7763-43d5-9c25-28774196de08\" class=\"colab-df-container\">\n",
              "    <div>\n",
              "<style scoped>\n",
              "    .dataframe tbody tr th:only-of-type {\n",
              "        vertical-align: middle;\n",
              "    }\n",
              "\n",
              "    .dataframe tbody tr th {\n",
              "        vertical-align: top;\n",
              "    }\n",
              "\n",
              "    .dataframe thead th {\n",
              "        text-align: right;\n",
              "    }\n",
              "</style>\n",
              "<table border=\"1\" class=\"dataframe\">\n",
              "  <thead>\n",
              "    <tr style=\"text-align: right;\">\n",
              "      <th></th>\n",
              "      <th>age</th>\n",
              "      <th>gender</th>\n",
              "      <th>tb</th>\n",
              "      <th>db</th>\n",
              "      <th>alkphos</th>\n",
              "      <th>sgpt</th>\n",
              "      <th>sgot</th>\n",
              "      <th>tp</th>\n",
              "      <th>alb</th>\n",
              "      <th>a/g</th>\n",
              "      <th>selector</th>\n",
              "    </tr>\n",
              "  </thead>\n",
              "  <tbody>\n",
              "    <tr>\n",
              "      <th>0</th>\n",
              "      <td>65</td>\n",
              "      <td>Female</td>\n",
              "      <td>0.7</td>\n",
              "      <td>0.1</td>\n",
              "      <td>187</td>\n",
              "      <td>16</td>\n",
              "      <td>18</td>\n",
              "      <td>6.8</td>\n",
              "      <td>3.3</td>\n",
              "      <td>0.90</td>\n",
              "      <td>1</td>\n",
              "    </tr>\n",
              "    <tr>\n",
              "      <th>1</th>\n",
              "      <td>62</td>\n",
              "      <td>Male</td>\n",
              "      <td>10.9</td>\n",
              "      <td>5.5</td>\n",
              "      <td>699</td>\n",
              "      <td>64</td>\n",
              "      <td>100</td>\n",
              "      <td>7.5</td>\n",
              "      <td>3.2</td>\n",
              "      <td>0.74</td>\n",
              "      <td>1</td>\n",
              "    </tr>\n",
              "    <tr>\n",
              "      <th>2</th>\n",
              "      <td>62</td>\n",
              "      <td>Male</td>\n",
              "      <td>7.3</td>\n",
              "      <td>4.1</td>\n",
              "      <td>490</td>\n",
              "      <td>60</td>\n",
              "      <td>68</td>\n",
              "      <td>7.0</td>\n",
              "      <td>3.3</td>\n",
              "      <td>0.89</td>\n",
              "      <td>1</td>\n",
              "    </tr>\n",
              "    <tr>\n",
              "      <th>3</th>\n",
              "      <td>58</td>\n",
              "      <td>Male</td>\n",
              "      <td>1.0</td>\n",
              "      <td>0.4</td>\n",
              "      <td>182</td>\n",
              "      <td>14</td>\n",
              "      <td>20</td>\n",
              "      <td>6.8</td>\n",
              "      <td>3.4</td>\n",
              "      <td>1.00</td>\n",
              "      <td>1</td>\n",
              "    </tr>\n",
              "    <tr>\n",
              "      <th>4</th>\n",
              "      <td>72</td>\n",
              "      <td>Male</td>\n",
              "      <td>3.9</td>\n",
              "      <td>2.0</td>\n",
              "      <td>195</td>\n",
              "      <td>27</td>\n",
              "      <td>59</td>\n",
              "      <td>7.3</td>\n",
              "      <td>2.4</td>\n",
              "      <td>0.40</td>\n",
              "      <td>1</td>\n",
              "    </tr>\n",
              "  </tbody>\n",
              "</table>\n",
              "</div>\n",
              "    <div class=\"colab-df-buttons\">\n",
              "\n",
              "  <div class=\"colab-df-container\">\n",
              "    <button class=\"colab-df-convert\" onclick=\"convertToInteractive('df-5347f5df-7763-43d5-9c25-28774196de08')\"\n",
              "            title=\"Convert this dataframe to an interactive table.\"\n",
              "            style=\"display:none;\">\n",
              "\n",
              "  <svg xmlns=\"http://www.w3.org/2000/svg\" height=\"24px\" viewBox=\"0 -960 960 960\">\n",
              "    <path d=\"M120-120v-720h720v720H120Zm60-500h600v-160H180v160Zm220 220h160v-160H400v160Zm0 220h160v-160H400v160ZM180-400h160v-160H180v160Zm440 0h160v-160H620v160ZM180-180h160v-160H180v160Zm440 0h160v-160H620v160Z\"/>\n",
              "  </svg>\n",
              "    </button>\n",
              "\n",
              "  <style>\n",
              "    .colab-df-container {\n",
              "      display:flex;\n",
              "      gap: 12px;\n",
              "    }\n",
              "\n",
              "    .colab-df-convert {\n",
              "      background-color: #E8F0FE;\n",
              "      border: none;\n",
              "      border-radius: 50%;\n",
              "      cursor: pointer;\n",
              "      display: none;\n",
              "      fill: #1967D2;\n",
              "      height: 32px;\n",
              "      padding: 0 0 0 0;\n",
              "      width: 32px;\n",
              "    }\n",
              "\n",
              "    .colab-df-convert:hover {\n",
              "      background-color: #E2EBFA;\n",
              "      box-shadow: 0px 1px 2px rgba(60, 64, 67, 0.3), 0px 1px 3px 1px rgba(60, 64, 67, 0.15);\n",
              "      fill: #174EA6;\n",
              "    }\n",
              "\n",
              "    .colab-df-buttons div {\n",
              "      margin-bottom: 4px;\n",
              "    }\n",
              "\n",
              "    [theme=dark] .colab-df-convert {\n",
              "      background-color: #3B4455;\n",
              "      fill: #D2E3FC;\n",
              "    }\n",
              "\n",
              "    [theme=dark] .colab-df-convert:hover {\n",
              "      background-color: #434B5C;\n",
              "      box-shadow: 0px 1px 3px 1px rgba(0, 0, 0, 0.15);\n",
              "      filter: drop-shadow(0px 1px 2px rgba(0, 0, 0, 0.3));\n",
              "      fill: #FFFFFF;\n",
              "    }\n",
              "  </style>\n",
              "\n",
              "    <script>\n",
              "      const buttonEl =\n",
              "        document.querySelector('#df-5347f5df-7763-43d5-9c25-28774196de08 button.colab-df-convert');\n",
              "      buttonEl.style.display =\n",
              "        google.colab.kernel.accessAllowed ? 'block' : 'none';\n",
              "\n",
              "      async function convertToInteractive(key) {\n",
              "        const element = document.querySelector('#df-5347f5df-7763-43d5-9c25-28774196de08');\n",
              "        const dataTable =\n",
              "          await google.colab.kernel.invokeFunction('convertToInteractive',\n",
              "                                                    [key], {});\n",
              "        if (!dataTable) return;\n",
              "\n",
              "        const docLinkHtml = 'Like what you see? Visit the ' +\n",
              "          '<a target=\"_blank\" href=https://colab.research.google.com/notebooks/data_table.ipynb>data table notebook</a>'\n",
              "          + ' to learn more about interactive tables.';\n",
              "        element.innerHTML = '';\n",
              "        dataTable['output_type'] = 'display_data';\n",
              "        await google.colab.output.renderOutput(dataTable, element);\n",
              "        const docLink = document.createElement('div');\n",
              "        docLink.innerHTML = docLinkHtml;\n",
              "        element.appendChild(docLink);\n",
              "      }\n",
              "    </script>\n",
              "  </div>\n",
              "\n",
              "\n",
              "    <div id=\"df-7821df99-4b15-4113-8dd3-39858d4e0048\">\n",
              "      <button class=\"colab-df-quickchart\" onclick=\"quickchart('df-7821df99-4b15-4113-8dd3-39858d4e0048')\"\n",
              "                title=\"Suggest charts\"\n",
              "                style=\"display:none;\">\n",
              "\n",
              "<svg xmlns=\"http://www.w3.org/2000/svg\" height=\"24px\"viewBox=\"0 0 24 24\"\n",
              "     width=\"24px\">\n",
              "    <g>\n",
              "        <path d=\"M19 3H5c-1.1 0-2 .9-2 2v14c0 1.1.9 2 2 2h14c1.1 0 2-.9 2-2V5c0-1.1-.9-2-2-2zM9 17H7v-7h2v7zm4 0h-2V7h2v10zm4 0h-2v-4h2v4z\"/>\n",
              "    </g>\n",
              "</svg>\n",
              "      </button>\n",
              "\n",
              "<style>\n",
              "  .colab-df-quickchart {\n",
              "      --bg-color: #E8F0FE;\n",
              "      --fill-color: #1967D2;\n",
              "      --hover-bg-color: #E2EBFA;\n",
              "      --hover-fill-color: #174EA6;\n",
              "      --disabled-fill-color: #AAA;\n",
              "      --disabled-bg-color: #DDD;\n",
              "  }\n",
              "\n",
              "  [theme=dark] .colab-df-quickchart {\n",
              "      --bg-color: #3B4455;\n",
              "      --fill-color: #D2E3FC;\n",
              "      --hover-bg-color: #434B5C;\n",
              "      --hover-fill-color: #FFFFFF;\n",
              "      --disabled-bg-color: #3B4455;\n",
              "      --disabled-fill-color: #666;\n",
              "  }\n",
              "\n",
              "  .colab-df-quickchart {\n",
              "    background-color: var(--bg-color);\n",
              "    border: none;\n",
              "    border-radius: 50%;\n",
              "    cursor: pointer;\n",
              "    display: none;\n",
              "    fill: var(--fill-color);\n",
              "    height: 32px;\n",
              "    padding: 0;\n",
              "    width: 32px;\n",
              "  }\n",
              "\n",
              "  .colab-df-quickchart:hover {\n",
              "    background-color: var(--hover-bg-color);\n",
              "    box-shadow: 0 1px 2px rgba(60, 64, 67, 0.3), 0 1px 3px 1px rgba(60, 64, 67, 0.15);\n",
              "    fill: var(--button-hover-fill-color);\n",
              "  }\n",
              "\n",
              "  .colab-df-quickchart-complete:disabled,\n",
              "  .colab-df-quickchart-complete:disabled:hover {\n",
              "    background-color: var(--disabled-bg-color);\n",
              "    fill: var(--disabled-fill-color);\n",
              "    box-shadow: none;\n",
              "  }\n",
              "\n",
              "  .colab-df-spinner {\n",
              "    border: 2px solid var(--fill-color);\n",
              "    border-color: transparent;\n",
              "    border-bottom-color: var(--fill-color);\n",
              "    animation:\n",
              "      spin 1s steps(1) infinite;\n",
              "  }\n",
              "\n",
              "  @keyframes spin {\n",
              "    0% {\n",
              "      border-color: transparent;\n",
              "      border-bottom-color: var(--fill-color);\n",
              "      border-left-color: var(--fill-color);\n",
              "    }\n",
              "    20% {\n",
              "      border-color: transparent;\n",
              "      border-left-color: var(--fill-color);\n",
              "      border-top-color: var(--fill-color);\n",
              "    }\n",
              "    30% {\n",
              "      border-color: transparent;\n",
              "      border-left-color: var(--fill-color);\n",
              "      border-top-color: var(--fill-color);\n",
              "      border-right-color: var(--fill-color);\n",
              "    }\n",
              "    40% {\n",
              "      border-color: transparent;\n",
              "      border-right-color: var(--fill-color);\n",
              "      border-top-color: var(--fill-color);\n",
              "    }\n",
              "    60% {\n",
              "      border-color: transparent;\n",
              "      border-right-color: var(--fill-color);\n",
              "    }\n",
              "    80% {\n",
              "      border-color: transparent;\n",
              "      border-right-color: var(--fill-color);\n",
              "      border-bottom-color: var(--fill-color);\n",
              "    }\n",
              "    90% {\n",
              "      border-color: transparent;\n",
              "      border-bottom-color: var(--fill-color);\n",
              "    }\n",
              "  }\n",
              "</style>\n",
              "\n",
              "      <script>\n",
              "        async function quickchart(key) {\n",
              "          const quickchartButtonEl =\n",
              "            document.querySelector('#' + key + ' button');\n",
              "          quickchartButtonEl.disabled = true;  // To prevent multiple clicks.\n",
              "          quickchartButtonEl.classList.add('colab-df-spinner');\n",
              "          try {\n",
              "            const charts = await google.colab.kernel.invokeFunction(\n",
              "                'suggestCharts', [key], {});\n",
              "          } catch (error) {\n",
              "            console.error('Error during call to suggestCharts:', error);\n",
              "          }\n",
              "          quickchartButtonEl.classList.remove('colab-df-spinner');\n",
              "          quickchartButtonEl.classList.add('colab-df-quickchart-complete');\n",
              "        }\n",
              "        (() => {\n",
              "          let quickchartButtonEl =\n",
              "            document.querySelector('#df-7821df99-4b15-4113-8dd3-39858d4e0048 button');\n",
              "          quickchartButtonEl.style.display =\n",
              "            google.colab.kernel.accessAllowed ? 'block' : 'none';\n",
              "        })();\n",
              "      </script>\n",
              "    </div>\n",
              "\n",
              "    </div>\n",
              "  </div>\n"
            ],
            "application/vnd.google.colaboratory.intrinsic+json": {
              "type": "dataframe",
              "variable_name": "df",
              "summary": "{\n  \"name\": \"df\",\n  \"rows\": 583,\n  \"fields\": [\n    {\n      \"column\": \"age\",\n      \"properties\": {\n        \"dtype\": \"number\",\n        \"std\": 16,\n        \"min\": 4,\n        \"max\": 90,\n        \"num_unique_values\": 72,\n        \"samples\": [\n          46,\n          23,\n          63\n        ],\n        \"semantic_type\": \"\",\n        \"description\": \"\"\n      }\n    },\n    {\n      \"column\": \"gender \",\n      \"properties\": {\n        \"dtype\": \"category\",\n        \"num_unique_values\": 2,\n        \"samples\": [\n          \"Male\",\n          \"Female\"\n        ],\n        \"semantic_type\": \"\",\n        \"description\": \"\"\n      }\n    },\n    {\n      \"column\": \"tb\",\n      \"properties\": {\n        \"dtype\": \"number\",\n        \"std\": 6.209521726180145,\n        \"min\": 0.4,\n        \"max\": 75.0,\n        \"num_unique_values\": 113,\n        \"samples\": [\n          4.9,\n          3.9\n        ],\n        \"semantic_type\": \"\",\n        \"description\": \"\"\n      }\n    },\n    {\n      \"column\": \"db\",\n      \"properties\": {\n        \"dtype\": \"number\",\n        \"std\": 2.8084976176589636,\n        \"min\": 0.1,\n        \"max\": 19.7,\n        \"num_unique_values\": 80,\n        \"samples\": [\n          6.2,\n          0.1\n        ],\n        \"semantic_type\": \"\",\n        \"description\": \"\"\n      }\n    },\n    {\n      \"column\": \"alkphos\",\n      \"properties\": {\n        \"dtype\": \"number\",\n        \"std\": 242,\n        \"min\": 63,\n        \"max\": 2110,\n        \"num_unique_values\": 263,\n        \"samples\": [\n          386,\n          209\n        ],\n        \"semantic_type\": \"\",\n        \"description\": \"\"\n      }\n    },\n    {\n      \"column\": \"sgpt\",\n      \"properties\": {\n        \"dtype\": \"number\",\n        \"std\": 182,\n        \"min\": 10,\n        \"max\": 2000,\n        \"num_unique_values\": 152,\n        \"samples\": [\n          2000,\n          321\n        ],\n        \"semantic_type\": \"\",\n        \"description\": \"\"\n      }\n    },\n    {\n      \"column\": \"sgot\",\n      \"properties\": {\n        \"dtype\": \"number\",\n        \"std\": 288,\n        \"min\": 10,\n        \"max\": 4929,\n        \"num_unique_values\": 177,\n        \"samples\": [\n          66,\n          16\n        ],\n        \"semantic_type\": \"\",\n        \"description\": \"\"\n      }\n    },\n    {\n      \"column\": \"tp\",\n      \"properties\": {\n        \"dtype\": \"number\",\n        \"std\": 1.0854514840234664,\n        \"min\": 2.7,\n        \"max\": 9.6,\n        \"num_unique_values\": 58,\n        \"samples\": [\n          6.8,\n          6.7\n        ],\n        \"semantic_type\": \"\",\n        \"description\": \"\"\n      }\n    },\n    {\n      \"column\": \"alb\",\n      \"properties\": {\n        \"dtype\": \"number\",\n        \"std\": 0.795518805964027,\n        \"min\": 0.9,\n        \"max\": 5.5,\n        \"num_unique_values\": 40,\n        \"samples\": [\n          2.0,\n          1.9\n        ],\n        \"semantic_type\": \"\",\n        \"description\": \"\"\n      }\n    },\n    {\n      \"column\": \"a/g\",\n      \"properties\": {\n        \"dtype\": \"number\",\n        \"std\": 0.31959210767237095,\n        \"min\": 0.3,\n        \"max\": 2.8,\n        \"num_unique_values\": 69,\n        \"samples\": [\n          1.6,\n          0.9\n        ],\n        \"semantic_type\": \"\",\n        \"description\": \"\"\n      }\n    },\n    {\n      \"column\": \"selector\",\n      \"properties\": {\n        \"dtype\": \"number\",\n        \"std\": 0,\n        \"min\": 1,\n        \"max\": 2,\n        \"num_unique_values\": 2,\n        \"samples\": [\n          2,\n          1\n        ],\n        \"semantic_type\": \"\",\n        \"description\": \"\"\n      }\n    }\n  ]\n}"
            }
          },
          "metadata": {},
          "execution_count": 19
        }
      ]
    },
    {
      "cell_type": "markdown",
      "source": [
        "- Pada tahap ini, kita akan menelaah data yang ada pada dataset `Liver Patient Dataset (ILPD)`. Kita akan melihat informasi data, statistik deskriptif, dan distribusi data."
      ],
      "metadata": {
        "id": "fYJVHKHuebMz"
      }
    },
    {
      "cell_type": "code",
      "source": [
        "# Menampilkan data setelah nama kolom berhasil diganti. (5 kolom terbawah)\n",
        "df.tail()"
      ],
      "metadata": {
        "id": "MSSP6u9AQSdb",
        "outputId": "6adece26-9686-4975-995a-183616a50757",
        "colab": {
          "base_uri": "https://localhost:8080/",
          "height": 206
        }
      },
      "execution_count": 20,
      "outputs": [
        {
          "output_type": "execute_result",
          "data": {
            "text/plain": [
              "     age gender    tb   db  alkphos  sgpt  sgot   tp  alb   a/g  selector\n",
              "578   60    Male  0.5  0.1      500    20    34  5.9  1.6  0.37         2\n",
              "579   40    Male  0.6  0.1       98    35    31  6.0  3.2  1.10         1\n",
              "580   52    Male  0.8  0.2      245    48    49  6.4  3.2  1.00         1\n",
              "581   31    Male  1.3  0.5      184    29    32  6.8  3.4  1.00         1\n",
              "582   38    Male  1.0  0.3      216    21    24  7.3  4.4  1.50         2"
            ],
            "text/html": [
              "\n",
              "  <div id=\"df-69a268e7-0604-4f5a-a2a0-5ecaa7820b76\" class=\"colab-df-container\">\n",
              "    <div>\n",
              "<style scoped>\n",
              "    .dataframe tbody tr th:only-of-type {\n",
              "        vertical-align: middle;\n",
              "    }\n",
              "\n",
              "    .dataframe tbody tr th {\n",
              "        vertical-align: top;\n",
              "    }\n",
              "\n",
              "    .dataframe thead th {\n",
              "        text-align: right;\n",
              "    }\n",
              "</style>\n",
              "<table border=\"1\" class=\"dataframe\">\n",
              "  <thead>\n",
              "    <tr style=\"text-align: right;\">\n",
              "      <th></th>\n",
              "      <th>age</th>\n",
              "      <th>gender</th>\n",
              "      <th>tb</th>\n",
              "      <th>db</th>\n",
              "      <th>alkphos</th>\n",
              "      <th>sgpt</th>\n",
              "      <th>sgot</th>\n",
              "      <th>tp</th>\n",
              "      <th>alb</th>\n",
              "      <th>a/g</th>\n",
              "      <th>selector</th>\n",
              "    </tr>\n",
              "  </thead>\n",
              "  <tbody>\n",
              "    <tr>\n",
              "      <th>578</th>\n",
              "      <td>60</td>\n",
              "      <td>Male</td>\n",
              "      <td>0.5</td>\n",
              "      <td>0.1</td>\n",
              "      <td>500</td>\n",
              "      <td>20</td>\n",
              "      <td>34</td>\n",
              "      <td>5.9</td>\n",
              "      <td>1.6</td>\n",
              "      <td>0.37</td>\n",
              "      <td>2</td>\n",
              "    </tr>\n",
              "    <tr>\n",
              "      <th>579</th>\n",
              "      <td>40</td>\n",
              "      <td>Male</td>\n",
              "      <td>0.6</td>\n",
              "      <td>0.1</td>\n",
              "      <td>98</td>\n",
              "      <td>35</td>\n",
              "      <td>31</td>\n",
              "      <td>6.0</td>\n",
              "      <td>3.2</td>\n",
              "      <td>1.10</td>\n",
              "      <td>1</td>\n",
              "    </tr>\n",
              "    <tr>\n",
              "      <th>580</th>\n",
              "      <td>52</td>\n",
              "      <td>Male</td>\n",
              "      <td>0.8</td>\n",
              "      <td>0.2</td>\n",
              "      <td>245</td>\n",
              "      <td>48</td>\n",
              "      <td>49</td>\n",
              "      <td>6.4</td>\n",
              "      <td>3.2</td>\n",
              "      <td>1.00</td>\n",
              "      <td>1</td>\n",
              "    </tr>\n",
              "    <tr>\n",
              "      <th>581</th>\n",
              "      <td>31</td>\n",
              "      <td>Male</td>\n",
              "      <td>1.3</td>\n",
              "      <td>0.5</td>\n",
              "      <td>184</td>\n",
              "      <td>29</td>\n",
              "      <td>32</td>\n",
              "      <td>6.8</td>\n",
              "      <td>3.4</td>\n",
              "      <td>1.00</td>\n",
              "      <td>1</td>\n",
              "    </tr>\n",
              "    <tr>\n",
              "      <th>582</th>\n",
              "      <td>38</td>\n",
              "      <td>Male</td>\n",
              "      <td>1.0</td>\n",
              "      <td>0.3</td>\n",
              "      <td>216</td>\n",
              "      <td>21</td>\n",
              "      <td>24</td>\n",
              "      <td>7.3</td>\n",
              "      <td>4.4</td>\n",
              "      <td>1.50</td>\n",
              "      <td>2</td>\n",
              "    </tr>\n",
              "  </tbody>\n",
              "</table>\n",
              "</div>\n",
              "    <div class=\"colab-df-buttons\">\n",
              "\n",
              "  <div class=\"colab-df-container\">\n",
              "    <button class=\"colab-df-convert\" onclick=\"convertToInteractive('df-69a268e7-0604-4f5a-a2a0-5ecaa7820b76')\"\n",
              "            title=\"Convert this dataframe to an interactive table.\"\n",
              "            style=\"display:none;\">\n",
              "\n",
              "  <svg xmlns=\"http://www.w3.org/2000/svg\" height=\"24px\" viewBox=\"0 -960 960 960\">\n",
              "    <path d=\"M120-120v-720h720v720H120Zm60-500h600v-160H180v160Zm220 220h160v-160H400v160Zm0 220h160v-160H400v160ZM180-400h160v-160H180v160Zm440 0h160v-160H620v160ZM180-180h160v-160H180v160Zm440 0h160v-160H620v160Z\"/>\n",
              "  </svg>\n",
              "    </button>\n",
              "\n",
              "  <style>\n",
              "    .colab-df-container {\n",
              "      display:flex;\n",
              "      gap: 12px;\n",
              "    }\n",
              "\n",
              "    .colab-df-convert {\n",
              "      background-color: #E8F0FE;\n",
              "      border: none;\n",
              "      border-radius: 50%;\n",
              "      cursor: pointer;\n",
              "      display: none;\n",
              "      fill: #1967D2;\n",
              "      height: 32px;\n",
              "      padding: 0 0 0 0;\n",
              "      width: 32px;\n",
              "    }\n",
              "\n",
              "    .colab-df-convert:hover {\n",
              "      background-color: #E2EBFA;\n",
              "      box-shadow: 0px 1px 2px rgba(60, 64, 67, 0.3), 0px 1px 3px 1px rgba(60, 64, 67, 0.15);\n",
              "      fill: #174EA6;\n",
              "    }\n",
              "\n",
              "    .colab-df-buttons div {\n",
              "      margin-bottom: 4px;\n",
              "    }\n",
              "\n",
              "    [theme=dark] .colab-df-convert {\n",
              "      background-color: #3B4455;\n",
              "      fill: #D2E3FC;\n",
              "    }\n",
              "\n",
              "    [theme=dark] .colab-df-convert:hover {\n",
              "      background-color: #434B5C;\n",
              "      box-shadow: 0px 1px 3px 1px rgba(0, 0, 0, 0.15);\n",
              "      filter: drop-shadow(0px 1px 2px rgba(0, 0, 0, 0.3));\n",
              "      fill: #FFFFFF;\n",
              "    }\n",
              "  </style>\n",
              "\n",
              "    <script>\n",
              "      const buttonEl =\n",
              "        document.querySelector('#df-69a268e7-0604-4f5a-a2a0-5ecaa7820b76 button.colab-df-convert');\n",
              "      buttonEl.style.display =\n",
              "        google.colab.kernel.accessAllowed ? 'block' : 'none';\n",
              "\n",
              "      async function convertToInteractive(key) {\n",
              "        const element = document.querySelector('#df-69a268e7-0604-4f5a-a2a0-5ecaa7820b76');\n",
              "        const dataTable =\n",
              "          await google.colab.kernel.invokeFunction('convertToInteractive',\n",
              "                                                    [key], {});\n",
              "        if (!dataTable) return;\n",
              "\n",
              "        const docLinkHtml = 'Like what you see? Visit the ' +\n",
              "          '<a target=\"_blank\" href=https://colab.research.google.com/notebooks/data_table.ipynb>data table notebook</a>'\n",
              "          + ' to learn more about interactive tables.';\n",
              "        element.innerHTML = '';\n",
              "        dataTable['output_type'] = 'display_data';\n",
              "        await google.colab.output.renderOutput(dataTable, element);\n",
              "        const docLink = document.createElement('div');\n",
              "        docLink.innerHTML = docLinkHtml;\n",
              "        element.appendChild(docLink);\n",
              "      }\n",
              "    </script>\n",
              "  </div>\n",
              "\n",
              "\n",
              "    <div id=\"df-b584265a-0f06-4408-897f-91bf723dd98b\">\n",
              "      <button class=\"colab-df-quickchart\" onclick=\"quickchart('df-b584265a-0f06-4408-897f-91bf723dd98b')\"\n",
              "                title=\"Suggest charts\"\n",
              "                style=\"display:none;\">\n",
              "\n",
              "<svg xmlns=\"http://www.w3.org/2000/svg\" height=\"24px\"viewBox=\"0 0 24 24\"\n",
              "     width=\"24px\">\n",
              "    <g>\n",
              "        <path d=\"M19 3H5c-1.1 0-2 .9-2 2v14c0 1.1.9 2 2 2h14c1.1 0 2-.9 2-2V5c0-1.1-.9-2-2-2zM9 17H7v-7h2v7zm4 0h-2V7h2v10zm4 0h-2v-4h2v4z\"/>\n",
              "    </g>\n",
              "</svg>\n",
              "      </button>\n",
              "\n",
              "<style>\n",
              "  .colab-df-quickchart {\n",
              "      --bg-color: #E8F0FE;\n",
              "      --fill-color: #1967D2;\n",
              "      --hover-bg-color: #E2EBFA;\n",
              "      --hover-fill-color: #174EA6;\n",
              "      --disabled-fill-color: #AAA;\n",
              "      --disabled-bg-color: #DDD;\n",
              "  }\n",
              "\n",
              "  [theme=dark] .colab-df-quickchart {\n",
              "      --bg-color: #3B4455;\n",
              "      --fill-color: #D2E3FC;\n",
              "      --hover-bg-color: #434B5C;\n",
              "      --hover-fill-color: #FFFFFF;\n",
              "      --disabled-bg-color: #3B4455;\n",
              "      --disabled-fill-color: #666;\n",
              "  }\n",
              "\n",
              "  .colab-df-quickchart {\n",
              "    background-color: var(--bg-color);\n",
              "    border: none;\n",
              "    border-radius: 50%;\n",
              "    cursor: pointer;\n",
              "    display: none;\n",
              "    fill: var(--fill-color);\n",
              "    height: 32px;\n",
              "    padding: 0;\n",
              "    width: 32px;\n",
              "  }\n",
              "\n",
              "  .colab-df-quickchart:hover {\n",
              "    background-color: var(--hover-bg-color);\n",
              "    box-shadow: 0 1px 2px rgba(60, 64, 67, 0.3), 0 1px 3px 1px rgba(60, 64, 67, 0.15);\n",
              "    fill: var(--button-hover-fill-color);\n",
              "  }\n",
              "\n",
              "  .colab-df-quickchart-complete:disabled,\n",
              "  .colab-df-quickchart-complete:disabled:hover {\n",
              "    background-color: var(--disabled-bg-color);\n",
              "    fill: var(--disabled-fill-color);\n",
              "    box-shadow: none;\n",
              "  }\n",
              "\n",
              "  .colab-df-spinner {\n",
              "    border: 2px solid var(--fill-color);\n",
              "    border-color: transparent;\n",
              "    border-bottom-color: var(--fill-color);\n",
              "    animation:\n",
              "      spin 1s steps(1) infinite;\n",
              "  }\n",
              "\n",
              "  @keyframes spin {\n",
              "    0% {\n",
              "      border-color: transparent;\n",
              "      border-bottom-color: var(--fill-color);\n",
              "      border-left-color: var(--fill-color);\n",
              "    }\n",
              "    20% {\n",
              "      border-color: transparent;\n",
              "      border-left-color: var(--fill-color);\n",
              "      border-top-color: var(--fill-color);\n",
              "    }\n",
              "    30% {\n",
              "      border-color: transparent;\n",
              "      border-left-color: var(--fill-color);\n",
              "      border-top-color: var(--fill-color);\n",
              "      border-right-color: var(--fill-color);\n",
              "    }\n",
              "    40% {\n",
              "      border-color: transparent;\n",
              "      border-right-color: var(--fill-color);\n",
              "      border-top-color: var(--fill-color);\n",
              "    }\n",
              "    60% {\n",
              "      border-color: transparent;\n",
              "      border-right-color: var(--fill-color);\n",
              "    }\n",
              "    80% {\n",
              "      border-color: transparent;\n",
              "      border-right-color: var(--fill-color);\n",
              "      border-bottom-color: var(--fill-color);\n",
              "    }\n",
              "    90% {\n",
              "      border-color: transparent;\n",
              "      border-bottom-color: var(--fill-color);\n",
              "    }\n",
              "  }\n",
              "</style>\n",
              "\n",
              "      <script>\n",
              "        async function quickchart(key) {\n",
              "          const quickchartButtonEl =\n",
              "            document.querySelector('#' + key + ' button');\n",
              "          quickchartButtonEl.disabled = true;  // To prevent multiple clicks.\n",
              "          quickchartButtonEl.classList.add('colab-df-spinner');\n",
              "          try {\n",
              "            const charts = await google.colab.kernel.invokeFunction(\n",
              "                'suggestCharts', [key], {});\n",
              "          } catch (error) {\n",
              "            console.error('Error during call to suggestCharts:', error);\n",
              "          }\n",
              "          quickchartButtonEl.classList.remove('colab-df-spinner');\n",
              "          quickchartButtonEl.classList.add('colab-df-quickchart-complete');\n",
              "        }\n",
              "        (() => {\n",
              "          let quickchartButtonEl =\n",
              "            document.querySelector('#df-b584265a-0f06-4408-897f-91bf723dd98b button');\n",
              "          quickchartButtonEl.style.display =\n",
              "            google.colab.kernel.accessAllowed ? 'block' : 'none';\n",
              "        })();\n",
              "      </script>\n",
              "    </div>\n",
              "\n",
              "    </div>\n",
              "  </div>\n"
            ],
            "application/vnd.google.colaboratory.intrinsic+json": {
              "type": "dataframe",
              "summary": "{\n  \"name\": \"df\",\n  \"rows\": 5,\n  \"fields\": [\n    {\n      \"column\": \"age\",\n      \"properties\": {\n        \"dtype\": \"number\",\n        \"std\": 11,\n        \"min\": 31,\n        \"max\": 60,\n        \"num_unique_values\": 5,\n        \"samples\": [\n          40,\n          38,\n          52\n        ],\n        \"semantic_type\": \"\",\n        \"description\": \"\"\n      }\n    },\n    {\n      \"column\": \"gender \",\n      \"properties\": {\n        \"dtype\": \"category\",\n        \"num_unique_values\": 1,\n        \"samples\": [\n          \"Male\"\n        ],\n        \"semantic_type\": \"\",\n        \"description\": \"\"\n      }\n    },\n    {\n      \"column\": \"tb\",\n      \"properties\": {\n        \"dtype\": \"number\",\n        \"std\": 0.3209361307176243,\n        \"min\": 0.5,\n        \"max\": 1.3,\n        \"num_unique_values\": 5,\n        \"samples\": [\n          0.6\n        ],\n        \"semantic_type\": \"\",\n        \"description\": \"\"\n      }\n    },\n    {\n      \"column\": \"db\",\n      \"properties\": {\n        \"dtype\": \"number\",\n        \"std\": 0.1673320053068151,\n        \"min\": 0.1,\n        \"max\": 0.5,\n        \"num_unique_values\": 4,\n        \"samples\": [\n          0.2\n        ],\n        \"semantic_type\": \"\",\n        \"description\": \"\"\n      }\n    },\n    {\n      \"column\": \"alkphos\",\n      \"properties\": {\n        \"dtype\": \"number\",\n        \"std\": 150,\n        \"min\": 98,\n        \"max\": 500,\n        \"num_unique_values\": 5,\n        \"samples\": [\n          98\n        ],\n        \"semantic_type\": \"\",\n        \"description\": \"\"\n      }\n    },\n    {\n      \"column\": \"sgpt\",\n      \"properties\": {\n        \"dtype\": \"number\",\n        \"std\": 11,\n        \"min\": 20,\n        \"max\": 48,\n        \"num_unique_values\": 5,\n        \"samples\": [\n          35\n        ],\n        \"semantic_type\": \"\",\n        \"description\": \"\"\n      }\n    },\n    {\n      \"column\": \"sgot\",\n      \"properties\": {\n        \"dtype\": \"number\",\n        \"std\": 9,\n        \"min\": 24,\n        \"max\": 49,\n        \"num_unique_values\": 5,\n        \"samples\": [\n          31\n        ],\n        \"semantic_type\": \"\",\n        \"description\": \"\"\n      }\n    },\n    {\n      \"column\": \"tp\",\n      \"properties\": {\n        \"dtype\": \"number\",\n        \"std\": 0.5805170109479995,\n        \"min\": 5.9,\n        \"max\": 7.3,\n        \"num_unique_values\": 5,\n        \"samples\": [\n          6.0\n        ],\n        \"semantic_type\": \"\",\n        \"description\": \"\"\n      }\n    },\n    {\n      \"column\": \"alb\",\n      \"properties\": {\n        \"dtype\": \"number\",\n        \"std\": 1.0039920318408906,\n        \"min\": 1.6,\n        \"max\": 4.4,\n        \"num_unique_values\": 4,\n        \"samples\": [\n          3.2\n        ],\n        \"semantic_type\": \"\",\n        \"description\": \"\"\n      }\n    },\n    {\n      \"column\": \"a/g\",\n      \"properties\": {\n        \"dtype\": \"number\",\n        \"std\": 0.40519131283876264,\n        \"min\": 0.37,\n        \"max\": 1.5,\n        \"num_unique_values\": 4,\n        \"samples\": [\n          1.1\n        ],\n        \"semantic_type\": \"\",\n        \"description\": \"\"\n      }\n    },\n    {\n      \"column\": \"selector\",\n      \"properties\": {\n        \"dtype\": \"number\",\n        \"std\": 0,\n        \"min\": 1,\n        \"max\": 2,\n        \"num_unique_values\": 2,\n        \"samples\": [\n          1\n        ],\n        \"semantic_type\": \"\",\n        \"description\": \"\"\n      }\n    }\n  ]\n}"
            }
          },
          "metadata": {},
          "execution_count": 20
        }
      ]
    },
    {
      "cell_type": "markdown",
      "source": [
        "### Melihat dimensi"
      ],
      "metadata": {
        "id": "RIwM2HgodLKC"
      }
    },
    {
      "cell_type": "code",
      "source": [
        "# Menampilkan dimensi Dataset\n",
        "df.shape"
      ],
      "metadata": {
        "id": "briRQIh7dmuH",
        "outputId": "b51d571f-318c-4491-9113-94c1c29502d4",
        "colab": {
          "base_uri": "https://localhost:8080/"
        }
      },
      "execution_count": 21,
      "outputs": [
        {
          "output_type": "execute_result",
          "data": {
            "text/plain": [
              "(583, 11)"
            ]
          },
          "metadata": {},
          "execution_count": 21
        }
      ]
    },
    {
      "cell_type": "markdown",
      "source": [
        "### Melihat informasi dataset"
      ],
      "metadata": {
        "id": "KqDsX082drj_"
      }
    },
    {
      "cell_type": "code",
      "source": [
        "# Melihat Informasi Dataset\n",
        "df.info()"
      ],
      "metadata": {
        "id": "PVdRI88Mj6Ji",
        "outputId": "e9539de8-2926-40b2-b097-593a8b2efa56",
        "colab": {
          "base_uri": "https://localhost:8080/"
        }
      },
      "execution_count": 22,
      "outputs": [
        {
          "output_type": "stream",
          "name": "stdout",
          "text": [
            "<class 'pandas.core.frame.DataFrame'>\n",
            "RangeIndex: 583 entries, 0 to 582\n",
            "Data columns (total 11 columns):\n",
            " #   Column    Non-Null Count  Dtype  \n",
            "---  ------    --------------  -----  \n",
            " 0   age       583 non-null    int64  \n",
            " 1   gender    583 non-null    object \n",
            " 2   tb        583 non-null    float64\n",
            " 3   db        583 non-null    float64\n",
            " 4   alkphos   583 non-null    int64  \n",
            " 5   sgpt      583 non-null    int64  \n",
            " 6   sgot      583 non-null    int64  \n",
            " 7   tp        583 non-null    float64\n",
            " 8   alb       583 non-null    float64\n",
            " 9   a/g       579 non-null    float64\n",
            " 10  selector  583 non-null    int64  \n",
            "dtypes: float64(5), int64(5), object(1)\n",
            "memory usage: 50.2+ KB\n"
          ]
        }
      ]
    },
    {
      "cell_type": "markdown",
      "source": [
        "### Melihat deskripsi statistik"
      ],
      "metadata": {
        "id": "KKbCcIqfQoWM"
      }
    },
    {
      "cell_type": "code",
      "source": [
        "# Melihat Deskripsi statistik\n",
        "sns.countplot(data=df, x='selector', order=df['selector'].value_counts().index)\n",
        "plt.xticks(rotation=45)\n",
        "plt.title('Distribusi Kelas Selector')\n",
        "plt.tight_layout()\n",
        "plt.show()"
      ],
      "metadata": {
        "id": "LxENhQrfj8p2",
        "outputId": "2024f021-0b61-4437-c9de-6ca92bac4136",
        "colab": {
          "base_uri": "https://localhost:8080/",
          "height": 487
        }
      },
      "execution_count": 23,
      "outputs": [
        {
          "output_type": "display_data",
          "data": {
            "text/plain": [
              "<Figure size 640x480 with 1 Axes>"
            ],
            "image/png": "[encoded data removed]"
          },
          "metadata": {}
        }
      ]
    },
    {
      "cell_type": "markdown",
      "source": [
        "### Melihat persebaran data"
      ],
      "metadata": {
        "id": "th6xBQjaQtj0"
      }
    },
    {
      "cell_type": "code",
      "source": [
        "# menampilkan diagram histplot untuk telaah semua feature\n",
        "df.hist(figsize=(15, 15))\n",
        "plt.show()"
      ],
      "metadata": {
        "id": "aKq7wuHTLTKv",
        "outputId": "a1f6d8fe-3e90-44b7-eb08-6ab149d854c1",
        "colab": {
          "base_uri": "https://localhost:8080/",
          "height": 724
        }
      },
      "execution_count": 24,
      "outputs": [
        {
          "output_type": "display_data",
          "data": {
            "text/plain": [
              "<Figure size 1500x1500 with 12 Axes>"
            ],
            "image/png": "[encoded data removed]"
          },
          "metadata": {}
        }
      ]
    },
    {
      "cell_type": "code",
      "source": [
        "# membuat fungsi untuk melakukan observasi pada dataset\n",
        "def grab_col_names(dataframe, cat_th = 10, car_th = 20): #  memisahkan kolom dalam dataset berdasarkan tipe dan karakteristiknya.\n",
        "\n",
        "    cat_cols = [col for col in dataframe.columns if str(dataframe[col].dtypes) in [\"category\", \"object\", \"bool\"]] # kolom kategorikal (tipe \"category\", \"object\", \"bool\", atau numerik dengan unique values < cat_th).\n",
        "    num_but_cat = [col for col in dataframe.columns if str(dataframe[col].dtypes) in [\"int64\", \"float64\"] and dataframe[col].nunique() < cat_th] # kolom numerik yang bertindak seperti kategorikal (berdasarkan jumlah unique values).\n",
        "    cat_but_car = [col for col in dataframe.columns if str(dataframe[col].dtypes) in [\"category\", \"object\"] and dataframe[col].nunique() > car_th] # kolom kategorikal dengan unique values > car_th (high cardinality).\n",
        "\n",
        "    cat_cols = cat_cols + num_but_cat\n",
        "    cat_cols = [col for col in cat_cols if col not in cat_but_car]\n",
        "\n",
        "    # kolom numerik murni (int64, float64) yang bukan kategorikal.\n",
        "    num_cols = [col for col in dataframe.columns if str(dataframe[col].dtypes) in [\"int64\", \"float64\"]]\n",
        "    num_cols = [col for col in num_cols if col not in cat_cols]\n",
        "\n",
        "    print(f\"Jumlah observasi: {dataframe.shape[0]}\")\n",
        "    print(f\"Jumlah variabel: {dataframe.shape[1]}\")\n",
        "    print(f\"Kolom kategorikal: {len(cat_cols)}\")\n",
        "    print(f\"Kolom Numerik: {len(num_cols)}\")\n",
        "    print(f\"Kategori tapi kardinal: {len(cat_but_car)}\")\n",
        "    print(f\"Numerik tapi kategorikal: {len(num_but_cat)}\")\n",
        "\n",
        "    # mengembalikan daftar kolom yang dikelompokkan berdasarkan tipe (cat_cols, num_cols, cat_but_car).\n",
        "    return cat_cols, num_cols, cat_but_car"
      ],
      "metadata": {
        "id": "ket_1X_XLZhS"
      },
      "execution_count": 25,
      "outputs": []
    },
    {
      "cell_type": "code",
      "source": [
        "cat_cols, num_cols, cat_but_car = grab_col_names(df)"
      ],
      "metadata": {
        "id": "QDVTPVupLcPF",
        "outputId": "049406d5-f9ad-465e-eeac-d93947eb6194",
        "colab": {
          "base_uri": "https://localhost:8080/"
        }
      },
      "execution_count": 26,
      "outputs": [
        {
          "output_type": "stream",
          "name": "stdout",
          "text": [
            "Jumlah observasi: 583\n",
            "Jumlah variabel: 11\n",
            "Kolom kategorikal: 2\n",
            "Kolom Numerik: 9\n",
            "Kategori tapi kardinal: 0\n",
            "Numerik tapi kategorikal: 1\n"
          ]
        }
      ]
    },
    {
      "cell_type": "markdown",
      "source": [
        "- Nominal Feature"
      ],
      "metadata": {
        "id": "OxV0fHhY75Am"
      }
    },
    {
      "cell_type": "code",
      "source": [
        "# Visualisasikan fitur nominal / kategorikal misal (menggunakan countplot)\n",
        "for col in cat_cols:\n",
        "    countplot = sns.countplot(data=df, x=col)\n",
        "    plt.title(f'Countplot of {col}')\n",
        "    plt.show()"
      ],
      "metadata": {
        "id": "_GoG3m8JeHkf",
        "outputId": "cbe15536-207b-40e1-a514-760a310a9c8c",
        "colab": {
          "base_uri": "https://localhost:8080/",
          "height": 927
        }
      },
      "execution_count": 27,
      "outputs": [
        {
          "output_type": "display_data",
          "data": {
            "text/plain": [
              "<Figure size 640x480 with 1 Axes>"
            ],
            "image/png": "[encoded data removed]"
          },
          "metadata": {}
        },
        {
          "output_type": "display_data",
          "data": {
            "text/plain": [
              "<Figure size 640x480 with 1 Axes>"
            ],
            "image/png": "[encoded data removed]"
          },
          "metadata": {}
        }
      ]
    },
    {
      "cell_type": "markdown",
      "source": [
        "- Continous features"
      ],
      "metadata": {
        "id": "CJFXAG3J7-D6"
      }
    },
    {
      "cell_type": "code",
      "source": [
        "# Visualisasikan fitur numerik continous (misal : histplot)\n",
        "for col in num_cols:\n",
        "    histplot = sns.histplot(data=df, x=col)\n",
        "    plt.title(f'Histogram of {col}')\n",
        "    plt.show()"
      ],
      "metadata": {
        "id": "vLcARCtveZpb",
        "outputId": "30ebcb00-1bb6-4e0f-d9cd-eddc233d350b",
        "colab": {
          "base_uri": "https://localhost:8080/",
          "height": 1000
        }
      },
      "execution_count": 28,
      "outputs": [
        {
          "output_type": "display_data",
          "data": {
            "text/plain": [
              "<Figure size 640x480 with 1 Axes>"
            ],
            "image/png": "[encoded data removed]"
          },
          "metadata": {}
        },
        {
          "output_type": "display_data",
          "data": {
            "text/plain": [
              "<Figure size 640x480 with 1 Axes>"
            ],
            "image/png": "[encoded data removed]"
          },
          "metadata": {}
        },
        {
          "output_type": "display_data",
          "data": {
            "text/plain": [
              "<Figure size 640x480 with 1 Axes>"
            ],
            "image/png": "[encoded data removed]"
          },
          "metadata": {}
        },
        {
          "output_type": "display_data",
          "data": {
            "text/plain": [
              "<Figure size 640x480 with 1 Axes>"
            ],
            "image/png": "[encoded data removed]"
          },
          "metadata": {}
        },
        {
          "output_type": "display_data",
          "data": {
            "text/plain": [
              "<Figure size 640x480 with 1 Axes>"
            ],
            "image/png": "[encoded data removed]"
          },
          "metadata": {}
        },
        {
          "output_type": "display_data",
          "data": {
            "text/plain": [
              "<Figure size 640x480 with 1 Axes>"
            ],
            "image/png": "[encoded data removed]"
          },
          "metadata": {}
        },
        {
          "output_type": "display_data",
          "data": {
            "text/plain": [
              "<Figure size 640x480 with 1 Axes>"
            ],
            "image/png": "[encoded data removed]"
          },
          "metadata": {}
        },
        {
          "output_type": "display_data",
          "data": {
            "text/plain": [
              "<Figure size 640x480 with 1 Axes>"
            ],
            "image/png": "[encoded data removed]"
          },
          "metadata": {}
        },
        {
          "output_type": "display_data",
          "data": {
            "text/plain": [
              "<Figure size 640x480 with 1 Axes>"
            ],
            "image/png": "[encoded data removed]"
          },
          "metadata": {}
        }
      ]
    },
    {
      "cell_type": "markdown",
      "source": [
        "## BAB 3 – (J.62DMI00.006.1) memvalidasi data"
      ],
      "metadata": {
        "id": "HlepCGhNervb"
      }
    },
    {
      "cell_type": "markdown",
      "source": [
        "- Pada tahap ini, kita akan mengecek apakah terdapat data yang hilang atau tidak, terdapat duplikat atau tidak, dan apakah terdapat data yang tidak konsisten (bisa melakukan pengecekan nilai unik)"
      ],
      "metadata": {
        "id": "ioJcLfRXYAG9"
      }
    },
    {
      "cell_type": "markdown",
      "source": [
        "### Memeriksa nilai kosong (missing value)"
      ],
      "metadata": {
        "id": "aMTKkUKsQ1l1"
      }
    },
    {
      "cell_type": "code",
      "source": [
        "# Melihat Nilai null / missing value\n",
        "df.isnull().sum()"
      ],
      "metadata": {
        "id": "bTkwAPXZjhwX",
        "outputId": "35af576f-f4bc-46af-e535-20d8434e02ec",
        "colab": {
          "base_uri": "https://localhost:8080/",
          "height": 429
        }
      },
      "execution_count": 29,
      "outputs": [
        {
          "output_type": "execute_result",
          "data": {
            "text/plain": [
              "age         0\n",
              "gender      0\n",
              "tb          0\n",
              "db          0\n",
              "alkphos     0\n",
              "sgpt        0\n",
              "sgot        0\n",
              "tp          0\n",
              "alb         0\n",
              "a/g         4\n",
              "selector    0\n",
              "dtype: int64"
            ],
            "text/html": [
              "<div>\n",
              "<style scoped>\n",
              "    .dataframe tbody tr th:only-of-type {\n",
              "        vertical-align: middle;\n",
              "    }\n",
              "\n",
              "    .dataframe tbody tr th {\n",
              "        vertical-align: top;\n",
              "    }\n",
              "\n",
              "    .dataframe thead th {\n",
              "        text-align: right;\n",
              "    }\n",
              "</style>\n",
              "<table border=\"1\" class=\"dataframe\">\n",
              "  <thead>\n",
              "    <tr style=\"text-align: right;\">\n",
              "      <th></th>\n",
              "      <th>0</th>\n",
              "    </tr>\n",
              "  </thead>\n",
              "  <tbody>\n",
              "    <tr>\n",
              "      <th>age</th>\n",
              "      <td>0</td>\n",
              "    </tr>\n",
              "    <tr>\n",
              "      <th>gender</th>\n",
              "      <td>0</td>\n",
              "    </tr>\n",
              "    <tr>\n",
              "      <th>tb</th>\n",
              "      <td>0</td>\n",
              "    </tr>\n",
              "    <tr>\n",
              "      <th>db</th>\n",
              "      <td>0</td>\n",
              "    </tr>\n",
              "    <tr>\n",
              "      <th>alkphos</th>\n",
              "      <td>0</td>\n",
              "    </tr>\n",
              "    <tr>\n",
              "      <th>sgpt</th>\n",
              "      <td>0</td>\n",
              "    </tr>\n",
              "    <tr>\n",
              "      <th>sgot</th>\n",
              "      <td>0</td>\n",
              "    </tr>\n",
              "    <tr>\n",
              "      <th>tp</th>\n",
              "      <td>0</td>\n",
              "    </tr>\n",
              "    <tr>\n",
              "      <th>alb</th>\n",
              "      <td>0</td>\n",
              "    </tr>\n",
              "    <tr>\n",
              "      <th>a/g</th>\n",
              "      <td>4</td>\n",
              "    </tr>\n",
              "    <tr>\n",
              "      <th>selector</th>\n",
              "      <td>0</td>\n",
              "    </tr>\n",
              "  </tbody>\n",
              "</table>\n",
              "</div><br><label><b>dtype:</b> int64</label>"
            ]
          },
          "metadata": {},
          "execution_count": 29
        }
      ]
    },
    {
      "cell_type": "markdown",
      "source": [
        "### Memeriksa duplikat data"
      ],
      "metadata": {
        "id": "yVZxft5xQ28s"
      }
    },
    {
      "cell_type": "code",
      "source": [
        "# Melihat Data duplikat\n",
        "df.duplicated().sum()"
      ],
      "metadata": {
        "id": "uxjhiIESjlFk",
        "outputId": "79b948d0-36c7-4550-aa82-75f78fed6858",
        "colab": {
          "base_uri": "https://localhost:8080/"
        }
      },
      "execution_count": 30,
      "outputs": [
        {
          "output_type": "execute_result",
          "data": {
            "text/plain": [
              "np.int64(13)"
            ]
          },
          "metadata": {},
          "execution_count": 30
        }
      ]
    },
    {
      "cell_type": "code",
      "source": [
        "print(\"Duplikat:\", df.duplicated().sum())"
      ],
      "metadata": {
        "id": "MrnQ3voTLzzU",
        "outputId": "97187e0a-20e4-4366-aab4-6a9f92a0bede",
        "colab": {
          "base_uri": "https://localhost:8080/"
        }
      },
      "execution_count": 31,
      "outputs": [
        {
          "output_type": "stream",
          "name": "stdout",
          "text": [
            "Duplikat: 13\n"
          ]
        }
      ]
    },
    {
      "cell_type": "code",
      "source": [
        "# Melihat Data duplikat\n",
        "df.duplicated().sum()\n",
        "df[df.duplicated(keep=False)]"
      ],
      "metadata": {
        "id": "rjQ6pqdcRUm9",
        "outputId": "09a4343f-3b7a-4826-c48b-1f199a9d969b",
        "colab": {
          "base_uri": "https://localhost:8080/",
          "height": 864
        }
      },
      "execution_count": 32,
      "outputs": [
        {
          "output_type": "execute_result",
          "data": {
            "text/plain": [
              "     age gender    tb   db  alkphos  sgpt  sgot   tp  alb   a/g  selector\n",
              "18    40  Female  0.9  0.3      293   232   245  6.8  3.1  0.80         1\n",
              "19    40  Female  0.9  0.3      293   232   245  6.8  3.1  0.80         1\n",
              "25    34    Male  4.1  2.0      289   875   731  5.0  2.7  1.10         1\n",
              "26    34    Male  4.1  2.0      289   875   731  5.0  2.7  1.10         1\n",
              "33    38  Female  2.6  1.2      410    59    57  5.6  3.0  0.80         2\n",
              "34    38  Female  2.6  1.2      410    59    57  5.6  3.0  0.80         2\n",
              "54    42    Male  8.9  4.5      272    31    61  5.8  2.0  0.50         1\n",
              "55    42    Male  8.9  4.5      272    31    61  5.8  2.0  0.50         1\n",
              "61    58    Male  1.0  0.5      158    37    43  7.2  3.6  1.00         1\n",
              "62    58    Male  1.0  0.5      158    37    43  7.2  3.6  1.00         1\n",
              "105   36    Male  5.3  2.3      145    32    92  5.1  2.6  1.00         2\n",
              "106   36    Male  5.3  2.3      145    32    92  5.1  2.6  1.00         2\n",
              "107   36    Male  0.8  0.2      158    29    39  6.0  2.2  0.50         2\n",
              "108   36    Male  0.8  0.2      158    29    39  6.0  2.2  0.50         2\n",
              "137   18    Male  0.8  0.2      282    72   140  5.5  2.5  0.80         1\n",
              "138   18    Male  0.8  0.2      282    72   140  5.5  2.5  0.80         1\n",
              "142   30    Male  1.6  0.4      332    84   139  5.6  2.7  0.90         1\n",
              "143   30    Male  1.6  0.4      332    84   139  5.6  2.7  0.90         1\n",
              "157   72    Male  0.7  0.1      196    20    35  5.8  2.0  0.50         1\n",
              "158   72    Male  0.7  0.1      196    20    35  5.8  2.0  0.50         1\n",
              "163   39    Male  1.9  0.9      180    42    62  7.4  4.3  1.38         1\n",
              "164   39    Male  1.9  0.9      180    42    62  7.4  4.3  1.38         1\n",
              "173   31    Male  0.6  0.1      175    48    34  6.0  3.7  1.60         1\n",
              "174   31    Male  0.6  0.1      175    48    34  6.0  3.7  1.60         1\n",
              "200   49    Male  0.6  0.1      218    50    53  5.0  2.4  0.90         1\n",
              "201   49    Male  0.6  0.1      218    50    53  5.0  2.4  0.90         1"
            ],
            "text/html": [
              "\n",
              "  <div id=\"df-d2cf0972-52d7-4841-9d79-76e57c7b4487\" class=\"colab-df-container\">\n",
              "    <div>\n",
              "<style scoped>\n",
              "    .dataframe tbody tr th:only-of-type {\n",
              "        vertical-align: middle;\n",
              "    }\n",
              "\n",
              "    .dataframe tbody tr th {\n",
              "        vertical-align: top;\n",
              "    }\n",
              "\n",
              "    .dataframe thead th {\n",
              "        text-align: right;\n",
              "    }\n",
              "</style>\n",
              "<table border=\"1\" class=\"dataframe\">\n",
              "  <thead>\n",
              "    <tr style=\"text-align: right;\">\n",
              "      <th></th>\n",
              "      <th>age</th>\n",
              "      <th>gender</th>\n",
              "      <th>tb</th>\n",
              "      <th>db</th>\n",
              "      <th>alkphos</th>\n",
              "      <th>sgpt</th>\n",
              "      <th>sgot</th>\n",
              "      <th>tp</th>\n",
              "      <th>alb</th>\n",
              "      <th>a/g</th>\n",
              "      <th>selector</th>\n",
              "    </tr>\n",
              "  </thead>\n",
              "  <tbody>\n",
              "    <tr>\n",
              "      <th>18</th>\n",
              "      <td>40</td>\n",
              "      <td>Female</td>\n",
              "      <td>0.9</td>\n",
              "      <td>0.3</td>\n",
              "      <td>293</td>\n",
              "      <td>232</td>\n",
              "      <td>245</td>\n",
              "      <td>6.8</td>\n",
              "      <td>3.1</td>\n",
              "      <td>0.80</td>\n",
              "      <td>1</td>\n",
              "    </tr>\n",
              "    <tr>\n",
              "      <th>19</th>\n",
              "      <td>40</td>\n",
              "      <td>Female</td>\n",
              "      <td>0.9</td>\n",
              "      <td>0.3</td>\n",
              "      <td>293</td>\n",
              "      <td>232</td>\n",
              "      <td>245</td>\n",
              "      <td>6.8</td>\n",
              "      <td>3.1</td>\n",
              "      <td>0.80</td>\n",
              "      <td>1</td>\n",
              "    </tr>\n",
              "    <tr>\n",
              "      <th>25</th>\n",
              "      <td>34</td>\n",
              "      <td>Male</td>\n",
              "      <td>4.1</td>\n",
              "      <td>2.0</td>\n",
              "      <td>289</td>\n",
              "      <td>875</td>\n",
              "      <td>731</td>\n",
              "      <td>5.0</td>\n",
              "      <td>2.7</td>\n",
              "      <td>1.10</td>\n",
              "      <td>1</td>\n",
              "    </tr>\n",
              "    <tr>\n",
              "      <th>26</th>\n",
              "      <td>34</td>\n",
              "      <td>Male</td>\n",
              "      <td>4.1</td>\n",
              "      <td>2.0</td>\n",
              "      <td>289</td>\n",
              "      <td>875</td>\n",
              "      <td>731</td>\n",
              "      <td>5.0</td>\n",
              "      <td>2.7</td>\n",
              "      <td>1.10</td>\n",
              "      <td>1</td>\n",
              "    </tr>\n",
              "    <tr>\n",
              "      <th>33</th>\n",
              "      <td>38</td>\n",
              "      <td>Female</td>\n",
              "      <td>2.6</td>\n",
              "      <td>1.2</td>\n",
              "      <td>410</td>\n",
              "      <td>59</td>\n",
              "      <td>57</td>\n",
              "      <td>5.6</td>\n",
              "      <td>3.0</td>\n",
              "      <td>0.80</td>\n",
              "      <td>2</td>\n",
              "    </tr>\n",
              "    <tr>\n",
              "      <th>34</th>\n",
              "      <td>38</td>\n",
              "      <td>Female</td>\n",
              "      <td>2.6</td>\n",
              "      <td>1.2</td>\n",
              "      <td>410</td>\n",
              "      <td>59</td>\n",
              "      <td>57</td>\n",
              "      <td>5.6</td>\n",
              "      <td>3.0</td>\n",
              "      <td>0.80</td>\n",
              "      <td>2</td>\n",
              "    </tr>\n",
              "    <tr>\n",
              "      <th>54</th>\n",
              "      <td>42</td>\n",
              "      <td>Male</td>\n",
              "      <td>8.9</td>\n",
              "      <td>4.5</td>\n",
              "      <td>272</td>\n",
              "      <td>31</td>\n",
              "      <td>61</td>\n",
              "      <td>5.8</td>\n",
              "      <td>2.0</td>\n",
              "      <td>0.50</td>\n",
              "      <td>1</td>\n",
              "    </tr>\n",
              "    <tr>\n",
              "      <th>55</th>\n",
              "      <td>42</td>\n",
              "      <td>Male</td>\n",
              "      <td>8.9</td>\n",
              "      <td>4.5</td>\n",
              "      <td>272</td>\n",
              "      <td>31</td>\n",
              "      <td>61</td>\n",
              "      <td>5.8</td>\n",
              "      <td>2.0</td>\n",
              "      <td>0.50</td>\n",
              "      <td>1</td>\n",
              "    </tr>\n",
              "    <tr>\n",
              "      <th>61</th>\n",
              "      <td>58</td>\n",
              "      <td>Male</td>\n",
              "      <td>1.0</td>\n",
              "      <td>0.5</td>\n",
              "      <td>158</td>\n",
              "      <td>37</td>\n",
              "      <td>43</td>\n",
              "      <td>7.2</td>\n",
              "      <td>3.6</td>\n",
              "      <td>1.00</td>\n",
              "      <td>1</td>\n",
              "    </tr>\n",
              "    <tr>\n",
              "      <th>62</th>\n",
              "      <td>58</td>\n",
              "      <td>Male</td>\n",
              "      <td>1.0</td>\n",
              "      <td>0.5</td>\n",
              "      <td>158</td>\n",
              "      <td>37</td>\n",
              "      <td>43</td>\n",
              "      <td>7.2</td>\n",
              "      <td>3.6</td>\n",
              "      <td>1.00</td>\n",
              "      <td>1</td>\n",
              "    </tr>\n",
              "    <tr>\n",
              "      <th>105</th>\n",
              "      <td>36</td>\n",
              "      <td>Male</td>\n",
              "      <td>5.3</td>\n",
              "      <td>2.3</td>\n",
              "      <td>145</td>\n",
              "      <td>32</td>\n",
              "      <td>92</td>\n",
              "      <td>5.1</td>\n",
              "      <td>2.6</td>\n",
              "      <td>1.00</td>\n",
              "      <td>2</td>\n",
              "    </tr>\n",
              "    <tr>\n",
              "      <th>106</th>\n",
              "      <td>36</td>\n",
              "      <td>Male</td>\n",
              "      <td>5.3</td>\n",
              "      <td>2.3</td>\n",
              "      <td>145</td>\n",
              "      <td>32</td>\n",
              "      <td>92</td>\n",
              "      <td>5.1</td>\n",
              "      <td>2.6</td>\n",
              "      <td>1.00</td>\n",
              "      <td>2</td>\n",
              "    </tr>\n",
              "    <tr>\n",
              "      <th>107</th>\n",
              "      <td>36</td>\n",
              "      <td>Male</td>\n",
              "      <td>0.8</td>\n",
              "      <td>0.2</td>\n",
              "      <td>158</td>\n",
              "      <td>29</td>\n",
              "      <td>39</td>\n",
              "      <td>6.0</td>\n",
              "      <td>2.2</td>\n",
              "      <td>0.50</td>\n",
              "      <td>2</td>\n",
              "    </tr>\n",
              "    <tr>\n",
              "      <th>108</th>\n",
              "      <td>36</td>\n",
              "      <td>Male</td>\n",
              "      <td>0.8</td>\n",
              "      <td>0.2</td>\n",
              "      <td>158</td>\n",
              "      <td>29</td>\n",
              "      <td>39</td>\n",
              "      <td>6.0</td>\n",
              "      <td>2.2</td>\n",
              "      <td>0.50</td>\n",
              "      <td>2</td>\n",
              "    </tr>\n",
              "    <tr>\n",
              "      <th>137</th>\n",
              "      <td>18</td>\n",
              "      <td>Male</td>\n",
              "      <td>0.8</td>\n",
              "      <td>0.2</td>\n",
              "      <td>282</td>\n",
              "      <td>72</td>\n",
              "      <td>140</td>\n",
              "      <td>5.5</td>\n",
              "      <td>2.5</td>\n",
              "      <td>0.80</td>\n",
              "      <td>1</td>\n",
              "    </tr>\n",
              "    <tr>\n",
              "      <th>138</th>\n",
              "      <td>18</td>\n",
              "      <td>Male</td>\n",
              "      <td>0.8</td>\n",
              "      <td>0.2</td>\n",
              "      <td>282</td>\n",
              "      <td>72</td>\n",
              "      <td>140</td>\n",
              "      <td>5.5</td>\n",
              "      <td>2.5</td>\n",
              "      <td>0.80</td>\n",
              "      <td>1</td>\n",
              "    </tr>\n",
              "    <tr>\n",
              "      <th>142</th>\n",
              "      <td>30</td>\n",
              "      <td>Male</td>\n",
              "      <td>1.6</td>\n",
              "      <td>0.4</td>\n",
              "      <td>332</td>\n",
              "      <td>84</td>\n",
              "      <td>139</td>\n",
              "      <td>5.6</td>\n",
              "      <td>2.7</td>\n",
              "      <td>0.90</td>\n",
              "      <td>1</td>\n",
              "    </tr>\n",
              "    <tr>\n",
              "      <th>143</th>\n",
              "      <td>30</td>\n",
              "      <td>Male</td>\n",
              "      <td>1.6</td>\n",
              "      <td>0.4</td>\n",
              "      <td>332</td>\n",
              "      <td>84</td>\n",
              "      <td>139</td>\n",
              "      <td>5.6</td>\n",
              "      <td>2.7</td>\n",
              "      <td>0.90</td>\n",
              "      <td>1</td>\n",
              "    </tr>\n",
              "    <tr>\n",
              "      <th>157</th>\n",
              "      <td>72</td>\n",
              "      <td>Male</td>\n",
              "      <td>0.7</td>\n",
              "      <td>0.1</td>\n",
              "      <td>196</td>\n",
              "      <td>20</td>\n",
              "      <td>35</td>\n",
              "      <td>5.8</td>\n",
              "      <td>2.0</td>\n",
              "      <td>0.50</td>\n",
              "      <td>1</td>\n",
              "    </tr>\n",
              "    <tr>\n",
              "      <th>158</th>\n",
              "      <td>72</td>\n",
              "      <td>Male</td>\n",
              "      <td>0.7</td>\n",
              "      <td>0.1</td>\n",
              "      <td>196</td>\n",
              "      <td>20</td>\n",
              "      <td>35</td>\n",
              "      <td>5.8</td>\n",
              "      <td>2.0</td>\n",
              "      <td>0.50</td>\n",
              "      <td>1</td>\n",
              "    </tr>\n",
              "    <tr>\n",
              "      <th>163</th>\n",
              "      <td>39</td>\n",
              "      <td>Male</td>\n",
              "      <td>1.9</td>\n",
              "      <td>0.9</td>\n",
              "      <td>180</td>\n",
              "      <td>42</td>\n",
              "      <td>62</td>\n",
              "      <td>7.4</td>\n",
              "      <td>4.3</td>\n",
              "      <td>1.38</td>\n",
              "      <td>1</td>\n",
              "    </tr>\n",
              "    <tr>\n",
              "      <th>164</th>\n",
              "      <td>39</td>\n",
              "      <td>Male</td>\n",
              "      <td>1.9</td>\n",
              "      <td>0.9</td>\n",
              "      <td>180</td>\n",
              "      <td>42</td>\n",
              "      <td>62</td>\n",
              "      <td>7.4</td>\n",
              "      <td>4.3</td>\n",
              "      <td>1.38</td>\n",
              "      <td>1</td>\n",
              "    </tr>\n",
              "    <tr>\n",
              "      <th>173</th>\n",
              "      <td>31</td>\n",
              "      <td>Male</td>\n",
              "      <td>0.6</td>\n",
              "      <td>0.1</td>\n",
              "      <td>175</td>\n",
              "      <td>48</td>\n",
              "      <td>34</td>\n",
              "      <td>6.0</td>\n",
              "      <td>3.7</td>\n",
              "      <td>1.60</td>\n",
              "      <td>1</td>\n",
              "    </tr>\n",
              "    <tr>\n",
              "      <th>174</th>\n",
              "      <td>31</td>\n",
              "      <td>Male</td>\n",
              "      <td>0.6</td>\n",
              "      <td>0.1</td>\n",
              "      <td>175</td>\n",
              "      <td>48</td>\n",
              "      <td>34</td>\n",
              "      <td>6.0</td>\n",
              "      <td>3.7</td>\n",
              "      <td>1.60</td>\n",
              "      <td>1</td>\n",
              "    </tr>\n",
              "    <tr>\n",
              "      <th>200</th>\n",
              "      <td>49</td>\n",
              "      <td>Male</td>\n",
              "      <td>0.6</td>\n",
              "      <td>0.1</td>\n",
              "      <td>218</td>\n",
              "      <td>50</td>\n",
              "      <td>53</td>\n",
              "      <td>5.0</td>\n",
              "      <td>2.4</td>\n",
              "      <td>0.90</td>\n",
              "      <td>1</td>\n",
              "    </tr>\n",
              "    <tr>\n",
              "      <th>201</th>\n",
              "      <td>49</td>\n",
              "      <td>Male</td>\n",
              "      <td>0.6</td>\n",
              "      <td>0.1</td>\n",
              "      <td>218</td>\n",
              "      <td>50</td>\n",
              "      <td>53</td>\n",
              "      <td>5.0</td>\n",
              "      <td>2.4</td>\n",
              "      <td>0.90</td>\n",
              "      <td>1</td>\n",
              "    </tr>\n",
              "  </tbody>\n",
              "</table>\n",
              "</div>\n",
              "    <div class=\"colab-df-buttons\">\n",
              "\n",
              "  <div class=\"colab-df-container\">\n",
              "    <button class=\"colab-df-convert\" onclick=\"convertToInteractive('df-d2cf0972-52d7-4841-9d79-76e57c7b4487')\"\n",
              "            title=\"Convert this dataframe to an interactive table.\"\n",
              "            style=\"display:none;\">\n",
              "\n",
              "  <svg xmlns=\"http://www.w3.org/2000/svg\" height=\"24px\" viewBox=\"0 -960 960 960\">\n",
              "    <path d=\"M120-120v-720h720v720H120Zm60-500h600v-160H180v160Zm220 220h160v-160H400v160Zm0 220h160v-160H400v160ZM180-400h160v-160H180v160Zm440 0h160v-160H620v160ZM180-180h160v-160H180v160Zm440 0h160v-160H620v160Z\"/>\n",
              "  </svg>\n",
              "    </button>\n",
              "\n",
              "  <style>\n",
              "    .colab-df-container {\n",
              "      display:flex;\n",
              "      gap: 12px;\n",
              "    }\n",
              "\n",
              "    .colab-df-convert {\n",
              "      background-color: #E8F0FE;\n",
              "      border: none;\n",
              "      border-radius: 50%;\n",
              "      cursor: pointer;\n",
              "      display: none;\n",
              "      fill: #1967D2;\n",
              "      height: 32px;\n",
              "      padding: 0 0 0 0;\n",
              "      width: 32px;\n",
              "    }\n",
              "\n",
              "    .colab-df-convert:hover {\n",
              "      background-color: #E2EBFA;\n",
              "      box-shadow: 0px 1px 2px rgba(60, 64, 67, 0.3), 0px 1px 3px 1px rgba(60, 64, 67, 0.15);\n",
              "      fill: #174EA6;\n",
              "    }\n",
              "\n",
              "    .colab-df-buttons div {\n",
              "      margin-bottom: 4px;\n",
              "    }\n",
              "\n",
              "    [theme=dark] .colab-df-convert {\n",
              "      background-color: #3B4455;\n",
              "      fill: #D2E3FC;\n",
              "    }\n",
              "\n",
              "    [theme=dark] .colab-df-convert:hover {\n",
              "      background-color: #434B5C;\n",
              "      box-shadow: 0px 1px 3px 1px rgba(0, 0, 0, 0.15);\n",
              "      filter: drop-shadow(0px 1px 2px rgba(0, 0, 0, 0.3));\n",
              "      fill: #FFFFFF;\n",
              "    }\n",
              "  </style>\n",
              "\n",
              "    <script>\n",
              "      const buttonEl =\n",
              "        document.querySelector('#df-d2cf0972-52d7-4841-9d79-76e57c7b4487 button.colab-df-convert');\n",
              "      buttonEl.style.display =\n",
              "        google.colab.kernel.accessAllowed ? 'block' : 'none';\n",
              "\n",
              "      async function convertToInteractive(key) {\n",
              "        const element = document.querySelector('#df-d2cf0972-52d7-4841-9d79-76e57c7b4487');\n",
              "        const dataTable =\n",
              "          await google.colab.kernel.invokeFunction('convertToInteractive',\n",
              "                                                    [key], {});\n",
              "        if (!dataTable) return;\n",
              "\n",
              "        const docLinkHtml = 'Like what you see? Visit the ' +\n",
              "          '<a target=\"_blank\" href=https://colab.research.google.com/notebooks/data_table.ipynb>data table notebook</a>'\n",
              "          + ' to learn more about interactive tables.';\n",
              "        element.innerHTML = '';\n",
              "        dataTable['output_type'] = 'display_data';\n",
              "        await google.colab.output.renderOutput(dataTable, element);\n",
              "        const docLink = document.createElement('div');\n",
              "        docLink.innerHTML = docLinkHtml;\n",
              "        element.appendChild(docLink);\n",
              "      }\n",
              "    </script>\n",
              "  </div>\n",
              "\n",
              "\n",
              "    <div id=\"df-9236a15f-76e8-4c8b-9e82-21a4470fd89a\">\n",
              "      <button class=\"colab-df-quickchart\" onclick=\"quickchart('df-9236a15f-76e8-4c8b-9e82-21a4470fd89a')\"\n",
              "                title=\"Suggest charts\"\n",
              "                style=\"display:none;\">\n",
              "\n",
              "<svg xmlns=\"http://www.w3.org/2000/svg\" height=\"24px\"viewBox=\"0 0 24 24\"\n",
              "     width=\"24px\">\n",
              "    <g>\n",
              "        <path d=\"M19 3H5c-1.1 0-2 .9-2 2v14c0 1.1.9 2 2 2h14c1.1 0 2-.9 2-2V5c0-1.1-.9-2-2-2zM9 17H7v-7h2v7zm4 0h-2V7h2v10zm4 0h-2v-4h2v4z\"/>\n",
              "    </g>\n",
              "</svg>\n",
              "      </button>\n",
              "\n",
              "<style>\n",
              "  .colab-df-quickchart {\n",
              "      --bg-color: #E8F0FE;\n",
              "      --fill-color: #1967D2;\n",
              "      --hover-bg-color: #E2EBFA;\n",
              "      --hover-fill-color: #174EA6;\n",
              "      --disabled-fill-color: #AAA;\n",
              "      --disabled-bg-color: #DDD;\n",
              "  }\n",
              "\n",
              "  [theme=dark] .colab-df-quickchart {\n",
              "      --bg-color: #3B4455;\n",
              "      --fill-color: #D2E3FC;\n",
              "      --hover-bg-color: #434B5C;\n",
              "      --hover-fill-color: #FFFFFF;\n",
              "      --disabled-bg-color: #3B4455;\n",
              "      --disabled-fill-color: #666;\n",
              "  }\n",
              "\n",
              "  .colab-df-quickchart {\n",
              "    background-color: var(--bg-color);\n",
              "    border: none;\n",
              "    border-radius: 50%;\n",
              "    cursor: pointer;\n",
              "    display: none;\n",
              "    fill: var(--fill-color);\n",
              "    height: 32px;\n",
              "    padding: 0;\n",
              "    width: 32px;\n",
              "  }\n",
              "\n",
              "  .colab-df-quickchart:hover {\n",
              "    background-color: var(--hover-bg-color);\n",
              "    box-shadow: 0 1px 2px rgba(60, 64, 67, 0.3), 0 1px 3px 1px rgba(60, 64, 67, 0.15);\n",
              "    fill: var(--button-hover-fill-color);\n",
              "  }\n",
              "\n",
              "  .colab-df-quickchart-complete:disabled,\n",
              "  .colab-df-quickchart-complete:disabled:hover {\n",
              "    background-color: var(--disabled-bg-color);\n",
              "    fill: var(--disabled-fill-color);\n",
              "    box-shadow: none;\n",
              "  }\n",
              "\n",
              "  .colab-df-spinner {\n",
              "    border: 2px solid var(--fill-color);\n",
              "    border-color: transparent;\n",
              "    border-bottom-color: var(--fill-color);\n",
              "    animation:\n",
              "      spin 1s steps(1) infinite;\n",
              "  }\n",
              "\n",
              "  @keyframes spin {\n",
              "    0% {\n",
              "      border-color: transparent;\n",
              "      border-bottom-color: var(--fill-color);\n",
              "      border-left-color: var(--fill-color);\n",
              "    }\n",
              "    20% {\n",
              "      border-color: transparent;\n",
              "      border-left-color: var(--fill-color);\n",
              "      border-top-color: var(--fill-color);\n",
              "    }\n",
              "    30% {\n",
              "      border-color: transparent;\n",
              "      border-left-color: var(--fill-color);\n",
              "      border-top-color: var(--fill-color);\n",
              "      border-right-color: var(--fill-color);\n",
              "    }\n",
              "    40% {\n",
              "      border-color: transparent;\n",
              "      border-right-color: var(--fill-color);\n",
              "      border-top-color: var(--fill-color);\n",
              "    }\n",
              "    60% {\n",
              "      border-color: transparent;\n",
              "      border-right-color: var(--fill-color);\n",
              "    }\n",
              "    80% {\n",
              "      border-color: transparent;\n",
              "      border-right-color: var(--fill-color);\n",
              "      border-bottom-color: var(--fill-color);\n",
              "    }\n",
              "    90% {\n",
              "      border-color: transparent;\n",
              "      border-bottom-color: var(--fill-color);\n",
              "    }\n",
              "  }\n",
              "</style>\n",
              "\n",
              "      <script>\n",
              "        async function quickchart(key) {\n",
              "          const quickchartButtonEl =\n",
              "            document.querySelector('#' + key + ' button');\n",
              "          quickchartButtonEl.disabled = true;  // To prevent multiple clicks.\n",
              "          quickchartButtonEl.classList.add('colab-df-spinner');\n",
              "          try {\n",
              "            const charts = await google.colab.kernel.invokeFunction(\n",
              "                'suggestCharts', [key], {});\n",
              "          } catch (error) {\n",
              "            console.error('Error during call to suggestCharts:', error);\n",
              "          }\n",
              "          quickchartButtonEl.classList.remove('colab-df-spinner');\n",
              "          quickchartButtonEl.classList.add('colab-df-quickchart-complete');\n",
              "        }\n",
              "        (() => {\n",
              "          let quickchartButtonEl =\n",
              "            document.querySelector('#df-9236a15f-76e8-4c8b-9e82-21a4470fd89a button');\n",
              "          quickchartButtonEl.style.display =\n",
              "            google.colab.kernel.accessAllowed ? 'block' : 'none';\n",
              "        })();\n",
              "      </script>\n",
              "    </div>\n",
              "\n",
              "    </div>\n",
              "  </div>\n"
            ],
            "application/vnd.google.colaboratory.intrinsic+json": {
              "type": "dataframe",
              "summary": "{\n  \"name\": \"df[df\",\n  \"rows\": 26,\n  \"fields\": [\n    {\n      \"column\": \"age\",\n      \"properties\": {\n        \"dtype\": \"number\",\n        \"std\": 13,\n        \"min\": 18,\n        \"max\": 72,\n        \"num_unique_values\": 12,\n        \"samples\": [\n          31,\n          39,\n          40\n        ],\n        \"semantic_type\": \"\",\n        \"description\": \"\"\n      }\n    },\n    {\n      \"column\": \"gender \",\n      \"properties\": {\n        \"dtype\": \"category\",\n        \"num_unique_values\": 2,\n        \"samples\": [\n          \"Male\",\n          \"Female\"\n        ],\n        \"semantic_type\": \"\",\n        \"description\": \"\"\n      }\n    },\n    {\n      \"column\": \"tb\",\n      \"properties\": {\n        \"dtype\": \"number\",\n        \"std\": 2.417092977429388,\n        \"min\": 0.6,\n        \"max\": 8.9,\n        \"num_unique_values\": 11,\n        \"samples\": [\n          5.3,\n          0.9\n        ],\n        \"semantic_type\": \"\",\n        \"description\": \"\"\n      }\n    },\n    {\n      \"column\": \"db\",\n      \"properties\": {\n        \"dtype\": \"number\",\n        \"std\": 1.258472822969907,\n        \"min\": 0.1,\n        \"max\": 4.5,\n        \"num_unique_values\": 10,\n        \"samples\": [\n          0.1,\n          2.0\n        ],\n        \"semantic_type\": \"\",\n        \"description\": \"\"\n      }\n    },\n    {\n      \"column\": \"alkphos\",\n      \"properties\": {\n        \"dtype\": \"number\",\n        \"std\": 79,\n        \"min\": 145,\n        \"max\": 410,\n        \"num_unique_values\": 12,\n        \"samples\": [\n          175,\n          180\n        ],\n        \"semantic_type\": \"\",\n        \"description\": \"\"\n      }\n    },\n    {\n      \"column\": \"sgpt\",\n      \"properties\": {\n        \"dtype\": \"number\",\n        \"std\": 227,\n        \"min\": 20,\n        \"max\": 875,\n        \"num_unique_values\": 13,\n        \"samples\": [\n          48,\n          20\n        ],\n        \"semantic_type\": \"\",\n        \"description\": \"\"\n      }\n    },\n    {\n      \"column\": \"sgot\",\n      \"properties\": {\n        \"dtype\": \"number\",\n        \"std\": 185,\n        \"min\": 34,\n        \"max\": 731,\n        \"num_unique_values\": 13,\n        \"samples\": [\n          34,\n          35\n        ],\n        \"semantic_type\": \"\",\n        \"description\": \"\"\n      }\n    },\n    {\n      \"column\": \"tp\",\n      \"properties\": {\n        \"dtype\": \"number\",\n        \"std\": 0.7688552929768135,\n        \"min\": 5.0,\n        \"max\": 7.4,\n        \"num_unique_values\": 9,\n        \"samples\": [\n          5.5,\n          5.0\n        ],\n        \"semantic_type\": \"\",\n        \"description\": \"\"\n      }\n    },\n    {\n      \"column\": \"alb\",\n      \"properties\": {\n        \"dtype\": \"number\",\n        \"std\": 0.6792756322844097,\n        \"min\": 2.0,\n        \"max\": 4.3,\n        \"num_unique_values\": 11,\n        \"samples\": [\n          2.6,\n          3.1\n        ],\n        \"semantic_type\": \"\",\n        \"description\": \"\"\n      }\n    },\n    {\n      \"column\": \"a/g\",\n      \"properties\": {\n        \"dtype\": \"number\",\n        \"std\": 0.32123607422675204,\n        \"min\": 0.5,\n        \"max\": 1.6,\n        \"num_unique_values\": 7,\n        \"samples\": [\n          0.8,\n          1.1\n        ],\n        \"semantic_type\": \"\",\n        \"description\": \"\"\n      }\n    },\n    {\n      \"column\": \"selector\",\n      \"properties\": {\n        \"dtype\": \"number\",\n        \"std\": 0,\n        \"min\": 1,\n        \"max\": 2,\n        \"num_unique_values\": 2,\n        \"samples\": [\n          2,\n          1\n        ],\n        \"semantic_type\": \"\",\n        \"description\": \"\"\n      }\n    }\n  ]\n}"
            }
          },
          "metadata": {},
          "execution_count": 32
        }
      ]
    },
    {
      "cell_type": "markdown",
      "source": [
        "### Memeriksa nilai unique"
      ],
      "metadata": {
        "id": "m3Ue3MmLRCUM"
      }
    },
    {
      "cell_type": "code",
      "source": [
        "df.nunique()"
      ],
      "metadata": {
        "id": "qJaR7XibRXwN",
        "outputId": "f2f8fae1-91a3-484f-ae0f-840537fa31b8",
        "colab": {
          "base_uri": "https://localhost:8080/",
          "height": 429
        }
      },
      "execution_count": 33,
      "outputs": [
        {
          "output_type": "execute_result",
          "data": {
            "text/plain": [
              "age          72\n",
              "gender        2\n",
              "tb          113\n",
              "db           80\n",
              "alkphos     263\n",
              "sgpt        152\n",
              "sgot        177\n",
              "tp           58\n",
              "alb          40\n",
              "a/g          69\n",
              "selector      2\n",
              "dtype: int64"
            ],
            "text/html": [
              "<div>\n",
              "<style scoped>\n",
              "    .dataframe tbody tr th:only-of-type {\n",
              "        vertical-align: middle;\n",
              "    }\n",
              "\n",
              "    .dataframe tbody tr th {\n",
              "        vertical-align: top;\n",
              "    }\n",
              "\n",
              "    .dataframe thead th {\n",
              "        text-align: right;\n",
              "    }\n",
              "</style>\n",
              "<table border=\"1\" class=\"dataframe\">\n",
              "  <thead>\n",
              "    <tr style=\"text-align: right;\">\n",
              "      <th></th>\n",
              "      <th>0</th>\n",
              "    </tr>\n",
              "  </thead>\n",
              "  <tbody>\n",
              "    <tr>\n",
              "      <th>age</th>\n",
              "      <td>72</td>\n",
              "    </tr>\n",
              "    <tr>\n",
              "      <th>gender</th>\n",
              "      <td>2</td>\n",
              "    </tr>\n",
              "    <tr>\n",
              "      <th>tb</th>\n",
              "      <td>113</td>\n",
              "    </tr>\n",
              "    <tr>\n",
              "      <th>db</th>\n",
              "      <td>80</td>\n",
              "    </tr>\n",
              "    <tr>\n",
              "      <th>alkphos</th>\n",
              "      <td>263</td>\n",
              "    </tr>\n",
              "    <tr>\n",
              "      <th>sgpt</th>\n",
              "      <td>152</td>\n",
              "    </tr>\n",
              "    <tr>\n",
              "      <th>sgot</th>\n",
              "      <td>177</td>\n",
              "    </tr>\n",
              "    <tr>\n",
              "      <th>tp</th>\n",
              "      <td>58</td>\n",
              "    </tr>\n",
              "    <tr>\n",
              "      <th>alb</th>\n",
              "      <td>40</td>\n",
              "    </tr>\n",
              "    <tr>\n",
              "      <th>a/g</th>\n",
              "      <td>69</td>\n",
              "    </tr>\n",
              "    <tr>\n",
              "      <th>selector</th>\n",
              "      <td>2</td>\n",
              "    </tr>\n",
              "  </tbody>\n",
              "</table>\n",
              "</div><br><label><b>dtype:</b> int64</label>"
            ]
          },
          "metadata": {},
          "execution_count": 33
        }
      ]
    },
    {
      "cell_type": "code",
      "source": [
        "for col in df.columns:\n",
        " print(f'{col}')\n",
        " print(f'Jumlah nilai yang unik: {df[col].nunique()}')\n",
        " print(f'Nilai yang paling sering muncul (modus): {df[col].mode().values[0]}')\n",
        " print(f'{df[col].unique()}\\n')"
      ],
      "metadata": {
        "id": "3W61YSfZRZ9W",
        "outputId": "3e8aef77-5012-4a7d-c045-362c8d37876e",
        "colab": {
          "base_uri": "https://localhost:8080/"
        }
      },
      "execution_count": 34,
      "outputs": [
        {
          "output_type": "stream",
          "name": "stdout",
          "text": [
            "age\n",
            "Jumlah nilai yang unik: 72\n",
            "Nilai yang paling sering muncul (modus): 60\n",
            "[65 62 58 72 46 26 29 17 55 57 64 74 61 25 38 33 40 51 63 34 20 84 52 30\n",
            " 48 47 45 42 50 85 35 21 32 31 54 37 66 60 19 75 68 70 49 14 13 18 39 27\n",
            " 36 24 28 53 15 56 44 41  7 22  8  6  4 43 23 12 69 16 78 11 73 67 10 90]\n",
            "\n",
            "gender \n",
            "Jumlah nilai yang unik: 2\n",
            "Nilai yang paling sering muncul (modus): Male\n",
            "['Female' 'Male']\n",
            "\n",
            "tb\n",
            "Jumlah nilai yang unik: 113\n",
            "Nilai yang paling sering muncul (modus): 0.8\n",
            "[ 0.7 10.9  7.3  1.   3.9  1.8  0.9  0.6  2.7  1.1  1.6  2.2  2.9  6.8\n",
            "  1.9  4.1  6.2  4.   2.6  1.3 14.2  1.4  2.4 18.4  3.1  8.9  0.8  2.8\n",
            "  2.   5.7  8.6  5.8  5.2  3.8  6.6  0.5  5.3  3.2  1.2 12.7 15.9 18.\n",
            " 23.  22.7  1.7  3.  11.3  4.7  4.2  3.5  5.9  8.7 11.  11.5  4.5 75.\n",
            " 22.8 14.1 14.8 10.6  8.   1.5  2.1  6.3  2.3 27.2  2.5  3.6 30.5 16.4\n",
            " 14.5 18.5 23.2  3.7  3.3  7.1  6.7 22.6  7.5  5.   4.9  8.2  0.4  7.4\n",
            " 23.3  7.9  3.4 19.8 32.6 17.7 20.  26.3  4.4  9.4 30.8 19.6 15.8  5.5\n",
            " 20.2 27.7 11.1 10.2 42.8 15.2 16.6 17.3 22.5 16.7  7.7 15.6 12.1 25.\n",
            " 15. ]\n",
            "\n",
            "db\n",
            "Jumlah nilai yang unik: 80\n",
            "Nilai yang paling sering muncul (modus): 0.2\n",
            "[ 0.1  5.5  4.1  0.4  2.   0.7  0.2  0.3  1.3  0.8  0.5  1.   3.   1.9\n",
            "  1.2  7.8  0.6  1.1  3.2  1.8  8.8  1.6  4.5  2.8  4.   2.7  2.4  1.5\n",
            "  2.3  3.6  6.2  7.   8.2 11.3 10.2  2.5  1.4  1.7  5.6  2.2  2.1  4.9\n",
            "  5.   0.9 12.6  7.6  9.   4.6 11.8 14.2  8.9  6.4  9.5  3.3 11.4  4.3\n",
            "  3.7  2.6  3.9  5.1 12.8 10.4 17.1 14.1  8.5 10.  12.1  2.9  5.2 18.3\n",
            "  7.2 11.7 10.8  6.1  4.2 19.7  7.7  8.4  6.  13.7]\n",
            "\n",
            "alkphos\n",
            "Jumlah nilai yang unik: 263\n",
            "Nilai yang paling sering muncul (modus): 198\n",
            "[ 187  699  490  182  195  208  154  202  290  210  260  310  214  145\n",
            "  183  342  165  293  610  482  542  231  194  289  240  128  188  190\n",
            "  156  410  374  263  275  168  160  630  415  150  230  176  206  170\n",
            "  161  253  198  272  175  367  158  259  470  215  239  186  205  171\n",
            "  162  518 1620  146  670  915   75  148  258  237  269  320  298  538\n",
            "  238  308  204  282  265  312  243  224  225  486  257  179  661 1580\n",
            " 1630  280  300  178  177  201  802  248 1896  512  199 1110  380  159\n",
            "  332  189  392  286  180  218  462  196  750 1050  599  292  962  950\n",
            "  200 1020  562  386  250  191  614  314  209 1124  664  142  169 1420\n",
            "  135  163  285  350  220  219  401  100  116  125  147  192  400  120\n",
            "  173  157 2110  360  316  498  480  680  152  859  901  335  245  505\n",
            "  228  185  247  348  140  358  110  235  460  262  144  123  575  155\n",
            "  315  174  340  234  430  588  527  574  106  216   63  302  211  458\n",
            "  375  405  650  115  621  256  418  271  130  558  326  331  172  105\n",
            "  102  149  580   92  719  554  555  509  690  862  592  450 1350  246\n",
            "  166 1750  236  212  279  181 1550 1100  686  309  164  270  137   90\n",
            "  167  197  226  352  103  850  276  193  805  151  349  365  305  127\n",
            "  254  108  268  138  466  227  395   97  406  114  153  768  232  390\n",
            "  356  388  143  251  134  612  515  560  500   98  184]\n",
            "\n",
            "sgpt\n",
            "Jumlah nilai yang unik: 152\n",
            "Nilai yang paling sering muncul (modus): 25\n",
            "[  16   64   60   14   27   19   22   53   51   31   61   91  168   15\n",
            "  232   17  116   52  875 1680   20   13   45   35   59  102   18   38\n",
            "  123   33   42   25  407   48   36 1630   39   21   80   86   26   24\n",
            "   37   40   62   55  166  189   95   12  194   58   28  119  412  404\n",
            "  220  126  190   97  308   32   29   11   63  181   88   74 2000 1350\n",
            " 1250  482  322  133   46   57   50   34   72   84   30   70  140   99\n",
            "   43  378  112   71   23   79  114  118  107  790  950   82   41   56\n",
            "   85  149  230   69   90   89  148   65  205   96  152  390   10  120\n",
            "   78  178  179   47  160   54  198   44  349  110  115   94  142  137\n",
            "  155  157  141  284  440   93   76   49  425  159  622  779  132  154\n",
            "  196   68  509   67  139  382   75  321  233  173  213  131]\n",
            "\n",
            "sgot\n",
            "Jumlah nilai yang unik: 177\n",
            "Nilai yang paling sering muncul (modus): 23\n",
            "[  18  100   68   20   59   14   12   11   19   58   56   30   41   53\n",
            "  441   23  245   28   34   66   55   45  731  850   21  111   44   57\n",
            "   80   36   77   73   50  110   47  576   15  178   27  960  406  150\n",
            "   61   54   24   16   43   97   86   88   95   26   17  397   29   22\n",
            "  127   79  142  152   31  350  794  400  202  630  950  161  405   92\n",
            "   39   10  116   98  285   64  149 2946 1600 1050  275  113   84   25\n",
            "   40   83   65 4929   90  140  139   87   38   42  233  138   82   35\n",
            "   32  187   62   74   67   37  602   63   99  103  145  247  114  104\n",
            "   51   60 1500   33  180  148   46   13   85  231  156   89  298   48\n",
            "  130   75  500  105  250  232  143  176   70   52   91  236  108  190\n",
            "   71  126  141  102   81  511   72  135  497  844  368  188  248  401\n",
            "   76  221  235  185  230  540  181  155  200  186  623  220   78  348\n",
            "  125  330  562  384  367  101  168  134   49]\n",
            "\n",
            "tp\n",
            "Jumlah nilai yang unik: 58\n",
            "Nilai yang paling sering muncul (modus): 7.0\n",
            "[6.8 7.5 7.  7.3 7.6 6.7 7.4 5.9 8.1 5.8 5.5 6.4 4.3 6.  5.  7.2 3.9 5.2\n",
            " 4.9 5.6 6.9 6.2 5.1 6.1 6.5 5.7 6.6 6.3 8.  4.4 5.3 4.6 4.7 5.4 7.1 4.\n",
            " 3.7 2.7 3.  3.8 7.8 4.5 4.1 4.8 7.9 8.5 7.7 8.2 2.8 9.5 9.6 8.3 8.6 8.4\n",
            " 8.9 8.7 3.6 9.2]\n",
            "\n",
            "alb\n",
            "Jumlah nilai yang unik: 40\n",
            "Nilai yang paling sering muncul (modus): 3.0\n",
            "[3.3 3.2 3.4 2.4 4.4 3.5 3.6 4.1 2.7 3.  2.3 3.1 2.6 1.6 3.9 4.  1.9 1.5\n",
            " 2.9 2.  2.2 2.8 1.8 2.5 2.1 3.7 3.8 4.3 1.7 4.2 4.5 0.9 1.4 4.7 5.5 4.9\n",
            " 4.6 4.8 5.  1. ]\n",
            "\n",
            "a/g\n",
            "Jumlah nilai yang unik: 69\n",
            "Nilai yang paling sering muncul (modus): 1.0\n",
            "[0.9  0.74 0.89 1.   0.4  1.3  1.1  1.2  0.8  0.6  0.87 0.7  0.92 0.55\n",
            " 0.5  1.85 0.95 1.4  1.18 0.61 1.34 1.39 1.6  1.58 1.25 0.78 0.76 1.55\n",
            " 0.71 0.62 0.67 0.75 1.16 1.5  1.66 0.96 1.38 0.52 0.47 0.93 0.48 0.58\n",
            " 0.69 1.27 1.12 1.06 0.53 1.03 0.68  nan 1.9  1.7  1.8  0.3  0.97 0.35\n",
            " 1.51 0.64 0.45 1.36 0.88 1.09 1.11 1.72 2.8  0.46 0.39 1.02 2.5  0.37]\n",
            "\n",
            "selector\n",
            "Jumlah nilai yang unik: 2\n",
            "Nilai yang paling sering muncul (modus): 1\n",
            "[1 2]\n",
            "\n"
          ]
        }
      ]
    },
    {
      "cell_type": "code",
      "source": [
        "# melihat apakah ada data yang tidak konsisten\n",
        "df['gender'].value_counts()"
      ],
      "metadata": {
        "id": "N5KEqHaYMDQI",
        "colab": {
          "base_uri": "https://localhost:8080/",
          "height": 178
        },
        "outputId": "d76d8c28-ea53-4ac0-d792-2e2f52ef7a13"
      },
      "execution_count": 38,
      "outputs": [
        {
          "output_type": "execute_result",
          "data": {
            "text/plain": [
              "gender\n",
              "Male      441\n",
              "Female    142\n",
              "Name: count, dtype: int64"
            ],
            "text/html": [
              "<div>\n",
              "<style scoped>\n",
              "    .dataframe tbody tr th:only-of-type {\n",
              "        vertical-align: middle;\n",
              "    }\n",
              "\n",
              "    .dataframe tbody tr th {\n",
              "        vertical-align: top;\n",
              "    }\n",
              "\n",
              "    .dataframe thead th {\n",
              "        text-align: right;\n",
              "    }\n",
              "</style>\n",
              "<table border=\"1\" class=\"dataframe\">\n",
              "  <thead>\n",
              "    <tr style=\"text-align: right;\">\n",
              "      <th></th>\n",
              "      <th>count</th>\n",
              "    </tr>\n",
              "    <tr>\n",
              "      <th>gender</th>\n",
              "      <th></th>\n",
              "    </tr>\n",
              "  </thead>\n",
              "  <tbody>\n",
              "    <tr>\n",
              "      <th>Male</th>\n",
              "      <td>441</td>\n",
              "    </tr>\n",
              "    <tr>\n",
              "      <th>Female</th>\n",
              "      <td>142</td>\n",
              "    </tr>\n",
              "  </tbody>\n",
              "</table>\n",
              "</div><br><label><b>dtype:</b> int64</label>"
            ]
          },
          "metadata": {},
          "execution_count": 38
        }
      ]
    },
    {
      "cell_type": "markdown",
      "source": [
        "## BAB 4 – (J.62DMI00.007.1) menentukan object data"
      ],
      "metadata": {
        "id": "43FQZUVxfQw9"
      }
    },
    {
      "cell_type": "markdown",
      "source": [
        "**WAJIB DIISI**,\n",
        "\n",
        "ADA BERAPA FITUR: 11\n",
        "\n",
        "ADA BERAPA RECORDS: 583\n",
        "\n",
        "ADA BERAPA FITUR YANG TIDAK DIGUNAKAN: 0\n",
        "\n",
        "TARGETNYA APA: selector\n",
        "\n",
        "ADA BERAPA MODEL DATAFRAME YANG HARUS DIBUAT?: 4\n",
        "\n"
      ],
      "metadata": {
        "id": "DG6RzyFpfL3R"
      }
    },
    {
      "cell_type": "code",
      "source": [
        "# Melihat kembali informasi dataset untuk memahami isi dan tipe data"
      ],
      "metadata": {
        "id": "H-oavbaJkI0l"
      },
      "execution_count": 39,
      "outputs": []
    },
    {
      "cell_type": "markdown",
      "source": [
        "- Jika ada data yang tidak konsisten, silahkan di tangani pada proses dibawah ini."
      ],
      "metadata": {
        "id": "8D7_uzOsfvTV"
      }
    },
    {
      "cell_type": "code",
      "source": [
        "# jika terdapat data yang tidak konsisten"
      ],
      "metadata": {
        "id": "j8m_TUzefc70"
      },
      "execution_count": 40,
      "outputs": []
    },
    {
      "cell_type": "markdown",
      "source": [
        "- Jika ada fitur yang tidak berguna, bisa dihapus pada cell dibawah ini"
      ],
      "metadata": {
        "id": "GXijZ0Eqf7iG"
      }
    },
    {
      "cell_type": "code",
      "source": [
        "# jika terdapar fitur yang tidak berguna"
      ],
      "metadata": {
        "id": "ujOI8QvLgB55"
      },
      "execution_count": 41,
      "outputs": []
    },
    {
      "cell_type": "markdown",
      "source": [
        "### Mengubah label target"
      ],
      "metadata": {
        "id": "ZeLRkld8SXyQ"
      }
    },
    {
      "cell_type": "code",
      "source": [
        "# Ubah label target menjadi 0 dan 1\n",
        "df['selector'] = df['selector'].map({\"no\": 0, \"yes\": 1})"
      ],
      "metadata": {
        "id": "cb_zPHXWMaOO"
      },
      "execution_count": 45,
      "outputs": []
    },
    {
      "cell_type": "markdown",
      "source": [
        "## BAB 5 – (J.62DMI00.008.1) membersihkan data\n",
        "- **ANDA TIDAK PERLU MELAKUKAN OUTLIER REMOVAL** NAMUN HANDLE JIKA TERDAPAT DATA YANG KOSONG (TIDAK DIREKOMENDASIKAN MENGHAPUS), HANDLE JIKA ADA DUPLIKAT"
      ],
      "metadata": {
        "id": "nIDQTlnegLrR"
      }
    },
    {
      "cell_type": "markdown",
      "source": [
        "### Memeriksa missing values"
      ],
      "metadata": {
        "id": "nzH3c_OxSeD4"
      }
    },
    {
      "cell_type": "code",
      "source": [
        "# Memastikan kembali untuk melihat data kosong\n",
        "df.isnull().sum()"
      ],
      "metadata": {
        "id": "Mlvuo1mSgE2D",
        "outputId": "8659ca38-2e5b-4e0f-f187-d9197b4e80c5",
        "colab": {
          "base_uri": "https://localhost:8080/",
          "height": 429
        }
      },
      "execution_count": 46,
      "outputs": [
        {
          "output_type": "execute_result",
          "data": {
            "text/plain": [
              "age           0\n",
              "gender        0\n",
              "tb            0\n",
              "db            0\n",
              "alkphos       0\n",
              "sgpt          0\n",
              "sgot          0\n",
              "tp            0\n",
              "alb           0\n",
              "a/g           4\n",
              "selector    583\n",
              "dtype: int64"
            ],
            "text/html": [
              "<div>\n",
              "<style scoped>\n",
              "    .dataframe tbody tr th:only-of-type {\n",
              "        vertical-align: middle;\n",
              "    }\n",
              "\n",
              "    .dataframe tbody tr th {\n",
              "        vertical-align: top;\n",
              "    }\n",
              "\n",
              "    .dataframe thead th {\n",
              "        text-align: right;\n",
              "    }\n",
              "</style>\n",
              "<table border=\"1\" class=\"dataframe\">\n",
              "  <thead>\n",
              "    <tr style=\"text-align: right;\">\n",
              "      <th></th>\n",
              "      <th>0</th>\n",
              "    </tr>\n",
              "  </thead>\n",
              "  <tbody>\n",
              "    <tr>\n",
              "      <th>age</th>\n",
              "      <td>0</td>\n",
              "    </tr>\n",
              "    <tr>\n",
              "      <th>gender</th>\n",
              "      <td>0</td>\n",
              "    </tr>\n",
              "    <tr>\n",
              "      <th>tb</th>\n",
              "      <td>0</td>\n",
              "    </tr>\n",
              "    <tr>\n",
              "      <th>db</th>\n",
              "      <td>0</td>\n",
              "    </tr>\n",
              "    <tr>\n",
              "      <th>alkphos</th>\n",
              "      <td>0</td>\n",
              "    </tr>\n",
              "    <tr>\n",
              "      <th>sgpt</th>\n",
              "      <td>0</td>\n",
              "    </tr>\n",
              "    <tr>\n",
              "      <th>sgot</th>\n",
              "      <td>0</td>\n",
              "    </tr>\n",
              "    <tr>\n",
              "      <th>tp</th>\n",
              "      <td>0</td>\n",
              "    </tr>\n",
              "    <tr>\n",
              "      <th>alb</th>\n",
              "      <td>0</td>\n",
              "    </tr>\n",
              "    <tr>\n",
              "      <th>a/g</th>\n",
              "      <td>4</td>\n",
              "    </tr>\n",
              "    <tr>\n",
              "      <th>selector</th>\n",
              "      <td>583</td>\n",
              "    </tr>\n",
              "  </tbody>\n",
              "</table>\n",
              "</div><br><label><b>dtype:</b> int64</label>"
            ]
          },
          "metadata": {},
          "execution_count": 46
        }
      ]
    },
    {
      "cell_type": "markdown",
      "source": [
        "### Handling missing values\n",
        "\n",
        "Ada aturan tidak baku dalam data science:\n",
        "*   jika missing value lebih dari 60% maka lebih baik dilakukan `drop feature`\n",
        "*   Jika hanya terdapat sedikit missing values (kurang dari 5%) dan data tidak mengandung informasi penting maka lebih baik dilakukan `drop baris` agar tidak mengubah distribusi fitur lainnya\n",
        "*  Jika data bersifat numerik, data tidak memiliki outlier yang ekstrem, jumlah missing values lebih dari 5%, jumlah missing values kurang dari 60% dan distribusi data mendekati normal maka lebih baik dilakukan `imputasi menggunakan mean`\n",
        "*   Jika data bersifat numerik, data memiliki outlier yang tidak ekstrem, jumlah missing values lebih dari 5%, jumlah missing values kurang dari 60% dan berdistribusi tidak normal maka lebih baik dilakukan `imputasi median`\n",
        "*   Jika data bersifat kategorikal, jumlah missing value kurang dari 60%, dan lebih dari 5% maka lebih baik dilakukan `imputasi modus`"
      ],
      "metadata": {
        "id": "rtvIjouiSk8x"
      }
    },
    {
      "cell_type": "code",
      "source": [
        "# Handling baris yang memiliki NaN di kolom 'a/g ratio'\n",
        "df = df.dropna(subset=['a/g'])"
      ],
      "metadata": {
        "id": "-i-zSQzWgucx"
      },
      "execution_count": 47,
      "outputs": []
    },
    {
      "cell_type": "markdown",
      "source": [
        "### Handling duplikat data"
      ],
      "metadata": {
        "id": "PaYoBCnWSsAH"
      }
    },
    {
      "cell_type": "code",
      "source": [
        "# Cek duplikasi data & Handle jika terdapat duplikat data\n",
        "df = df.duplicated()"
      ],
      "metadata": {
        "id": "OlEweBMxhIA6"
      },
      "execution_count": 48,
      "outputs": []
    },
    {
      "cell_type": "markdown",
      "source": [
        "- Dari pekerjaan Membersihkan Data yang telah anda lakukan, Bagaimana yang akan anda lakukan jika Dataset anda ternyata memiliki beberapa nilai kosong (missing value)? `ISI DISINI`"
      ],
      "metadata": {
        "id": "3is-ZvsuV1m8"
      }
    },
    {
      "cell_type": "markdown",
      "source": [
        "## BAB 6 – (J.62DMI00.009.1) mengkonstruksi data\n",
        "CATATAN:\n",
        "- **UNTUK UJIAN INI, ANDA TIDAK PERLU MELAKUKAN FEATURE ENGINEERING DISINI**\n",
        "- NAMUN ANDA WAJIB MELAKUKAN SAMPLING UNTUK BALANCING CLASS (MENYEIMBANGKAN KELAS DENGAN SKEMA OVER SAMPLING), MENUNJUKKAN OUTLIER YANG TERDAPAT PADA DATASETS, DAN MENAMPILKAN HEATMAP KORELASI ANTAR FITUR UNTUK MENGETAHUI FITUR - FITUR YANG MEMILIKI KORELASI TINGGI DAN RENDAH PADA DATASETS"
      ],
      "metadata": {
        "id": "l8VZ7J86hSAx"
      }
    },
    {
      "cell_type": "markdown",
      "source": [
        "### Deteksi Outlier"
      ],
      "metadata": {
        "id": "4jVevQBQS0GJ"
      }
    },
    {
      "cell_type": "code",
      "source": [
        "# cek outlier dengan visualisasi\n",
        "import seaborn as sns\n",
        "import matplotlib.pyplot as plt\n",
        "for col in num_cols:\n",
        "    boxplot = sns.boxplot(data=df, x=col)\n",
        "    plt.title(f'Boxplot of {col}')\n",
        "    plt.show()"
      ],
      "metadata": {
        "id": "8GAnWQvQiW8N",
        "outputId": "699526ab-1060-44c3-f4ff-7c2a53110890",
        "colab": {
          "base_uri": "https://localhost:8080/",
          "height": 211
        }
      },
      "execution_count": 3,
      "outputs": [
        {
          "output_type": "error",
          "ename": "NameError",
          "evalue": "name 'num_cols' is not defined",
          "traceback": [
            "\u001b[0;31m---------------------------------------------------------------------------\u001b[0m",
            "\u001b[0;31mNameError\u001b[0m                                 Traceback (most recent call last)",
            "\u001b[0;32m<ipython-input-3-d744b11a4865>\u001b[0m in \u001b[0;36m<cell line: 0>\u001b[0;34m()\u001b[0m\n\u001b[1;32m      2\u001b[0m \u001b[0;32mimport\u001b[0m \u001b[0mseaborn\u001b[0m \u001b[0;32mas\u001b[0m \u001b[0msns\u001b[0m\u001b[0;34m\u001b[0m\u001b[0;34m\u001b[0m\u001b[0m\n\u001b[1;32m      3\u001b[0m \u001b[0;32mimport\u001b[0m \u001b[0mmatplotlib\u001b[0m\u001b[0;34m.\u001b[0m\u001b[0mpyplot\u001b[0m \u001b[0;32mas\u001b[0m \u001b[0mplt\u001b[0m\u001b[0;34m\u001b[0m\u001b[0;34m\u001b[0m\u001b[0m\n\u001b[0;32m----> 4\u001b[0;31m \u001b[0;32mfor\u001b[0m \u001b[0mcol\u001b[0m \u001b[0;32min\u001b[0m \u001b[0mnum_cols\u001b[0m\u001b[0;34m:\u001b[0m\u001b[0;34m\u001b[0m\u001b[0;34m\u001b[0m\u001b[0m\n\u001b[0m\u001b[1;32m      5\u001b[0m     \u001b[0mboxplot\u001b[0m \u001b[0;34m=\u001b[0m \u001b[0msns\u001b[0m\u001b[0;34m.\u001b[0m\u001b[0mboxplot\u001b[0m\u001b[0;34m(\u001b[0m\u001b[0mdata\u001b[0m\u001b[0;34m=\u001b[0m\u001b[0mdf\u001b[0m\u001b[0;34m,\u001b[0m \u001b[0mx\u001b[0m\u001b[0;34m=\u001b[0m\u001b[0mcol\u001b[0m\u001b[0;34m)\u001b[0m\u001b[0;34m\u001b[0m\u001b[0;34m\u001b[0m\u001b[0m\n\u001b[1;32m      6\u001b[0m     \u001b[0mplt\u001b[0m\u001b[0;34m.\u001b[0m\u001b[0mtitle\u001b[0m\u001b[0;34m(\u001b[0m\u001b[0;34mf'Boxplot of {col}'\u001b[0m\u001b[0;34m)\u001b[0m\u001b[0;34m\u001b[0m\u001b[0;34m\u001b[0m\u001b[0m\n",
            "\u001b[0;31mNameError\u001b[0m: name 'num_cols' is not defined"
          ]
        }
      ]
    },
    {
      "cell_type": "code",
      "source": [
        "print(num_cols)\n",
        "print(df[num_cols].dtypes)\n"
      ],
      "metadata": {
        "colab": {
          "base_uri": "https://localhost:8080/",
          "height": 158
        },
        "id": "GcBBQ1DYcpH5",
        "outputId": "19a751a7-44e4-4709-92e4-28112be6348b"
      },
      "execution_count": 4,
      "outputs": [
        {
          "output_type": "error",
          "ename": "NameError",
          "evalue": "name 'num_cols' is not defined",
          "traceback": [
            "\u001b[0;31m---------------------------------------------------------------------------\u001b[0m",
            "\u001b[0;31mNameError\u001b[0m                                 Traceback (most recent call last)",
            "\u001b[0;32m<ipython-input-4-b1513eaadc34>\u001b[0m in \u001b[0;36m<cell line: 0>\u001b[0;34m()\u001b[0m\n\u001b[0;32m----> 1\u001b[0;31m \u001b[0mprint\u001b[0m\u001b[0;34m(\u001b[0m\u001b[0mnum_cols\u001b[0m\u001b[0;34m)\u001b[0m\u001b[0;34m\u001b[0m\u001b[0;34m\u001b[0m\u001b[0m\n\u001b[0m\u001b[1;32m      2\u001b[0m \u001b[0mprint\u001b[0m\u001b[0;34m(\u001b[0m\u001b[0mdf\u001b[0m\u001b[0;34m[\u001b[0m\u001b[0mnum_cols\u001b[0m\u001b[0;34m]\u001b[0m\u001b[0;34m.\u001b[0m\u001b[0mdtypes\u001b[0m\u001b[0;34m)\u001b[0m\u001b[0;34m\u001b[0m\u001b[0;34m\u001b[0m\u001b[0m\n",
            "\u001b[0;31mNameError\u001b[0m: name 'num_cols' is not defined"
          ]
        }
      ]
    },
    {
      "cell_type": "markdown",
      "source": [
        "#### Handling dengan IQR"
      ],
      "metadata": {
        "id": "YV01nzmbPTKh"
      }
    },
    {
      "cell_type": "markdown",
      "source": [
        "Ingat, handling dengan IQR disini jika distribusi data tidak normal (tidak simetris atau skewed), dimana ada data yang outliersnya positively skewed (miring kanan/condong di kanan) atau negatively skewed (miring kiri/condong di kiri)\n",
        "\n"
      ],
      "metadata": {
        "id": "6jtuGIeTOHgA"
      }
    },
    {
      "cell_type": "code",
      "source": [
        "# Buat salinan dataframe\n",
        "data_cleaned = df.copy()"
      ],
      "metadata": {
        "id": "BzydhOujPfZ6"
      },
      "execution_count": null,
      "outputs": []
    },
    {
      "cell_type": "code",
      "source": [
        "iqr_cols = ['tb', 'db', 'alkphos', 'sgpt', 'sgot',\n",
        "       'a/g ratio']\n",
        "\n",
        "for col in iqr_cols:\n",
        "    Q1 = data_cleaned[col].quantile(0.25)\n",
        "    Q3 = data_cleaned[col].quantile(0.75)\n",
        "    IQR = Q3 - Q1\n",
        "    lower_bound = Q1 - 1.5 * IQR\n",
        "    upper_bound = Q3 + 1.5 * IQR\n",
        "\n",
        "    data_cleaned[col] = data_cleaned[col].apply(\n",
        "        lambda x: lower_bound if x < lower_bound else (upper_bound if x > upper_bound else x)\n",
        "    )\n",
        "    print(f\"Kolom {col} telah diatasi outliersnya dengan IQR.\")"
      ],
      "metadata": {
        "id": "pg6jUwBcN82V"
      },
      "execution_count": null,
      "outputs": []
    },
    {
      "cell_type": "markdown",
      "source": [
        "#### Handling dengan Zscore"
      ],
      "metadata": {
        "id": "Wdb9Ly4DOT0J"
      }
    },
    {
      "cell_type": "markdown",
      "source": [
        "Ingat, handling dengan Zscore disini jika data yang berdistribusi normal atau mendekati normal (simetris) atau seimbang outliersnya antara kanan dan kiri.\n"
      ],
      "metadata": {
        "id": "A7F_30xxOLLr"
      }
    },
    {
      "cell_type": "code",
      "source": [
        "zscore_cols = ['FIXME']\n",
        "\n",
        "for col in zscore_cols:\n",
        "    mean = data_cleaned[col].mean()\n",
        "    std = data_cleaned[col].std()\n",
        "    threshold = 3  # z-score threshold\n",
        "\n",
        "    data_cleaned[col] = data_cleaned[col].apply(\n",
        "        lambda x: mean - threshold * std if (x - mean)/std < -threshold\n",
        "        else (mean + threshold * std if (x - mean)/std > threshold else x)\n",
        "    )\n",
        "    print(f\"Kolom {col} telah diatasi outliersnya dengan Z-score.\")"
      ],
      "metadata": {
        "id": "sqarosaFOR36"
      },
      "execution_count": null,
      "outputs": []
    },
    {
      "cell_type": "code",
      "source": [
        "df = data_cleaned"
      ],
      "metadata": {
        "id": "XhRIlew3PiSq"
      },
      "execution_count": null,
      "outputs": []
    },
    {
      "cell_type": "code",
      "source": [
        "# cek outlier dengan visualisasi (misalnya menggunakan boxplot)\n",
        "plt.figure(figsize=(15, 8))\n",
        "sns.boxplot(data=df.drop('selector', axis=1))\n",
        "plt.xticks(rotation=45)\n",
        "plt.title(\"Boxplot Semua Fitur\")\n",
        "plt.show()"
      ],
      "metadata": {
        "id": "T381Qs2YPprz"
      },
      "execution_count": null,
      "outputs": []
    },
    {
      "cell_type": "markdown",
      "source": [
        "### Mengubah kolom ke numerik"
      ],
      "metadata": {
        "id": "O11ROyoTbtw_"
      }
    },
    {
      "cell_type": "code",
      "source": [
        "from sklearn.preprocessing import LabelEncoder"
      ],
      "metadata": {
        "id": "vQLc-wllQcNr"
      },
      "execution_count": null,
      "outputs": []
    },
    {
      "cell_type": "code",
      "source": [
        "enc_cols = [\"FIXME\"]"
      ],
      "metadata": {
        "id": "ZVCzAChkQAJ3"
      },
      "execution_count": null,
      "outputs": []
    },
    {
      "cell_type": "code",
      "source": [
        "for col in enc_cols:\n",
        "    df[col] = LabelEncoder().fit_transform(df[col])"
      ],
      "metadata": {
        "id": "plxZN7JAbqHW"
      },
      "execution_count": null,
      "outputs": []
    },
    {
      "cell_type": "markdown",
      "source": [
        "### Heatmap Correlation"
      ],
      "metadata": {
        "id": "MmAOik6hTBA6"
      }
    },
    {
      "cell_type": "code",
      "source": [
        "# melihat korelasi antar fitur (heatmap)\n",
        "plt.figure(figsize=(12, 10))\n",
        "sns.heatmap(df.corr(), annot=True, cmap='coolwarm')\n",
        "plt.title(\"Heatmap Korelasi Fitur\")\n",
        "plt.show()"
      ],
      "metadata": {
        "id": "pmAaVlKVijkJ"
      },
      "execution_count": null,
      "outputs": []
    },
    {
      "cell_type": "markdown",
      "source": [
        "- PADA TAHAP SELANJUTNYA, SILAHKAN BANDINGKAN HASIL PEMODELAN KETIKA MENGGUNAKAN DATA YANG TELAH DIAUGMENTASI MENGGUNAKAN GAN DENGAN DATA YANG DIAUGMENTASI MENGGUNAKAN SMOTE.\n",
        "\n",
        "- SETELAH ITU, JAWAB PERTANYAAN BERIKUT:\n",
        "  - DARI RATA-RATA SEMUA MODEL YANG DIBANDINGKAN (RF, KNN, DAN LOGISTIC REGRESSION), AKURASI YANG DIDAPATKAN LEBIH TINGGI MENGGUNAKAN AUGMENTASI GAN ATAU SMOTE? : `ISI DI SINI`"
      ],
      "metadata": {
        "id": "X98UxED8itG5"
      }
    },
    {
      "cell_type": "markdown",
      "source": [
        "## BAB 7 – (J.62DMI00.010.1) menentukan label data"
      ],
      "metadata": {
        "id": "9pmDKoCJkgHM"
      }
    },
    {
      "cell_type": "markdown",
      "source": [
        "- Gunakan 3 nama variabel yang berbeda untuk proses splitting dataset berdasarkan metode augmentasi yang digunakan, yaitu untuk SMOTE dan GAN:\n",
        "\n",
        "*   Untuk dataset hasil augmentasi SMOTE:\n",
        "1. `X_smote` = Untuk menampung dataset yang telah diaugmentasi menggunakan SMOTE.\n",
        "2. `y_smote` = Untuk menampung target / kelas yang akan diprediksi dari dataset SMOTE.\n",
        "3. `X_train_smote, X_test_smote, y_train_smote, y_test_smote` = Untuk menampung data hasil train_test_split menggunakan `X_smote` dan `y_smote`.\n",
        "\n",
        "*  Untuk dataset hasil augmentasi GAN:\n",
        "1. `X_gan` = Untuk menampung dataset yang telah diaugmentasi menggunakan GAN.\n",
        "2. `y_gan` = Untuk menampung target / kelas yang akan diprediksi dari dataset GAN.\n",
        "3. `X_train_gan, X_test_gan, y_train_gan, y_test_gan` = Untuk menampung data hasil train_test_split menggunakan `X_gan` dan `y_gan`."
      ],
      "metadata": {
        "id": "7dfdUkdHkwWq"
      }
    },
    {
      "cell_type": "markdown",
      "source": [
        "- yang menjadi target adalah: `ISI DISINI`\n",
        "- yang menjadi fitur adalah : `ISI DISINI`"
      ],
      "metadata": {
        "id": "PA-WFyA3kjdy"
      }
    },
    {
      "cell_type": "code",
      "source": [
        "df.info()"
      ],
      "metadata": {
        "id": "BU5ddWLKTh_F"
      },
      "execution_count": null,
      "outputs": []
    },
    {
      "cell_type": "markdown",
      "source": [
        "### Splitting"
      ],
      "metadata": {
        "id": "vCMm8keqcqWe"
      }
    },
    {
      "cell_type": "markdown",
      "source": [
        "#### Splitting untuk GAN"
      ],
      "metadata": {
        "id": "y2QFQI57TLMR"
      }
    },
    {
      "cell_type": "code",
      "source": [
        "# memisalkah fitur dan target\n",
        "X_gan = df.drop(\"FIXME\", axis=1)\n",
        "y_gan = df[\"FIXME\"]"
      ],
      "metadata": {
        "id": "KAiDvgGkJTir"
      },
      "execution_count": null,
      "outputs": []
    },
    {
      "cell_type": "code",
      "source": [
        "# Splitting data untuk GAN\n",
        "X_train_gan, X_test_gan, y_train_gan, y_test_gan = train_test_split(\"FIXME\", \"FIXME\", stratify=y_gan, test_size=0.2, random_state=42)"
      ],
      "metadata": {
        "id": "_Bc6OGFemWVe"
      },
      "execution_count": null,
      "outputs": []
    },
    {
      "cell_type": "markdown",
      "source": [
        "#### Splitting untuk SMOTE"
      ],
      "metadata": {
        "id": "Vf6Kbu9mY91r"
      }
    },
    {
      "cell_type": "code",
      "source": [
        "# memisalkah fitur dan target\n",
        "X_smote = df.drop(\"FIXME\", axis=1)\n",
        "y_smote = df[\"FIXME\"]"
      ],
      "metadata": {
        "id": "ctX1qrJlY918"
      },
      "execution_count": null,
      "outputs": []
    },
    {
      "cell_type": "code",
      "source": [
        "# Splitting data untuk SMOTE\n",
        "X_train_smote, X_test_smote, y_train_smote, y_test_smote = train_test_split(\"FIXME\", \"FIXME\", stratify=y_smote, test_size=0.2, random_state=42)"
      ],
      "metadata": {
        "id": "byCgCTOXY91-"
      },
      "execution_count": null,
      "outputs": []
    },
    {
      "cell_type": "markdown",
      "source": [
        "### Balancing data Imbalance"
      ],
      "metadata": {
        "id": "gf5r1cspUMBb"
      }
    },
    {
      "cell_type": "code",
      "source": [
        "print(\"Distribusi kelas di train (original):\")\n",
        "print(y_train_smote.value_counts())\n",
        "sns.countplot(x=y_train_smote)\n",
        "plt.title(\"Distribusi Kelas Train Asli\")\n",
        "plt.show()"
      ],
      "metadata": {
        "id": "lnvZAOrsxEu2"
      },
      "execution_count": null,
      "outputs": []
    },
    {
      "cell_type": "markdown",
      "source": [
        "#### SMOTE"
      ],
      "metadata": {
        "id": "uPnpWi0iRMTU"
      }
    },
    {
      "cell_type": "code",
      "source": [
        "# karena jumlah kelas target tidak seimbang, kita akan melakukan resampling\n",
        "smote = \"FIXME\"(random_state=42)\n",
        "X_smote_resampled, y_smote_resampled = smote.fit_resample(\"FIXME\", y_train_smote)"
      ],
      "metadata": {
        "id": "T_TVZIrWiBh4"
      },
      "execution_count": null,
      "outputs": []
    },
    {
      "cell_type": "code",
      "source": [
        "# Tampilkan visualisasi persebaran kelas setelah melalui proses sampling\n",
        "print(\"Distribusi kelas setelah SMOTE:\")\n",
        "print(pd.Series(y_smote_resampled).value_counts())\n",
        "sns.countplot(x=y_smote_resampled)\n",
        "plt.title(\"Distribusi Kelas SMOTE\")\n",
        "plt.show()"
      ],
      "metadata": {
        "id": "iGWAoRMHEzUr"
      },
      "execution_count": null,
      "outputs": []
    },
    {
      "cell_type": "markdown",
      "source": [
        "#### GAN"
      ],
      "metadata": {
        "id": "CmI1vu26fw-1"
      }
    },
    {
      "cell_type": "code",
      "source": [
        "# Ubah ke DataFrame agar cocok dengan CTGAN\n",
        "X_train_gan_scaled_df = pd.DataFrame(X_train_gan, columns=X_train_gan.columns)\n",
        "X_train_gan_scaled_df['FIXME'] = y_train_gan.values\n",
        "\n",
        "# Mengambil data minoritas untuk dilatin dengan GAN\n",
        "minority_class = y_train_gan.value_counts().idxmin()\n",
        "minority_data = X_train_gan_scaled_df[X_train_gan_scaled_df['selector'] == minority_class]\n",
        "\n",
        "# Latih dengan CTGAN\n",
        "ctgan = CTGAN()\n",
        "ctgan.fit(minority_data)\n",
        "\n",
        "# Tentukan berapa data sintetis yang ingin dihasilkan\n",
        "minority_count = y_train_gan.value_counts().min()\n",
        "majority_count = y_train_gan.value_counts().max()\n",
        "n_samples_to_generate = majority_count - minority_count\n",
        "\n",
        "# Hasilkan data sintetis dari kelas minoritas\n",
        "synthetic_data = ctgan.sample(n_samples_to_generate)\n",
        "\n",
        "# Gabungkan kembali data sintetis dengan data asli\n",
        "augmented_train_data = pd.concat([X_train_gan_scaled_df, synthetic_data], ignore_index=True)\n",
        "\n",
        "# Pisahkan kembali fitur dan target setelah augmentasi\n",
        "X_gan_resampled = augmented_train_data.drop(columns='selector')\n",
        "y_gan_resampled = augmented_train_data['selector']"
      ],
      "metadata": {
        "id": "JxbbofQagtb3"
      },
      "execution_count": null,
      "outputs": []
    },
    {
      "cell_type": "code",
      "source": [
        "# Tampilkan visualisasi persebaran kelas setelah melalui proses sampling\n",
        "print(\"Distribusi kelas setelah GAN:\")\n",
        "print(pd.Series(y_gan_resampled).value_counts())\n",
        "sns.countplot(x=y_gan_resampled)\n",
        "plt.title(\"Distribusi Kelas GAN\")\n",
        "plt.show()"
      ],
      "metadata": {
        "id": "vPuYh9Zug5k4"
      },
      "execution_count": null,
      "outputs": []
    },
    {
      "cell_type": "markdown",
      "source": [
        "### Normalisasi"
      ],
      "metadata": {
        "id": "F9hldM1Rh8ch"
      }
    },
    {
      "cell_type": "markdown",
      "source": [
        "- ANDA PERLU MELAKUKAN NORMALISASI DISINI"
      ],
      "metadata": {
        "id": "dF7ZVb28l9dK"
      }
    },
    {
      "cell_type": "code",
      "source": [
        "# proses normalisasi / scalling\n",
        "scaler_smote = RobustScaler()\n",
        "X_train_smote_scaled = \"FIXME\".fit_transform(X_smote_resampled)\n",
        "X_test_smote_scaled = \"FIXME\".transform(X_test_smote)\n",
        "\n",
        "scaler_gan = RobustScaler()\n",
        "X_train_gan_scaled = \"FIXME\".fit_transform(X_gan_resampled)\n",
        "X_test_gan_scaled = \"FIXME\".transform(X_test_gan)"
      ],
      "metadata": {
        "id": "U5-3M0SUluwz"
      },
      "execution_count": null,
      "outputs": []
    },
    {
      "cell_type": "markdown",
      "source": [
        "- Dari pekerjaan Mengkonstruksi Data yang telah anda lakukan, bagaimana cara Anda menentukan fitur-fitur pada dataset anda perlu dinormalisasi atau tidak? : 'ISI DISINI'"
      ],
      "metadata": {
        "id": "hukyz1XKG56f"
      }
    },
    {
      "cell_type": "markdown",
      "source": [
        "## BAB 8 – (J.62DMI00.013.1) membangun model\n",
        "- BANGUN MODEL DENGAN MENGGUNAKAN ALGORITMA KLASIFIKASI SEPERTI RANDOM FOREST (RF), K-NEAREST NEIGHBOUR (KNN), DAN LOGISTIC REGRESSION (LR) UNTUK KEDUA DATASET (MEMAKAI AUGMENTASI GAN & MEMAKAI AUGMENTASI SMOTE)"
      ],
      "metadata": {
        "id": "pOd56ErQm89M"
      }
    },
    {
      "cell_type": "code",
      "source": [
        "def eval_model(model, X_train_data, y_train_data, X_test_data, y_test_data, model_name):\n",
        "    model.fit(X_train_data, y_train_data)\n",
        "    y_pred = model.predict(X_test_data)\n",
        "    print(f\"=== {model_name} ===\")\n",
        "    print(classification_report(y_test_data, y_pred))\n",
        "    sns.heatmap(confusion_matrix(y_test_data, y_pred), annot=True, fmt='d', cmap='viridis')\n",
        "    plt.title(f\"Confusion Matrix - {model_name}\")\n",
        "    plt.xlabel(\"Predicted\")\n",
        "    plt.ylabel(\"Actual\")\n",
        "    plt.show()"
      ],
      "metadata": {
        "id": "3QrAw2eFyupN"
      },
      "execution_count": null,
      "outputs": []
    },
    {
      "cell_type": "markdown",
      "source": [
        "### SVM"
      ],
      "metadata": {
        "id": "0JaVhl29n25a"
      }
    },
    {
      "cell_type": "code",
      "source": [
        "svm = \"FIXME\"(probability=True, random_state=42)\n",
        "\n",
        "print(\"SVM dengan SMOTE\")\n",
        "eval_model(svm, X_train_smote_scaled, y_smote_resampled, X_test_smote_scaled, y_test_smote, \"SVM - SMOTE\")"
      ],
      "metadata": {
        "id": "NXhQoxWDMXIA"
      },
      "execution_count": null,
      "outputs": []
    },
    {
      "cell_type": "code",
      "source": [
        "print(\"SVM dengan GAN\")\n",
        "eval_model(svm, \"FIXME\", y_gan_resampled, X_test_gan_scaled, y_test_gan, \"SVM - GAN\")"
      ],
      "metadata": {
        "id": "VxkhRaPRuYAy"
      },
      "execution_count": null,
      "outputs": []
    },
    {
      "cell_type": "markdown",
      "source": [
        "### Decision Tree"
      ],
      "metadata": {
        "id": "kJwXHhZsMMbn"
      }
    },
    {
      "cell_type": "code",
      "source": [
        "dt = \"FIXME\"(random_state=42)\n",
        "\n",
        "print(\"Decision Tree dengan SMOTE\")\n",
        "eval_model(dt, X_train_smote_scaled, \"FIXME\", X_test_smote_scaled, y_test_smote, \"Decision Tree - SMOTE\")\n"
      ],
      "metadata": {
        "id": "GYigYgp4n1DP"
      },
      "execution_count": null,
      "outputs": []
    },
    {
      "cell_type": "code",
      "source": [
        "print(\"Decision Tree dengan GAN\")\n",
        "eval_model(dt, X_train_gan_scaled, y_gan_resampled, X_test_gan_scaled, y_test_gan, \"Decision Tree - GAN\")"
      ],
      "metadata": {
        "id": "j80ruYW6vSzJ"
      },
      "execution_count": null,
      "outputs": []
    },
    {
      "cell_type": "markdown",
      "source": [
        "### KNN"
      ],
      "metadata": {
        "id": "TG3j2HyVoCIw"
      }
    },
    {
      "cell_type": "code",
      "source": [
        "knn = \"FIXME\"()\n",
        "\n",
        "print(\"KNN dengan SMOTE\")\n",
        "eval_model(knn, X_train_smote_scaled, y_smote_resampled, X_test_smote_scaled, y_test_smote, \"KNN - SMOTE\")\n"
      ],
      "metadata": {
        "id": "ufHf-O_7n87s"
      },
      "execution_count": null,
      "outputs": []
    },
    {
      "cell_type": "code",
      "source": [
        "print(\"KNN dengan GAN\")\n",
        "eval_model(knn, X_train_gan_scaled, y_gan_resampled, X_test_gan_scaled, y_test_gan, \"KNN - GAN\")"
      ],
      "metadata": {
        "id": "YpYTvnSQvs4t"
      },
      "execution_count": null,
      "outputs": []
    },
    {
      "cell_type": "markdown",
      "source": [
        "### Logistic Regression"
      ],
      "metadata": {
        "id": "fNjuj7Vivdgk"
      }
    },
    {
      "cell_type": "code",
      "source": [
        "logreg = \"FIXME\"(max_iter=1000, random_state=42)\n",
        "\n",
        "print(\"Logistic Regression dengan SMOTE\")\n",
        "eval_model(\"FIXME\", X_train_smote_scaled, y_smote_resampled, X_test_smote_scaled, y_test_smote, \"Logistic Regression - SMOTE\")\n"
      ],
      "metadata": {
        "id": "0OdPcxwOv0mf"
      },
      "execution_count": null,
      "outputs": []
    },
    {
      "cell_type": "code",
      "source": [
        "print(\"Logistic Regression dengan GAN\")\n",
        "eval_model(logreg, X_train_gan_scaled, y_gan_resampled, X_test_gan_scaled, y_test_gan, \"Logistic Regression - GAN\")"
      ],
      "metadata": {
        "id": "UW-9T3pFwZaS"
      },
      "execution_count": null,
      "outputs": []
    },
    {
      "cell_type": "markdown",
      "source": [
        "- Dari pekerjaan Membangun Model yang telah anda lakukan, bagaimana cara Anda meningkatkan hasil akurasi pada sebuah model? : `ISI DISINI`"
      ],
      "metadata": {
        "id": "lhgP-XO8GkTT"
      }
    },
    {
      "cell_type": "markdown",
      "source": [
        "## BAB 9 – (J.62DMI00.014.1) mengevaluasi hasil pemodelan\n",
        "- BANDINGKAN SEMUA MODEL UNTUK MENGETAHUI MODEL MANA YANG MEMILIKI AKURASI YANG TINGGI"
      ],
      "metadata": {
        "id": "epQAfmdtojYE"
      }
    },
    {
      "cell_type": "code",
      "source": [
        "# Inisialisasi model dasar\n",
        "svm = SVC(probability=True, random_state=42)\n",
        "dt = DecisionTreeClassifier(random_state=42)\n",
        "knn = KNeighborsClassifier()\n",
        "logreg = LogisticRegression(max_iter=1000, random_state=42)\n",
        "\n",
        "# SMOTE\n",
        "svm.fit(X_train_smote_scaled, y_smote_resampled)\n",
        "svm_smote_acc = accuracy_score(y_test_smote, svm.predict(X_test_smote_scaled))\n",
        "\n",
        "dt.fit(X_train_smote_scaled, y_smote_resampled)\n",
        "dt_smote_acc = accuracy_score(y_test_smote, dt.predict(X_test_smote_scaled))\n",
        "\n",
        "knn.fit(X_train_smote_scaled, y_smote_resampled)\n",
        "knn_smote_acc = accuracy_score(y_test_smote, knn.predict(X_test_smote_scaled))\n",
        "\n",
        "logreg.fit(X_train_smote_scaled, y_smote_resampled)\n",
        "logreg_smote_acc = accuracy_score(y_test_smote, logreg.predict(X_test_smote_scaled))\n",
        "\n",
        "# GAN\n",
        "svm.fit(X_train_gan_scaled, y_gan_resampled)\n",
        "svm_gan_acc = accuracy_score(y_test_gan, svm.predict(X_test_gan_scaled))\n",
        "\n",
        "dt.fit(X_train_gan_scaled, y_gan_resampled)\n",
        "dt_gan_acc = accuracy_score(y_test_gan, dt.predict(X_test_gan_scaled))\n",
        "\n",
        "knn.fit(X_train_gan_scaled, y_gan_resampled)\n",
        "knn_gan_acc = accuracy_score(y_test_gan, knn.predict(X_test_gan_scaled))\n",
        "\n",
        "logreg.fit(X_train_gan_scaled, y_gan_resampled)\n",
        "logreg_gan_acc = accuracy_score(y_test_gan, logreg.predict(X_test_gan_scaled))\n"
      ],
      "metadata": {
        "id": "NBs6_mreoLpA"
      },
      "execution_count": null,
      "outputs": []
    },
    {
      "cell_type": "code",
      "source": [
        "# Nama model\n",
        "model_names = [\n",
        "    'SVM (SMOTE)', 'DT (SMOTE)', 'KNN (SMOTE)', 'LogReg (SMOTE)',\n",
        "    'SVM (GAN)', 'DT (GAN)', 'KNN (GAN)', 'LogReg (GAN)'\n",
        "]\n",
        "\n",
        "# Akurasi dari semua model\n",
        "accuracies = [\n",
        "    svm_smote_acc, dt_smote_acc, knn_smote_acc, logreg_smote_acc,\n",
        "    svm_gan_acc, dt_gan_acc, knn_gan_acc, logreg_gan_acc\n",
        "]\n",
        "\n",
        "# Buat DataFrame untuk plotting\n",
        "df_result = pd.DataFrame({\n",
        "    'Model': model_names,\n",
        "    'Accuracy': accuracies,\n",
        "    'Augmentation': ['SMOTE'] * 4 + ['GAN'] * 4\n",
        "})\n",
        "\n",
        "# Plotting\n",
        "plt.figure(figsize=(10, 6))\n",
        "sns.barplot(x='Model', y='Accuracy', hue='Augmentation', data=df_result, palette='Set2')\n",
        "plt.title(\"Perbandingan Akurasi Model SMOTE VS GAN\")\n",
        "plt.ylabel(\"Akurasi\")\n",
        "plt.xlabel(\"Model\")\n",
        "plt.ylim(0.5)\n",
        "plt.xticks(rotation=30)\n",
        "plt.grid(axis='y', linestyle='--', alpha=0.7)\n",
        "plt.tight_layout()\n",
        "plt.show()\n"
      ],
      "metadata": {
        "id": "JEMkNbfh_FKj"
      },
      "execution_count": null,
      "outputs": []
    },
    {
      "cell_type": "markdown",
      "source": [
        "- MODEL YANG MEMILIKI AKURASI TINGGI ? : `ISI DISINI`\n",
        "- Dari pekerjaan Mengevaluasi Hasil Pemodelan yang telah anda lakukan, bagaimana cara Anda menentukan model yang lebih akurat dan terbaik dari beberapa model yang telah anda bangun? : `ISI DISINI`\n",
        "- Jelaskan"
      ],
      "metadata": {
        "id": "r3HDZ2EFtXQL"
      }
    },
    {
      "cell_type": "markdown",
      "source": [
        "## BAB 10 - Optimasi model klasifikasi\n"
      ],
      "metadata": {
        "id": "tsBQHvxtG4T2"
      }
    },
    {
      "cell_type": "markdown",
      "source": [
        "Pada bab ini, proses optimasi difokuskan pada model yang memiliki akurasi tertinggi berdasarkan hasil perbandingan antara dua metode augmentasi data, yaitu SMOTE dan GAN. Model dengan performa terbaik, baik dari segi akurasi maupun metrik evaluasi lainnya dipilih untuk dilakukan proses tuning lebih lanjut guna memperoleh hasil klasifikasi yang lebih optimal.\n",
        "Model apa yang memiliki akurasi lebih tinggi dari hasil perbandingan dua metode augmentasi? (MODEL AUGMENTASI GAN ATAU MODEL AUGMENTASI SMOTE?) `ISI DISINI`\n",
        "\n"
      ],
      "metadata": {
        "id": "GJgzMSSIUUM6"
      }
    },
    {
      "cell_type": "markdown",
      "source": [
        "### SVM"
      ],
      "metadata": {
        "id": "7l18acfJHKhy"
      }
    },
    {
      "cell_type": "code",
      "source": [
        "svm_params = {\n",
        "    'C': [0.1, 1, 10],\n",
        "    'kernel': ['linear', 'rbf']\n",
        "}\n"
      ],
      "metadata": {
        "id": "rVIypwvHHUdb"
      },
      "execution_count": null,
      "outputs": []
    },
    {
      "cell_type": "code",
      "source": [
        "\n",
        "svm_random = GridSearchCV(SVC(probability=True, random_state=42),\n",
        "                                \"FIXME\",\n",
        "                                cv=2, scoring='accuracy',\n",
        "                                n_jobs=-1,\n",
        "                                verbose=1)\n",
        "\"FIXME\".fit(X_train_gan_scaled, y_gan_resampled)\n",
        "best_svm = svm_random.best_estimator_\n",
        "y_svm_pred = \"FIXME\".predict(X_test_gan_scaled)"
      ],
      "metadata": {
        "id": "TccdIusZIUO1"
      },
      "execution_count": null,
      "outputs": []
    },
    {
      "cell_type": "code",
      "source": [
        "print(\"Optimized SVM - Best Parameters:\", svm_random.best_params_)\n",
        "print(\"FIXME\"(y_test_gan, y_svm_pred))\n",
        "\n",
        "sns.heatmap(confusion_matrix(y_test_gan, y_svm_pred), annot=True, fmt='d', cmap='viridis')\n",
        "plt.title(\"Confusion Matrix - Optimized SVM\")\n",
        "plt.xlabel(\"Predicted\")\n",
        "plt.ylabel(\"Actual\")\n",
        "plt.show()"
      ],
      "metadata": {
        "id": "SRIT7atsHjlc"
      },
      "execution_count": null,
      "outputs": []
    },
    {
      "cell_type": "markdown",
      "source": [
        "### Decision Tree"
      ],
      "metadata": {
        "id": "47HJVccFHOI_"
      }
    },
    {
      "cell_type": "code",
      "source": [
        "dt_params = {\n",
        "    'max_depth': [3, 5, 10, None],\n",
        "    'min_samples_split': [2, 5, 10],\n",
        "    'criterion': ['gini', 'entropy']\n",
        "}"
      ],
      "metadata": {
        "id": "TzyKf6LXJYOH"
      },
      "execution_count": null,
      "outputs": []
    },
    {
      "cell_type": "code",
      "source": [
        "dt_grid = GridSearchCV(DecisionTreeClassifier(random_state=42),\n",
        "                       \"FIXME\",\n",
        "                       cv=5,\n",
        "                       scoring='accuracy',\n",
        "                       n_jobs=-1,\n",
        "                       verbose=1)\n",
        "dt_grid.fit(X_train_gan_scaled, y_gan_resampled)\n",
        "\n",
        "best_dt = dt_grid.best_estimator_\n",
        "y_dt_pred = \"FIXME\".predict(X_test_gan_scaled)"
      ],
      "metadata": {
        "id": "7uZZ2ljxJb0N"
      },
      "execution_count": null,
      "outputs": []
    },
    {
      "cell_type": "code",
      "source": [
        "print(\"Optimized Decision Tree - Best Parameters:\", dt_grid.best_params_)\n",
        "print(classification_report(y_test_gan, y_dt_pred))\n",
        "\n",
        "sns.heatmap(\"FIXME\"(y_test_gan, y_dt_pred), annot=True, fmt='d', cmap='viridis')\n",
        "plt.title(\"Confusion Matrix - Optimized Decision Tree\")\n",
        "plt.xlabel(\"Predicted\")\n",
        "plt.ylabel(\"Actual\")\n",
        "plt.show()"
      ],
      "metadata": {
        "id": "i9Ho3Ry0KYdo"
      },
      "execution_count": null,
      "outputs": []
    },
    {
      "cell_type": "markdown",
      "source": [
        "### KNN"
      ],
      "metadata": {
        "id": "TyBw3hN0HQan"
      }
    },
    {
      "cell_type": "code",
      "source": [
        "knn_params = {\n",
        "    'n_neighbors': [3, 5, 7, 9],\n",
        "    'weights': ['uniform', 'distance'],\n",
        "    'metric': ['euclidean', 'manhattan']\n",
        "}"
      ],
      "metadata": {
        "id": "53Dx8bIxHHvh"
      },
      "execution_count": null,
      "outputs": []
    },
    {
      "cell_type": "code",
      "source": [
        "knn_grid = GridSearchCV(KNeighborsClassifier(), knn_params, cv=5, scoring='accuracy', n_jobs=-1)\n",
        "\"FIXME\".fit(X_train_gan_scaled, y_gan_resampled)\n",
        "\n",
        "best_knn = knn_grid.best_estimator_\n",
        "y_knn_pred = \"FIXME\".predict(X_test_gan_scaled)"
      ],
      "metadata": {
        "id": "K4_Tx6ZCM1dl"
      },
      "execution_count": null,
      "outputs": []
    },
    {
      "cell_type": "code",
      "source": [
        "print(\"Optimized KNN - Best Parameters:\", knn_grid.best_params_)\n",
        "print(classification_report(\"FIXME\", y_knn_pred))\n",
        "\n",
        "sns.heatmap(confusion_matrix(y_test_gan, y_knn_pred), annot=True, fmt='d', cmap='viridis')\n",
        "plt.title(\"Confusion Matrix - Optimized KNN\")\n",
        "plt.xlabel(\"Predicted\")\n",
        "plt.ylabel(\"Actual\")\n",
        "plt.show()"
      ],
      "metadata": {
        "id": "50glnGiWNr77"
      },
      "execution_count": null,
      "outputs": []
    },
    {
      "cell_type": "markdown",
      "source": [
        "### Logistic Regression"
      ],
      "metadata": {
        "id": "HXixhjYa1uMD"
      }
    },
    {
      "cell_type": "code",
      "source": [
        "lr_params = {\n",
        "    'C': [0.01, 0.1, 1, 10],\n",
        "    'solver': ['liblinear', 'lbfgs'],\n",
        "    'penalty': ['l2']\n",
        "}\n"
      ],
      "metadata": {
        "id": "J-1BeOTN1yZ4"
      },
      "execution_count": null,
      "outputs": []
    },
    {
      "cell_type": "code",
      "source": [
        "lr_grid = GridSearchCV(\"FIXME\"(max_iter=1000, random_state=42), lr_params, cv=5, scoring='accuracy', n_jobs=-1)\n",
        "lr_grid.fit(X_train_gan_scaled, y_gan_resampled)\n",
        "best_lr = \"FIXME\".best_estimator_\n",
        "y_lr_pred = best_lr.predict(X_test_gan_scaled)"
      ],
      "metadata": {
        "id": "9sSNMXNA13ZK"
      },
      "execution_count": null,
      "outputs": []
    },
    {
      "cell_type": "code",
      "source": [
        "print(\"Optimized Logistic Regression - Best Parameters:\", lr_grid.best_params_)\n",
        "print(classification_report(y_test_gan, \"FIXME\"))\n",
        "\n",
        "sns.heatmap(confusion_matrix(y_test_gan, y_lr_pred), annot=True, fmt='d', cmap='viridis')\n",
        "plt.title(\"Confusion Matrix - Optimized Logistic Regression\")\n",
        "plt.xlabel(\"Predicted\")\n",
        "plt.ylabel(\"Actual\")\n",
        "plt.show()"
      ],
      "metadata": {
        "id": "YrZrhVUy15z2"
      },
      "execution_count": null,
      "outputs": []
    },
    {
      "cell_type": "markdown",
      "source": [
        "### Model Comparison"
      ],
      "metadata": {
        "id": "dQYNfB8fPOxa"
      }
    },
    {
      "cell_type": "code",
      "source": [
        "# Akurasi SEBELUM Optimasi\n",
        "svm_base = SVC(probability=True, random_state=42)\n",
        "dt_base = DecisionTreeClassifier(random_state=42)\n",
        "knn_base = KNeighborsClassifier()\n",
        "logreg_base = LogisticRegression(max_iter=1000, random_state=42)\n",
        "\n",
        "svm_base.fit(X_train_gan_scaled, y_gan_resampled)\n",
        "svm_before_acc = accuracy_score(y_test_gan, svm_base.predict(X_test_gan_scaled))\n",
        "\n",
        "dt_base.fit(X_train_gan_scaled, y_gan_resampled)\n",
        "dt_before_acc = accuracy_score(y_test_gan, dt_base.predict(X_test_gan_scaled))\n",
        "\n",
        "knn_base.fit(X_train_gan_scaled, y_gan_resampled)\n",
        "knn_before_acc = accuracy_score(y_test_gan, knn_base.predict(X_test_gan_scaled))\n",
        "\n",
        "logreg_base.fit(X_train_gan_scaled, y_gan_resampled)\n",
        "logreg_before_acc = accuracy_score(y_test_gan, logreg_base.predict(X_test_gan_scaled))\n",
        "\n",
        "# Akurasi SESUDAH Optimasi GAN\n",
        "svm_after_acc = accuracy_score(y_test_gan, best_svm.predict(X_test_gan_scaled))\n",
        "dt_after_acc = accuracy_score(y_test_gan, best_dt.predict(X_test_gan_scaled))\n",
        "knn_after_acc = accuracy_score(y_test_gan, best_knn.predict(X_test_gan_scaled))\n",
        "logreg_after_acc = accuracy_score(y_test_gan, best_lr.predict(X_test_gan_scaled))\n"
      ],
      "metadata": {
        "id": "jEmztKMIPLm1"
      },
      "execution_count": null,
      "outputs": []
    },
    {
      "cell_type": "code",
      "source": [
        "compare_df = pd.DataFrame({\n",
        "    'Model': ['SVM', 'Decision Tree', 'KNN', 'Logistic Regression'] * 2,\n",
        "    'Accuracy': [svm_before_acc, dt_before_acc, knn_before_acc, logreg_before_acc,\n",
        "                 svm_after_acc, dt_after_acc, knn_after_acc, logreg_after_acc],\n",
        "    'Optimization': ['Before'] * 4 + ['After'] * 4\n",
        "})\n",
        "\n",
        "# plotting\n",
        "plt.figure(figsize=(12, 6))\n",
        "sns.barplot(data=compare_df, x='Model', y='Accuracy', hue='Optimization', palette='coolwarm')\n",
        "plt.title('Perbandingan Akurasi Sebelum dan Sesudah Optimasi (GAN)')\n",
        "plt.ylim(0.5)\n",
        "plt.xlabel(\"Model\")\n",
        "plt.ylabel(\"Accuracy\")\n",
        "plt.grid(axis='y', linestyle='--', alpha=0.7)\n",
        "plt.tight_layout()\n",
        "plt.show()"
      ],
      "metadata": {
        "id": "dgmWBjTosfzY"
      },
      "execution_count": null,
      "outputs": []
    },
    {
      "cell_type": "code",
      "source": [],
      "metadata": {
        "id": "dktGAd3F6zNZ"
      },
      "execution_count": null,
      "outputs": []
    }
  ]
}