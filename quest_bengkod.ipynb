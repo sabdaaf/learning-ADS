{
  "nbformat": 4,
  "nbformat_minor": 0,
  "metadata": {
    "colab": {
      "provenance": [],
      "authorship_tag": "ABX9TyMZeb8s2vOQHzCIW3PUDKWS",
      "include_colab_link": true
    },
    "kernelspec": {
      "name": "python3",
      "display_name": "Python 3"
    },
    "language_info": {
      "name": "python"
    }
  },
  "cells": [
    {
      "cell_type": "markdown",
      "metadata": {
        "id": "view-in-github",
        "colab_type": "text"
      },
      "source": [
        "<a href=\"https://colab.research.google.com/github/sabdaaf/learning-ADS/blob/main/quest_bengkod.ipynb\" target=\"_parent\"><img src=\"https://colab.research.google.com/assets/colab-badge.svg\" alt=\"Open In Colab\"/></a>"
      ]
    },
    {
      "cell_type": "code",
      "source": [
        "from sklearn.datasets import load_iris\n",
        "from sklearn.model_selection import train_test_split\n",
        "from sklearn.tree import DecisionTreeClassifier\n",
        "from sklearn.ensemble import RandomForestClassifier\n",
        "from sklearn.svm import SVC\n",
        "from sklearn.metrics import accuracy_score"
      ],
      "metadata": {
        "id": "FoNM070-4p5U"
      },
      "execution_count": 2,
      "outputs": []
    },
    {
      "cell_type": "code",
      "source": [
        "#Data Gathering: Mengambil dataset iris\n",
        "data = load_iris()\n",
        "X, y = data.data, data.target  # Fitur & label"
      ],
      "metadata": {
        "id": "mOPJVuB24xj2"
      },
      "execution_count": 3,
      "outputs": []
    },
    {
      "cell_type": "code",
      "source": [
        "#Data Parsing: Split data jadi Training & Testing\n",
        "X_train, X_test, y_train, y_test = train_test_split(X, y, test_size=0.2, random_state=42)"
      ],
      "metadata": {
        "id": "I1oAq6yJ5T3e"
      },
      "execution_count": 4,
      "outputs": []
    },
    {
      "cell_type": "code",
      "source": [
        "#Model Creation: Inisialisasi model yang akan diuji\n",
        "models = {\n",
        "    \"Decision Tree\": DecisionTreeClassifier(),\n",
        "    \"Random Forest\": RandomForestClassifier(n_estimators=100),\n",
        "    \"SVM\": SVC()\n",
        "}"
      ],
      "metadata": {
        "id": "dQQSLHcK5ZsT"
      },
      "execution_count": 5,
      "outputs": []
    },
    {
      "cell_type": "code",
      "source": [
        "#Accuracy Testing: Training dan evaluasi tiap model\n",
        "best_model = None\n",
        "best_accuracy = 0\n",
        "\n",
        "for name, model in models.items():\n",
        "    model.fit(X_train, y_train)  # Train model\n",
        "    y_pred = model.predict(X_test)  # Prediksi\n",
        "    acc = accuracy_score(y_test, y_pred)  # Hitung akurasi\n",
        "    print(f\"{name} Accuracy: {acc:.4f}\")\n",
        "\n",
        "    # Simpan model terbaik\n",
        "    if acc > best_accuracy:\n",
        "        best_accuracy = acc\n",
        "        best_model = name\n",
        "\n",
        "print(f\"\\n Model terbaik: {best_model} dengan akurasi {best_accuracy:.4f}\")"
      ],
      "metadata": {
        "colab": {
          "base_uri": "https://localhost:8080/"
        },
        "id": "4LuQ8I295kgo",
        "outputId": "98bfb38a-42b2-43b6-efa0-b7990f22a0e5"
      },
      "execution_count": 6,
      "outputs": [
        {
          "output_type": "stream",
          "name": "stdout",
          "text": [
            "Decision Tree Accuracy: 1.0000\n",
            "Random Forest Accuracy: 1.0000\n",
            "SVM Accuracy: 1.0000\n",
            "\n",
            " Model terbaik: Decision Tree dengan akurasi 1.0000\n"
          ]
        }
      ]
    }
  ]
}